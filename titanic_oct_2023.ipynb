{
 "cells": [
  {
   "cell_type": "markdown",
   "metadata": {
    "id": "JQtGMYgk45TZ"
   },
   "source": [
    "# Titanic Kaggle Challenge"
   ]
  },
  {
   "cell_type": "code",
   "execution_count": 905,
   "metadata": {
    "id": "loPBUt4Z5pCn"
   },
   "outputs": [
    {
     "name": "stdout",
     "output_type": "stream",
     "text": [
      "\u001b[33mDEPRECATION: pyodbc 4.0.0-unsupported has a non-standard version number. pip 23.3 will enforce this behaviour change. A possible replacement is to upgrade to a newer version of pyodbc or contact the author to suggest that they release a version with a conforming version number. Discussion can be found at https://github.com/pypa/pip/issues/12063\u001b[0m\u001b[33m\n",
      "\u001b[0m\n",
      "\u001b[1m[\u001b[0m\u001b[34;49mnotice\u001b[0m\u001b[1;39;49m]\u001b[0m\u001b[39;49m A new release of pip is available: \u001b[0m\u001b[31;49m23.2.1\u001b[0m\u001b[39;49m -> \u001b[0m\u001b[32;49m23.3.1\u001b[0m\n",
      "\u001b[1m[\u001b[0m\u001b[34;49mnotice\u001b[0m\u001b[1;39;49m]\u001b[0m\u001b[39;49m To update, run: \u001b[0m\u001b[32;49mpip install --upgrade pip\u001b[0m\n"
     ]
    }
   ],
   "source": [
    "# Import general libraries\n",
    "import pandas as pd\n",
    "import numpy as np\n",
    "import os\n",
    "import matplotlib.pyplot as plt\n",
    "%matplotlib inline\n",
    "!pip install -Uq seaborn\n",
    "import seaborn as sns\n",
    "\n",
    "# Import scikit-learn libraries\n",
    "from sklearn.preprocessing import MinMaxScaler\n",
    "from sklearn.model_selection import train_test_split, KFold, GridSearchCV, cross_val_score\n",
    "from sklearn.metrics import roc_curve, auc, accuracy_score, roc_auc_score, make_scorer\n",
    "from sklearn.metrics import confusion_matrix, precision_score, recall_score, f1_score\n",
    "# Algorithms\n",
    "from sklearn import linear_model\n",
    "from sklearn.linear_model import LogisticRegression, Perceptron, SGDClassifier\n",
    "from sklearn.ensemble import RandomForestClassifier\n",
    "from sklearn.tree import DecisionTreeClassifier, export_text\n",
    "from sklearn.neighbors import KNeighborsClassifier\n",
    "from sklearn.svm import SVC, LinearSVC\n",
    "from sklearn.naive_bayes import GaussianNB\n",
    "\n",
    "# Import keras libraries\n",
    "from keras.models import Sequential\n",
    "from keras.layers import Dense, Dropout\n",
    "from keras.losses import BinaryCrossentropy\n",
    "from keras.optimizers import Adam\n",
    "from keras.callbacks import ReduceLROnPlateau, EarlyStopping, ModelCheckpoint"
   ]
  },
  {
   "cell_type": "markdown",
   "metadata": {
    "id": "32jrSWcaHqiC"
   },
   "source": [
    "# Import Data\n",
    "Check if the training data exists and if not download it directly from Kaggle."
   ]
  },
  {
   "cell_type": "code",
   "execution_count": 906,
   "metadata": {
    "colab": {
     "base_uri": "https://localhost:8080/",
     "height": 110
    },
    "id": "yP9sw1_z8mi6",
    "outputId": "4fa2f600-79f2-47f2-f5b1-7bf680a9f0ef"
   },
   "outputs": [],
   "source": [
    "# This code block downloads the data from kaggle \n",
    "# to the local runtime filesystem when running on \n",
    "# Google Colab. \n",
    "\n",
    "# Set the platform \n",
    "environment_platform = 'local'\n",
    "#environment_platform = 'google_colab'\n",
    "\n",
    "file_path = '/content/train.csv'  # Google Colab path\n",
    "expected_file_size = 61194    # train csv file size\n",
    "\n",
    "def download_data_colab(file_path=file_path, expected_file_size=expected_file_size):\n",
    "  print('Importing training data from Kaggle')\n",
    "  # Install kaggle CLI\n",
    "  ! pip install -q kaggle\n",
    "\n",
    "  # Check if Kaggle API key exists\n",
    "  api_key_path = '/root/.kaggle/kaggle.json'\n",
    "  if not os.path.exists(api_key_path):\n",
    "    # Upload Kaggle API key\n",
    "    print('Upload kaggle.json with API keys')\n",
    "    print('To get a new kaggle.json file, login to kaggle.com, go to Settings -> Account -> API -> Create New Token.\\n')\n",
    "    from google.colab import files\n",
    "    files.upload()\n",
    "\n",
    "    # Set permissions\n",
    "    ! mkdir ~/.kaggle\n",
    "    ! mv kaggle.json ~/.kaggle\n",
    "    ! chmod 600 ~/.kaggle/kaggle.json\n",
    "\n",
    "  # Download data then unzip then remove download\n",
    "  ! kaggle competitions download -c titanic\n",
    "  ! unzip -o titanic.zip\n",
    "  ! rm titanic.zip\n",
    "\n",
    "  # Confirm the training data now exists\n",
    "  if not os.path.exists(file_path):\n",
    "    raise FileNotFoundError(f\"The training data '{file_path}' did not download\")\n",
    "  else:\n",
    "    file_size = os.path.getsize(file_path)\n",
    "    if file_size != expected_file_size:\n",
    "      raise ValueError(f'Training data \"{file_path}\" has an unexpected size. Expected size: {expected_file_size} bytes. Actual size: {file_size} bytes.')\n",
    "    else:\n",
    "      print(f'Training data \"{file_path}\" download OK')\n",
    "\n",
    "if environment_platform == 'google_colab':\n",
    "    # If training data does not exist then download it\n",
    "    if not os.path.exists(file_path):\n",
    "        download_data_colab(file_path=file_path, expected_file_size=expected_file_size)\n",
    "\n",
    "    # If training data is the wrong size re-download it\n",
    "    elif os.path.getsize(file_path) != expected_file_size:\n",
    "        download_data_colab(file_path=file_path, expected_file_size=expected_file_size)\n",
    "\n",
    "    # If training data looks good then move on\n",
    "    else:\n",
    "        print('Training data already exists ')\n"
   ]
  },
  {
   "cell_type": "markdown",
   "metadata": {
    "id": "oCo0v6TgK6LD"
   },
   "source": [
    "# Examine the Data\n",
    "It is important to examine the data and become familiar with the domain."
   ]
  },
  {
   "cell_type": "code",
   "execution_count": 907,
   "metadata": {
    "id": "J8HdXg3j6b4M"
   },
   "outputs": [],
   "source": [
    "# Load data into pandas\n",
    "train = pd.read_csv('train.csv')\n",
    "test = pd.read_csv('test.csv')"
   ]
  },
  {
   "cell_type": "code",
   "execution_count": 908,
   "metadata": {
    "id": "LxnAMXVevaLI"
   },
   "outputs": [],
   "source": [
    "# Format column name in lower case\n",
    "train.columns = train.columns.str.lower()\n",
    "test.columns = test.columns.str.lower()"
   ]
  },
  {
   "cell_type": "code",
   "execution_count": 909,
   "metadata": {
    "colab": {
     "base_uri": "https://localhost:8080/"
    },
    "id": "VN5mZYim6sDm",
    "outputId": "eac90389-e5e0-4762-f093-fbbfe338676c"
   },
   "outputs": [
    {
     "name": "stdout",
     "output_type": "stream",
     "text": [
      "          nans    percent\n",
      "age        177  19.865320\n",
      "cabin      687  77.104377\n",
      "embarked     2   0.224467\n",
      "       nans    percent\n",
      "age      86  20.574163\n",
      "fare      1   0.239234\n",
      "cabin   327  78.229665\n"
     ]
    }
   ],
   "source": [
    "# Calculate percentage of nans\n",
    "def missing_data(df):\n",
    "  nans = pd.DataFrame({'nans': df.isnull().sum()})\n",
    "  nans['percent'] = (nans['nans'] / len(df) * 100)\n",
    "  nans = nans[nans.percent > 0]\n",
    "  print(nans)\n",
    "\n",
    "missing_data(train)\n",
    "missing_data(test)"
   ]
  },
  {
   "cell_type": "markdown",
   "metadata": {
    "id": "52dpWMlBCxYp"
   },
   "source": [
    "The percentage of nans in each column of train and test is comparable. I will temporarily combine train and test get larger a sample size while I deal with missing values. "
   ]
  },
  {
   "cell_type": "code",
   "execution_count": 910,
   "metadata": {
    "id": "MHqTJ-sMDhlN"
   },
   "outputs": [],
   "source": [
    "# Combine data\n",
    "train['train'] = 1  # Set a flag for seperating out train and test later\n",
    "test['train'] = 0\n",
    "data = pd.concat([train, test])"
   ]
  },
  {
   "cell_type": "code",
   "execution_count": 911,
   "metadata": {},
   "outputs": [
    {
     "data": {
      "text/plain": [
       "0.3838383838383838"
      ]
     },
     "execution_count": 911,
     "metadata": {},
     "output_type": "execute_result"
    }
   ],
   "source": [
    "data.survived.mean()"
   ]
  },
  {
   "cell_type": "markdown",
   "metadata": {
    "id": "wk5dfvOHMoBa"
   },
   "source": [
    "Only 38% of passengers survived."
   ]
  },
  {
   "cell_type": "code",
   "execution_count": 912,
   "metadata": {
    "colab": {
     "base_uri": "https://localhost:8080/",
     "height": 175
    },
    "id": "fjIiD5gQMhtX",
    "outputId": "c8e3a1ef-4110-4638-ad7a-360bf9fd0ac6"
   },
   "outputs": [
    {
     "data": {
      "text/html": [
       "<div>\n",
       "<style scoped>\n",
       "    .dataframe tbody tr th:only-of-type {\n",
       "        vertical-align: middle;\n",
       "    }\n",
       "\n",
       "    .dataframe tbody tr th {\n",
       "        vertical-align: top;\n",
       "    }\n",
       "\n",
       "    .dataframe thead th {\n",
       "        text-align: right;\n",
       "    }\n",
       "</style>\n",
       "<table border=\"1\" class=\"dataframe\">\n",
       "  <thead>\n",
       "    <tr style=\"text-align: right;\">\n",
       "      <th></th>\n",
       "      <th>name</th>\n",
       "      <th>sex</th>\n",
       "      <th>ticket</th>\n",
       "      <th>cabin</th>\n",
       "      <th>embarked</th>\n",
       "    </tr>\n",
       "  </thead>\n",
       "  <tbody>\n",
       "    <tr>\n",
       "      <th>count</th>\n",
       "      <td>1309</td>\n",
       "      <td>1309</td>\n",
       "      <td>1309</td>\n",
       "      <td>295</td>\n",
       "      <td>1307</td>\n",
       "    </tr>\n",
       "    <tr>\n",
       "      <th>unique</th>\n",
       "      <td>1307</td>\n",
       "      <td>2</td>\n",
       "      <td>929</td>\n",
       "      <td>186</td>\n",
       "      <td>3</td>\n",
       "    </tr>\n",
       "    <tr>\n",
       "      <th>top</th>\n",
       "      <td>Connolly, Miss. Kate</td>\n",
       "      <td>male</td>\n",
       "      <td>CA. 2343</td>\n",
       "      <td>C23 C25 C27</td>\n",
       "      <td>S</td>\n",
       "    </tr>\n",
       "    <tr>\n",
       "      <th>freq</th>\n",
       "      <td>2</td>\n",
       "      <td>843</td>\n",
       "      <td>11</td>\n",
       "      <td>6</td>\n",
       "      <td>914</td>\n",
       "    </tr>\n",
       "  </tbody>\n",
       "</table>\n",
       "</div>"
      ],
      "text/plain": [
       "                        name   sex    ticket        cabin embarked\n",
       "count                   1309  1309      1309          295     1307\n",
       "unique                  1307     2       929          186        3\n",
       "top     Connolly, Miss. Kate  male  CA. 2343  C23 C25 C27        S\n",
       "freq                       2   843        11            6      914"
      ]
     },
     "execution_count": 912,
     "metadata": {},
     "output_type": "execute_result"
    }
   ],
   "source": [
    "data.describe(include=['O'])"
   ]
  },
  {
   "cell_type": "markdown",
   "metadata": {
    "id": "eKBaGAq1M7HM"
   },
   "source": [
    "There are two passengers named Miss Kate Connolly, but these look like different people. \n"
   ]
  },
  {
   "cell_type": "code",
   "execution_count": 913,
   "metadata": {
    "colab": {
     "base_uri": "https://localhost:8080/",
     "height": 112
    },
    "id": "hrT53STlOOZ-",
    "outputId": "90103aa7-677c-4c81-d8bb-24436505246b"
   },
   "outputs": [
    {
     "data": {
      "text/html": [
       "<div>\n",
       "<style scoped>\n",
       "    .dataframe tbody tr th:only-of-type {\n",
       "        vertical-align: middle;\n",
       "    }\n",
       "\n",
       "    .dataframe tbody tr th {\n",
       "        vertical-align: top;\n",
       "    }\n",
       "\n",
       "    .dataframe thead th {\n",
       "        text-align: right;\n",
       "    }\n",
       "</style>\n",
       "<table border=\"1\" class=\"dataframe\">\n",
       "  <thead>\n",
       "    <tr style=\"text-align: right;\">\n",
       "      <th></th>\n",
       "      <th>passengerid</th>\n",
       "      <th>survived</th>\n",
       "      <th>pclass</th>\n",
       "      <th>name</th>\n",
       "      <th>sex</th>\n",
       "      <th>age</th>\n",
       "      <th>sibsp</th>\n",
       "      <th>parch</th>\n",
       "      <th>ticket</th>\n",
       "      <th>fare</th>\n",
       "      <th>cabin</th>\n",
       "      <th>embarked</th>\n",
       "      <th>train</th>\n",
       "    </tr>\n",
       "  </thead>\n",
       "  <tbody>\n",
       "    <tr>\n",
       "      <th>289</th>\n",
       "      <td>290</td>\n",
       "      <td>1.0</td>\n",
       "      <td>3</td>\n",
       "      <td>Connolly, Miss. Kate</td>\n",
       "      <td>female</td>\n",
       "      <td>22.0</td>\n",
       "      <td>0</td>\n",
       "      <td>0</td>\n",
       "      <td>370373</td>\n",
       "      <td>7.7500</td>\n",
       "      <td>NaN</td>\n",
       "      <td>Q</td>\n",
       "      <td>1</td>\n",
       "    </tr>\n",
       "    <tr>\n",
       "      <th>6</th>\n",
       "      <td>898</td>\n",
       "      <td>NaN</td>\n",
       "      <td>3</td>\n",
       "      <td>Connolly, Miss. Kate</td>\n",
       "      <td>female</td>\n",
       "      <td>30.0</td>\n",
       "      <td>0</td>\n",
       "      <td>0</td>\n",
       "      <td>330972</td>\n",
       "      <td>7.6292</td>\n",
       "      <td>NaN</td>\n",
       "      <td>Q</td>\n",
       "      <td>0</td>\n",
       "    </tr>\n",
       "  </tbody>\n",
       "</table>\n",
       "</div>"
      ],
      "text/plain": [
       "     passengerid  survived  pclass                  name     sex   age  sibsp  \\\n",
       "289          290       1.0       3  Connolly, Miss. Kate  female  22.0      0   \n",
       "6            898       NaN       3  Connolly, Miss. Kate  female  30.0      0   \n",
       "\n",
       "     parch  ticket    fare cabin embarked  train  \n",
       "289      0  370373  7.7500   NaN        Q      1  \n",
       "6        0  330972  7.6292   NaN        Q      0  "
      ]
     },
     "execution_count": 913,
     "metadata": {},
     "output_type": "execute_result"
    }
   ],
   "source": [
    "data.loc[data.name == 'Connolly, Miss. Kate']"
   ]
  },
  {
   "cell_type": "markdown",
   "metadata": {
    "id": "zXX-kLDhQYzt"
   },
   "source": [
    "Both Kate Connollys are travelling without family members. Was it common for women to be travelling on the titanic alone?"
   ]
  },
  {
   "cell_type": "code",
   "execution_count": 914,
   "metadata": {
    "colab": {
     "base_uri": "https://localhost:8080/",
     "height": 318
    },
    "id": "Jbsc3KylNKb3",
    "outputId": "5339a733-6d8f-44ae-cdd5-d7ae9aea32b3"
   },
   "outputs": [
    {
     "name": "stdout",
     "output_type": "stream",
     "text": [
      "Number of passengers: 1309\n"
     ]
    },
    {
     "data": {
      "text/html": [
       "<div>\n",
       "<style scoped>\n",
       "    .dataframe tbody tr th:only-of-type {\n",
       "        vertical-align: middle;\n",
       "    }\n",
       "\n",
       "    .dataframe tbody tr th {\n",
       "        vertical-align: top;\n",
       "    }\n",
       "\n",
       "    .dataframe thead th {\n",
       "        text-align: right;\n",
       "    }\n",
       "</style>\n",
       "<table border=\"1\" class=\"dataframe\">\n",
       "  <thead>\n",
       "    <tr style=\"text-align: right;\">\n",
       "      <th></th>\n",
       "      <th>passengerid</th>\n",
       "      <th>survived</th>\n",
       "      <th>pclass</th>\n",
       "      <th>age</th>\n",
       "      <th>sibsp</th>\n",
       "      <th>parch</th>\n",
       "      <th>fare</th>\n",
       "      <th>train</th>\n",
       "    </tr>\n",
       "  </thead>\n",
       "  <tbody>\n",
       "    <tr>\n",
       "      <th>count</th>\n",
       "      <td>137.000000</td>\n",
       "      <td>89.000000</td>\n",
       "      <td>137.000000</td>\n",
       "      <td>137.000000</td>\n",
       "      <td>137.0</td>\n",
       "      <td>137.0</td>\n",
       "      <td>137.000000</td>\n",
       "      <td>137.000000</td>\n",
       "    </tr>\n",
       "    <tr>\n",
       "      <th>mean</th>\n",
       "      <td>666.861314</td>\n",
       "      <td>0.786517</td>\n",
       "      <td>2.051095</td>\n",
       "      <td>31.375912</td>\n",
       "      <td>0.0</td>\n",
       "      <td>0.0</td>\n",
       "      <td>46.727101</td>\n",
       "      <td>0.649635</td>\n",
       "    </tr>\n",
       "    <tr>\n",
       "      <th>std</th>\n",
       "      <td>374.725197</td>\n",
       "      <td>0.412088</td>\n",
       "      <td>0.860243</td>\n",
       "      <td>10.888604</td>\n",
       "      <td>0.0</td>\n",
       "      <td>0.0</td>\n",
       "      <td>73.081207</td>\n",
       "      <td>0.478835</td>\n",
       "    </tr>\n",
       "    <tr>\n",
       "      <th>min</th>\n",
       "      <td>3.000000</td>\n",
       "      <td>0.000000</td>\n",
       "      <td>1.000000</td>\n",
       "      <td>18.000000</td>\n",
       "      <td>0.0</td>\n",
       "      <td>0.0</td>\n",
       "      <td>6.750000</td>\n",
       "      <td>0.000000</td>\n",
       "    </tr>\n",
       "    <tr>\n",
       "      <th>25%</th>\n",
       "      <td>328.000000</td>\n",
       "      <td>1.000000</td>\n",
       "      <td>1.000000</td>\n",
       "      <td>23.000000</td>\n",
       "      <td>0.0</td>\n",
       "      <td>0.0</td>\n",
       "      <td>7.925000</td>\n",
       "      <td>0.000000</td>\n",
       "    </tr>\n",
       "    <tr>\n",
       "      <th>50%</th>\n",
       "      <td>707.000000</td>\n",
       "      <td>1.000000</td>\n",
       "      <td>2.000000</td>\n",
       "      <td>30.000000</td>\n",
       "      <td>0.0</td>\n",
       "      <td>0.0</td>\n",
       "      <td>13.000000</td>\n",
       "      <td>1.000000</td>\n",
       "    </tr>\n",
       "    <tr>\n",
       "      <th>75%</th>\n",
       "      <td>978.000000</td>\n",
       "      <td>1.000000</td>\n",
       "      <td>3.000000</td>\n",
       "      <td>36.000000</td>\n",
       "      <td>0.0</td>\n",
       "      <td>0.0</td>\n",
       "      <td>49.504200</td>\n",
       "      <td>1.000000</td>\n",
       "    </tr>\n",
       "    <tr>\n",
       "      <th>max</th>\n",
       "      <td>1306.000000</td>\n",
       "      <td>1.000000</td>\n",
       "      <td>3.000000</td>\n",
       "      <td>63.000000</td>\n",
       "      <td>0.0</td>\n",
       "      <td>0.0</td>\n",
       "      <td>512.329200</td>\n",
       "      <td>1.000000</td>\n",
       "    </tr>\n",
       "  </tbody>\n",
       "</table>\n",
       "</div>"
      ],
      "text/plain": [
       "       passengerid   survived      pclass         age  sibsp  parch  \\\n",
       "count   137.000000  89.000000  137.000000  137.000000  137.0  137.0   \n",
       "mean    666.861314   0.786517    2.051095   31.375912    0.0    0.0   \n",
       "std     374.725197   0.412088    0.860243   10.888604    0.0    0.0   \n",
       "min       3.000000   0.000000    1.000000   18.000000    0.0    0.0   \n",
       "25%     328.000000   1.000000    1.000000   23.000000    0.0    0.0   \n",
       "50%     707.000000   1.000000    2.000000   30.000000    0.0    0.0   \n",
       "75%     978.000000   1.000000    3.000000   36.000000    0.0    0.0   \n",
       "max    1306.000000   1.000000    3.000000   63.000000    0.0    0.0   \n",
       "\n",
       "             fare       train  \n",
       "count  137.000000  137.000000  \n",
       "mean    46.727101    0.649635  \n",
       "std     73.081207    0.478835  \n",
       "min      6.750000    0.000000  \n",
       "25%      7.925000    0.000000  \n",
       "50%     13.000000    1.000000  \n",
       "75%     49.504200    1.000000  \n",
       "max    512.329200    1.000000  "
      ]
     },
     "execution_count": 914,
     "metadata": {},
     "output_type": "execute_result"
    }
   ],
   "source": [
    "print(f'Number of passengers: {len(data)}')\n",
    "data.loc[(data.sex == 'female') & (data.parch == 0) & (data.sibsp == 0) & (data.age >= 18)].describe()"
   ]
  },
  {
   "cell_type": "markdown",
   "metadata": {
    "id": "9HuoPddtWGx2"
   },
   "source": [
    "Out of 1,309 total passengers, there were 137 women aged 18+ travelling without stated family members (approx 10% of all passengers). At least 25% of those were travelling first class and at least 50% first or second class. 79% survived."
   ]
  },
  {
   "cell_type": "markdown",
   "metadata": {
    "id": "-pdMpg1qYLI3"
   },
   "source": [
    "## Family Groups\n",
    "### Anna Ward\n",
    "One of the female passengers travelling alone has the most expensive fare (£512)."
   ]
  },
  {
   "cell_type": "code",
   "execution_count": 915,
   "metadata": {
    "colab": {
     "base_uri": "https://localhost:8080/",
     "height": 175
    },
    "id": "SM74_b5FWGb1",
    "outputId": "16cb2a34-ac4f-4131-e7fe-e379fac9f442"
   },
   "outputs": [
    {
     "data": {
      "text/html": [
       "<div>\n",
       "<style scoped>\n",
       "    .dataframe tbody tr th:only-of-type {\n",
       "        vertical-align: middle;\n",
       "    }\n",
       "\n",
       "    .dataframe tbody tr th {\n",
       "        vertical-align: top;\n",
       "    }\n",
       "\n",
       "    .dataframe thead th {\n",
       "        text-align: right;\n",
       "    }\n",
       "</style>\n",
       "<table border=\"1\" class=\"dataframe\">\n",
       "  <thead>\n",
       "    <tr style=\"text-align: right;\">\n",
       "      <th></th>\n",
       "      <th>passengerid</th>\n",
       "      <th>survived</th>\n",
       "      <th>pclass</th>\n",
       "      <th>name</th>\n",
       "      <th>sex</th>\n",
       "      <th>age</th>\n",
       "      <th>sibsp</th>\n",
       "      <th>parch</th>\n",
       "      <th>ticket</th>\n",
       "      <th>fare</th>\n",
       "      <th>cabin</th>\n",
       "      <th>embarked</th>\n",
       "      <th>train</th>\n",
       "    </tr>\n",
       "  </thead>\n",
       "  <tbody>\n",
       "    <tr>\n",
       "      <th>258</th>\n",
       "      <td>259</td>\n",
       "      <td>1.0</td>\n",
       "      <td>1</td>\n",
       "      <td>Ward, Miss. Anna</td>\n",
       "      <td>female</td>\n",
       "      <td>35.0</td>\n",
       "      <td>0</td>\n",
       "      <td>0</td>\n",
       "      <td>PC 17755</td>\n",
       "      <td>512.3292</td>\n",
       "      <td>NaN</td>\n",
       "      <td>C</td>\n",
       "      <td>1</td>\n",
       "    </tr>\n",
       "    <tr>\n",
       "      <th>679</th>\n",
       "      <td>680</td>\n",
       "      <td>1.0</td>\n",
       "      <td>1</td>\n",
       "      <td>Cardeza, Mr. Thomas Drake Martinez</td>\n",
       "      <td>male</td>\n",
       "      <td>36.0</td>\n",
       "      <td>0</td>\n",
       "      <td>1</td>\n",
       "      <td>PC 17755</td>\n",
       "      <td>512.3292</td>\n",
       "      <td>B51 B53 B55</td>\n",
       "      <td>C</td>\n",
       "      <td>1</td>\n",
       "    </tr>\n",
       "    <tr>\n",
       "      <th>737</th>\n",
       "      <td>738</td>\n",
       "      <td>1.0</td>\n",
       "      <td>1</td>\n",
       "      <td>Lesurer, Mr. Gustave J</td>\n",
       "      <td>male</td>\n",
       "      <td>35.0</td>\n",
       "      <td>0</td>\n",
       "      <td>0</td>\n",
       "      <td>PC 17755</td>\n",
       "      <td>512.3292</td>\n",
       "      <td>B101</td>\n",
       "      <td>C</td>\n",
       "      <td>1</td>\n",
       "    </tr>\n",
       "    <tr>\n",
       "      <th>343</th>\n",
       "      <td>1235</td>\n",
       "      <td>NaN</td>\n",
       "      <td>1</td>\n",
       "      <td>Cardeza, Mrs. James Warburton Martinez (Charlo...</td>\n",
       "      <td>female</td>\n",
       "      <td>58.0</td>\n",
       "      <td>0</td>\n",
       "      <td>1</td>\n",
       "      <td>PC 17755</td>\n",
       "      <td>512.3292</td>\n",
       "      <td>B51 B53 B55</td>\n",
       "      <td>C</td>\n",
       "      <td>0</td>\n",
       "    </tr>\n",
       "  </tbody>\n",
       "</table>\n",
       "</div>"
      ],
      "text/plain": [
       "     passengerid  survived  pclass  \\\n",
       "258          259       1.0       1   \n",
       "679          680       1.0       1   \n",
       "737          738       1.0       1   \n",
       "343         1235       NaN       1   \n",
       "\n",
       "                                                  name     sex   age  sibsp  \\\n",
       "258                                   Ward, Miss. Anna  female  35.0      0   \n",
       "679                 Cardeza, Mr. Thomas Drake Martinez    male  36.0      0   \n",
       "737                             Lesurer, Mr. Gustave J    male  35.0      0   \n",
       "343  Cardeza, Mrs. James Warburton Martinez (Charlo...  female  58.0      0   \n",
       "\n",
       "     parch    ticket      fare        cabin embarked  train  \n",
       "258      0  PC 17755  512.3292          NaN        C      1  \n",
       "679      1  PC 17755  512.3292  B51 B53 B55        C      1  \n",
       "737      0  PC 17755  512.3292         B101        C      1  \n",
       "343      1  PC 17755  512.3292  B51 B53 B55        C      0  "
      ]
     },
     "execution_count": 915,
     "metadata": {},
     "output_type": "execute_result"
    }
   ],
   "source": [
    "data.loc[(data.fare > 512)]"
   ]
  },
  {
   "cell_type": "markdown",
   "metadata": {
    "id": "sgVAQQXAWTNX"
   },
   "source": [
    "An Internet search on \"Anna Ward\" shows that she was the personal maid to wealthy widow Charlotte Drake Cardeza. A group of four passengers all travelled on the same ticket, \"PC 17755\". Anna, Charlotte, Thomas (Charlotte's son) and Gustave Lesurer (Thomas' manservant).\n",
    "\n",
    "It is not clear from the data whether the fare was paid per passenger or for the entire group. It looks like Charlotte and Thomas had a suite of cabins (B51, B53 and B55), Gustave had cabin B101 there are no data on the cabin Anna used.\n",
    "\n",
    "This highlights some challenges with the data. The fare associated with Anna is skewing the average fare paid by women travelling alone (is it even true to say that Anna was travelling alone?). Perhaps there were other passengers travelling in groups that do not have a parent/child or sibling/spouce relationship recorded in the data.\n",
    "\n",
    "All four members of the Cardeza party escaped on lifeboat number 3 and survived."
   ]
  },
  {
   "cell_type": "markdown",
   "metadata": {
    "id": "XUxuFlI4XSjz"
   },
   "source": [
    "### Contrasting Travelling Parties\n",
    "Exploring further the nature of cabin sharing shows contrasting travel arrangements. The cabins shared by the most occupants are \"C23 C25 C27\", with six occupants and G6 and \"B57 B59 B63 B66\", with five."
   ]
  },
  {
   "cell_type": "code",
   "execution_count": 916,
   "metadata": {
    "colab": {
     "base_uri": "https://localhost:8080/"
    },
    "id": "-U30rh1FXOmj",
    "outputId": "17821bb9-045b-495f-e177-2423a3b4f4b2"
   },
   "outputs": [
    {
     "data": {
      "text/plain": [
       "C23 C25 C27        6\n",
       "G6                 5\n",
       "B57 B59 B63 B66    5\n",
       "C22 C26            4\n",
       "F33                4\n",
       "Name: cabin, dtype: int64"
      ]
     },
     "execution_count": 916,
     "metadata": {},
     "output_type": "execute_result"
    }
   ],
   "source": [
    "data.cabin.value_counts().head()"
   ]
  },
  {
   "cell_type": "code",
   "execution_count": 917,
   "metadata": {
    "colab": {
     "base_uri": "https://localhost:8080/",
     "height": 238
    },
    "id": "hZru7CQ0X7Rp",
    "outputId": "3eba2f80-7151-403b-fe17-be1de4d2d43e"
   },
   "outputs": [
    {
     "data": {
      "text/html": [
       "<div>\n",
       "<style scoped>\n",
       "    .dataframe tbody tr th:only-of-type {\n",
       "        vertical-align: middle;\n",
       "    }\n",
       "\n",
       "    .dataframe tbody tr th {\n",
       "        vertical-align: top;\n",
       "    }\n",
       "\n",
       "    .dataframe thead th {\n",
       "        text-align: right;\n",
       "    }\n",
       "</style>\n",
       "<table border=\"1\" class=\"dataframe\">\n",
       "  <thead>\n",
       "    <tr style=\"text-align: right;\">\n",
       "      <th></th>\n",
       "      <th>passengerid</th>\n",
       "      <th>survived</th>\n",
       "      <th>pclass</th>\n",
       "      <th>name</th>\n",
       "      <th>sex</th>\n",
       "      <th>age</th>\n",
       "      <th>sibsp</th>\n",
       "      <th>parch</th>\n",
       "      <th>ticket</th>\n",
       "      <th>fare</th>\n",
       "      <th>cabin</th>\n",
       "      <th>embarked</th>\n",
       "      <th>train</th>\n",
       "    </tr>\n",
       "  </thead>\n",
       "  <tbody>\n",
       "    <tr>\n",
       "      <th>27</th>\n",
       "      <td>28</td>\n",
       "      <td>0.0</td>\n",
       "      <td>1</td>\n",
       "      <td>Fortune, Mr. Charles Alexander</td>\n",
       "      <td>male</td>\n",
       "      <td>19.0</td>\n",
       "      <td>3</td>\n",
       "      <td>2</td>\n",
       "      <td>19950</td>\n",
       "      <td>263.0</td>\n",
       "      <td>C23 C25 C27</td>\n",
       "      <td>S</td>\n",
       "      <td>1</td>\n",
       "    </tr>\n",
       "    <tr>\n",
       "      <th>88</th>\n",
       "      <td>89</td>\n",
       "      <td>1.0</td>\n",
       "      <td>1</td>\n",
       "      <td>Fortune, Miss. Mabel Helen</td>\n",
       "      <td>female</td>\n",
       "      <td>23.0</td>\n",
       "      <td>3</td>\n",
       "      <td>2</td>\n",
       "      <td>19950</td>\n",
       "      <td>263.0</td>\n",
       "      <td>C23 C25 C27</td>\n",
       "      <td>S</td>\n",
       "      <td>1</td>\n",
       "    </tr>\n",
       "    <tr>\n",
       "      <th>341</th>\n",
       "      <td>342</td>\n",
       "      <td>1.0</td>\n",
       "      <td>1</td>\n",
       "      <td>Fortune, Miss. Alice Elizabeth</td>\n",
       "      <td>female</td>\n",
       "      <td>24.0</td>\n",
       "      <td>3</td>\n",
       "      <td>2</td>\n",
       "      <td>19950</td>\n",
       "      <td>263.0</td>\n",
       "      <td>C23 C25 C27</td>\n",
       "      <td>S</td>\n",
       "      <td>1</td>\n",
       "    </tr>\n",
       "    <tr>\n",
       "      <th>438</th>\n",
       "      <td>439</td>\n",
       "      <td>0.0</td>\n",
       "      <td>1</td>\n",
       "      <td>Fortune, Mr. Mark</td>\n",
       "      <td>male</td>\n",
       "      <td>64.0</td>\n",
       "      <td>1</td>\n",
       "      <td>4</td>\n",
       "      <td>19950</td>\n",
       "      <td>263.0</td>\n",
       "      <td>C23 C25 C27</td>\n",
       "      <td>S</td>\n",
       "      <td>1</td>\n",
       "    </tr>\n",
       "    <tr>\n",
       "      <th>53</th>\n",
       "      <td>945</td>\n",
       "      <td>NaN</td>\n",
       "      <td>1</td>\n",
       "      <td>Fortune, Miss. Ethel Flora</td>\n",
       "      <td>female</td>\n",
       "      <td>28.0</td>\n",
       "      <td>3</td>\n",
       "      <td>2</td>\n",
       "      <td>19950</td>\n",
       "      <td>263.0</td>\n",
       "      <td>C23 C25 C27</td>\n",
       "      <td>S</td>\n",
       "      <td>0</td>\n",
       "    </tr>\n",
       "    <tr>\n",
       "      <th>69</th>\n",
       "      <td>961</td>\n",
       "      <td>NaN</td>\n",
       "      <td>1</td>\n",
       "      <td>Fortune, Mrs. Mark (Mary McDougald)</td>\n",
       "      <td>female</td>\n",
       "      <td>60.0</td>\n",
       "      <td>1</td>\n",
       "      <td>4</td>\n",
       "      <td>19950</td>\n",
       "      <td>263.0</td>\n",
       "      <td>C23 C25 C27</td>\n",
       "      <td>S</td>\n",
       "      <td>0</td>\n",
       "    </tr>\n",
       "  </tbody>\n",
       "</table>\n",
       "</div>"
      ],
      "text/plain": [
       "     passengerid  survived  pclass                                 name  \\\n",
       "27            28       0.0       1       Fortune, Mr. Charles Alexander   \n",
       "88            89       1.0       1           Fortune, Miss. Mabel Helen   \n",
       "341          342       1.0       1       Fortune, Miss. Alice Elizabeth   \n",
       "438          439       0.0       1                    Fortune, Mr. Mark   \n",
       "53           945       NaN       1           Fortune, Miss. Ethel Flora   \n",
       "69           961       NaN       1  Fortune, Mrs. Mark (Mary McDougald)   \n",
       "\n",
       "        sex   age  sibsp  parch ticket   fare        cabin embarked  train  \n",
       "27     male  19.0      3      2  19950  263.0  C23 C25 C27        S      1  \n",
       "88   female  23.0      3      2  19950  263.0  C23 C25 C27        S      1  \n",
       "341  female  24.0      3      2  19950  263.0  C23 C25 C27        S      1  \n",
       "438    male  64.0      1      4  19950  263.0  C23 C25 C27        S      1  \n",
       "53   female  28.0      3      2  19950  263.0  C23 C25 C27        S      0  \n",
       "69   female  60.0      1      4  19950  263.0  C23 C25 C27        S      0  "
      ]
     },
     "execution_count": 917,
     "metadata": {},
     "output_type": "execute_result"
    }
   ],
   "source": [
    "data.loc[(data.cabin == 'C23 C25 C27')]"
   ]
  },
  {
   "cell_type": "code",
   "execution_count": 918,
   "metadata": {
    "colab": {
     "base_uri": "https://localhost:8080/",
     "height": 206
    },
    "id": "ahLDssnXZjkr",
    "outputId": "cac09c37-5bd5-4205-c74d-5cc17b1baf10"
   },
   "outputs": [
    {
     "data": {
      "text/html": [
       "<div>\n",
       "<style scoped>\n",
       "    .dataframe tbody tr th:only-of-type {\n",
       "        vertical-align: middle;\n",
       "    }\n",
       "\n",
       "    .dataframe tbody tr th {\n",
       "        vertical-align: top;\n",
       "    }\n",
       "\n",
       "    .dataframe thead th {\n",
       "        text-align: right;\n",
       "    }\n",
       "</style>\n",
       "<table border=\"1\" class=\"dataframe\">\n",
       "  <thead>\n",
       "    <tr style=\"text-align: right;\">\n",
       "      <th></th>\n",
       "      <th>passengerid</th>\n",
       "      <th>survived</th>\n",
       "      <th>pclass</th>\n",
       "      <th>name</th>\n",
       "      <th>sex</th>\n",
       "      <th>age</th>\n",
       "      <th>sibsp</th>\n",
       "      <th>parch</th>\n",
       "      <th>ticket</th>\n",
       "      <th>fare</th>\n",
       "      <th>cabin</th>\n",
       "      <th>embarked</th>\n",
       "      <th>train</th>\n",
       "    </tr>\n",
       "  </thead>\n",
       "  <tbody>\n",
       "    <tr>\n",
       "      <th>311</th>\n",
       "      <td>312</td>\n",
       "      <td>1.0</td>\n",
       "      <td>1</td>\n",
       "      <td>Ryerson, Miss. Emily Borie</td>\n",
       "      <td>female</td>\n",
       "      <td>18.0</td>\n",
       "      <td>2</td>\n",
       "      <td>2</td>\n",
       "      <td>PC 17608</td>\n",
       "      <td>262.375</td>\n",
       "      <td>B57 B59 B63 B66</td>\n",
       "      <td>C</td>\n",
       "      <td>1</td>\n",
       "    </tr>\n",
       "    <tr>\n",
       "      <th>742</th>\n",
       "      <td>743</td>\n",
       "      <td>1.0</td>\n",
       "      <td>1</td>\n",
       "      <td>Ryerson, Miss. Susan Parker \"Suzette\"</td>\n",
       "      <td>female</td>\n",
       "      <td>21.0</td>\n",
       "      <td>2</td>\n",
       "      <td>2</td>\n",
       "      <td>PC 17608</td>\n",
       "      <td>262.375</td>\n",
       "      <td>B57 B59 B63 B66</td>\n",
       "      <td>C</td>\n",
       "      <td>1</td>\n",
       "    </tr>\n",
       "    <tr>\n",
       "      <th>24</th>\n",
       "      <td>916</td>\n",
       "      <td>NaN</td>\n",
       "      <td>1</td>\n",
       "      <td>Ryerson, Mrs. Arthur Larned (Emily Maria Borie)</td>\n",
       "      <td>female</td>\n",
       "      <td>48.0</td>\n",
       "      <td>1</td>\n",
       "      <td>3</td>\n",
       "      <td>PC 17608</td>\n",
       "      <td>262.375</td>\n",
       "      <td>B57 B59 B63 B66</td>\n",
       "      <td>C</td>\n",
       "      <td>0</td>\n",
       "    </tr>\n",
       "    <tr>\n",
       "      <th>64</th>\n",
       "      <td>956</td>\n",
       "      <td>NaN</td>\n",
       "      <td>1</td>\n",
       "      <td>Ryerson, Master. John Borie</td>\n",
       "      <td>male</td>\n",
       "      <td>13.0</td>\n",
       "      <td>2</td>\n",
       "      <td>2</td>\n",
       "      <td>PC 17608</td>\n",
       "      <td>262.375</td>\n",
       "      <td>B57 B59 B63 B66</td>\n",
       "      <td>C</td>\n",
       "      <td>0</td>\n",
       "    </tr>\n",
       "    <tr>\n",
       "      <th>142</th>\n",
       "      <td>1034</td>\n",
       "      <td>NaN</td>\n",
       "      <td>1</td>\n",
       "      <td>Ryerson, Mr. Arthur Larned</td>\n",
       "      <td>male</td>\n",
       "      <td>61.0</td>\n",
       "      <td>1</td>\n",
       "      <td>3</td>\n",
       "      <td>PC 17608</td>\n",
       "      <td>262.375</td>\n",
       "      <td>B57 B59 B63 B66</td>\n",
       "      <td>C</td>\n",
       "      <td>0</td>\n",
       "    </tr>\n",
       "  </tbody>\n",
       "</table>\n",
       "</div>"
      ],
      "text/plain": [
       "     passengerid  survived  pclass  \\\n",
       "311          312       1.0       1   \n",
       "742          743       1.0       1   \n",
       "24           916       NaN       1   \n",
       "64           956       NaN       1   \n",
       "142         1034       NaN       1   \n",
       "\n",
       "                                                name     sex   age  sibsp  \\\n",
       "311                       Ryerson, Miss. Emily Borie  female  18.0      2   \n",
       "742            Ryerson, Miss. Susan Parker \"Suzette\"  female  21.0      2   \n",
       "24   Ryerson, Mrs. Arthur Larned (Emily Maria Borie)  female  48.0      1   \n",
       "64                       Ryerson, Master. John Borie    male  13.0      2   \n",
       "142                       Ryerson, Mr. Arthur Larned    male  61.0      1   \n",
       "\n",
       "     parch    ticket     fare            cabin embarked  train  \n",
       "311      2  PC 17608  262.375  B57 B59 B63 B66        C      1  \n",
       "742      2  PC 17608  262.375  B57 B59 B63 B66        C      1  \n",
       "24       3  PC 17608  262.375  B57 B59 B63 B66        C      0  \n",
       "64       2  PC 17608  262.375  B57 B59 B63 B66        C      0  \n",
       "142      3  PC 17608  262.375  B57 B59 B63 B66        C      0  "
      ]
     },
     "execution_count": 918,
     "metadata": {},
     "output_type": "execute_result"
    }
   ],
   "source": [
    "data.loc[(data.cabin == 'B57 B59 B63 B66')]"
   ]
  },
  {
   "cell_type": "code",
   "execution_count": 919,
   "metadata": {
    "colab": {
     "base_uri": "https://localhost:8080/",
     "height": 206
    },
    "id": "GH91P9BJY4ni",
    "outputId": "fe20881b-95b6-4746-8c61-ba0beec978e9"
   },
   "outputs": [
    {
     "data": {
      "text/html": [
       "<div>\n",
       "<style scoped>\n",
       "    .dataframe tbody tr th:only-of-type {\n",
       "        vertical-align: middle;\n",
       "    }\n",
       "\n",
       "    .dataframe tbody tr th {\n",
       "        vertical-align: top;\n",
       "    }\n",
       "\n",
       "    .dataframe thead th {\n",
       "        text-align: right;\n",
       "    }\n",
       "</style>\n",
       "<table border=\"1\" class=\"dataframe\">\n",
       "  <thead>\n",
       "    <tr style=\"text-align: right;\">\n",
       "      <th></th>\n",
       "      <th>passengerid</th>\n",
       "      <th>survived</th>\n",
       "      <th>pclass</th>\n",
       "      <th>name</th>\n",
       "      <th>sex</th>\n",
       "      <th>age</th>\n",
       "      <th>sibsp</th>\n",
       "      <th>parch</th>\n",
       "      <th>ticket</th>\n",
       "      <th>fare</th>\n",
       "      <th>cabin</th>\n",
       "      <th>embarked</th>\n",
       "      <th>train</th>\n",
       "    </tr>\n",
       "  </thead>\n",
       "  <tbody>\n",
       "    <tr>\n",
       "      <th>10</th>\n",
       "      <td>11</td>\n",
       "      <td>1.0</td>\n",
       "      <td>3</td>\n",
       "      <td>Sandstrom, Miss. Marguerite Rut</td>\n",
       "      <td>female</td>\n",
       "      <td>4.0</td>\n",
       "      <td>1</td>\n",
       "      <td>1</td>\n",
       "      <td>PP 9549</td>\n",
       "      <td>16.7000</td>\n",
       "      <td>G6</td>\n",
       "      <td>S</td>\n",
       "      <td>1</td>\n",
       "    </tr>\n",
       "    <tr>\n",
       "      <th>205</th>\n",
       "      <td>206</td>\n",
       "      <td>0.0</td>\n",
       "      <td>3</td>\n",
       "      <td>Strom, Miss. Telma Matilda</td>\n",
       "      <td>female</td>\n",
       "      <td>2.0</td>\n",
       "      <td>0</td>\n",
       "      <td>1</td>\n",
       "      <td>347054</td>\n",
       "      <td>10.4625</td>\n",
       "      <td>G6</td>\n",
       "      <td>S</td>\n",
       "      <td>1</td>\n",
       "    </tr>\n",
       "    <tr>\n",
       "      <th>251</th>\n",
       "      <td>252</td>\n",
       "      <td>0.0</td>\n",
       "      <td>3</td>\n",
       "      <td>Strom, Mrs. Wilhelm (Elna Matilda Persson)</td>\n",
       "      <td>female</td>\n",
       "      <td>29.0</td>\n",
       "      <td>1</td>\n",
       "      <td>1</td>\n",
       "      <td>347054</td>\n",
       "      <td>10.4625</td>\n",
       "      <td>G6</td>\n",
       "      <td>S</td>\n",
       "      <td>1</td>\n",
       "    </tr>\n",
       "    <tr>\n",
       "      <th>394</th>\n",
       "      <td>395</td>\n",
       "      <td>1.0</td>\n",
       "      <td>3</td>\n",
       "      <td>Sandstrom, Mrs. Hjalmar (Agnes Charlotta Bengt...</td>\n",
       "      <td>female</td>\n",
       "      <td>24.0</td>\n",
       "      <td>0</td>\n",
       "      <td>2</td>\n",
       "      <td>PP 9549</td>\n",
       "      <td>16.7000</td>\n",
       "      <td>G6</td>\n",
       "      <td>S</td>\n",
       "      <td>1</td>\n",
       "    </tr>\n",
       "    <tr>\n",
       "      <th>117</th>\n",
       "      <td>1009</td>\n",
       "      <td>NaN</td>\n",
       "      <td>3</td>\n",
       "      <td>Sandstrom, Miss. Beatrice Irene</td>\n",
       "      <td>female</td>\n",
       "      <td>1.0</td>\n",
       "      <td>1</td>\n",
       "      <td>1</td>\n",
       "      <td>PP 9549</td>\n",
       "      <td>16.7000</td>\n",
       "      <td>G6</td>\n",
       "      <td>S</td>\n",
       "      <td>0</td>\n",
       "    </tr>\n",
       "  </tbody>\n",
       "</table>\n",
       "</div>"
      ],
      "text/plain": [
       "     passengerid  survived  pclass  \\\n",
       "10            11       1.0       3   \n",
       "205          206       0.0       3   \n",
       "251          252       0.0       3   \n",
       "394          395       1.0       3   \n",
       "117         1009       NaN       3   \n",
       "\n",
       "                                                  name     sex   age  sibsp  \\\n",
       "10                     Sandstrom, Miss. Marguerite Rut  female   4.0      1   \n",
       "205                         Strom, Miss. Telma Matilda  female   2.0      0   \n",
       "251         Strom, Mrs. Wilhelm (Elna Matilda Persson)  female  29.0      1   \n",
       "394  Sandstrom, Mrs. Hjalmar (Agnes Charlotta Bengt...  female  24.0      0   \n",
       "117                    Sandstrom, Miss. Beatrice Irene  female   1.0      1   \n",
       "\n",
       "     parch   ticket     fare cabin embarked  train  \n",
       "10       1  PP 9549  16.7000    G6        S      1  \n",
       "205      1   347054  10.4625    G6        S      1  \n",
       "251      1   347054  10.4625    G6        S      1  \n",
       "394      2  PP 9549  16.7000    G6        S      1  \n",
       "117      1  PP 9549  16.7000    G6        S      0  "
      ]
     },
     "execution_count": 919,
     "metadata": {},
     "output_type": "execute_result"
    }
   ],
   "source": [
    "data.loc[(data.cabin == 'G6')]"
   ]
  },
  {
   "cell_type": "markdown",
   "metadata": {
    "id": "U9DJ7K3JYchY"
   },
   "source": [
    "Cabin \"C23 C25 C27\" looks like a suite of rooms in first class, accomodating the \"Fortune\" family of two elder parents and four adult children.\n",
    "\n",
    "Similarly cabin \"B57 B59 B63 B66\" looks like a suite of rooms in first class, accomodating the \"Ryerson\" family of two parents and three children (aged 21, 18 and 13).\n",
    "\n",
    "Contrastingly, cabin \"G6\" looks like a single room in third class with two young women (aged 29 1nd 24), who are possibly related with very similar surnames, and three infant children aged under 5. Mrs Sandstrom and her oldest daughter survived (her youngest daughter is in the test data so we do not know if she survived) but Mrs Strom and her child did not.\n",
    "\n",
    "It might be that ticket, combined with young age and travelling with a parent, could indicate the same fate as an adult on the same ticket."
   ]
  },
  {
   "cell_type": "code",
   "execution_count": 920,
   "metadata": {},
   "outputs": [
    {
     "data": {
      "text/html": [
       "<div>\n",
       "<style scoped>\n",
       "    .dataframe tbody tr th:only-of-type {\n",
       "        vertical-align: middle;\n",
       "    }\n",
       "\n",
       "    .dataframe tbody tr th {\n",
       "        vertical-align: top;\n",
       "    }\n",
       "\n",
       "    .dataframe thead th {\n",
       "        text-align: right;\n",
       "    }\n",
       "</style>\n",
       "<table border=\"1\" class=\"dataframe\">\n",
       "  <thead>\n",
       "    <tr style=\"text-align: right;\">\n",
       "      <th></th>\n",
       "      <th>ticket</th>\n",
       "      <th>fare</th>\n",
       "      <th>num_passengers</th>\n",
       "      <th>fare_per_passenger</th>\n",
       "    </tr>\n",
       "  </thead>\n",
       "  <tbody>\n",
       "    <tr>\n",
       "      <th>488</th>\n",
       "      <td>CA. 2343</td>\n",
       "      <td>69.55</td>\n",
       "      <td>11</td>\n",
       "      <td>6.322727</td>\n",
       "    </tr>\n",
       "  </tbody>\n",
       "</table>\n",
       "</div>"
      ],
      "text/plain": [
       "       ticket   fare  num_passengers  fare_per_passenger\n",
       "488  CA. 2343  69.55              11            6.322727"
      ]
     },
     "execution_count": 920,
     "metadata": {},
     "output_type": "execute_result"
    }
   ],
   "source": [
    "# Group passengers travelling on the same ticket\n",
    "ticket_groups = data[data.pclass==3].groupby(['ticket', 'fare'])['fare']\n",
    "ticket_groups = ticket_groups.size().reset_index(name='num_passengers')\n",
    "ticket_groups['fare_per_passenger'] = ticket_groups.fare / ticket_groups.num_passengers\n",
    "\n",
    "# Ticket with the most passengers \n",
    "ticket_groups.sort_values(by='num_passengers', ascending=False).head(1)"
   ]
  },
  {
   "cell_type": "code",
   "execution_count": 921,
   "metadata": {},
   "outputs": [
    {
     "data": {
      "text/html": [
       "<div>\n",
       "<style scoped>\n",
       "    .dataframe tbody tr th:only-of-type {\n",
       "        vertical-align: middle;\n",
       "    }\n",
       "\n",
       "    .dataframe tbody tr th {\n",
       "        vertical-align: top;\n",
       "    }\n",
       "\n",
       "    .dataframe thead th {\n",
       "        text-align: right;\n",
       "    }\n",
       "</style>\n",
       "<table border=\"1\" class=\"dataframe\">\n",
       "  <thead>\n",
       "    <tr style=\"text-align: right;\">\n",
       "      <th></th>\n",
       "      <th>passengerid</th>\n",
       "      <th>survived</th>\n",
       "      <th>pclass</th>\n",
       "      <th>name</th>\n",
       "      <th>sex</th>\n",
       "      <th>age</th>\n",
       "      <th>sibsp</th>\n",
       "      <th>parch</th>\n",
       "      <th>ticket</th>\n",
       "      <th>fare</th>\n",
       "      <th>cabin</th>\n",
       "      <th>embarked</th>\n",
       "      <th>train</th>\n",
       "    </tr>\n",
       "  </thead>\n",
       "  <tbody>\n",
       "    <tr>\n",
       "      <th>159</th>\n",
       "      <td>160</td>\n",
       "      <td>0.0</td>\n",
       "      <td>3</td>\n",
       "      <td>Sage, Master. Thomas Henry</td>\n",
       "      <td>male</td>\n",
       "      <td>NaN</td>\n",
       "      <td>8</td>\n",
       "      <td>2</td>\n",
       "      <td>CA. 2343</td>\n",
       "      <td>69.55</td>\n",
       "      <td>NaN</td>\n",
       "      <td>S</td>\n",
       "      <td>1</td>\n",
       "    </tr>\n",
       "    <tr>\n",
       "      <th>180</th>\n",
       "      <td>181</td>\n",
       "      <td>0.0</td>\n",
       "      <td>3</td>\n",
       "      <td>Sage, Miss. Constance Gladys</td>\n",
       "      <td>female</td>\n",
       "      <td>NaN</td>\n",
       "      <td>8</td>\n",
       "      <td>2</td>\n",
       "      <td>CA. 2343</td>\n",
       "      <td>69.55</td>\n",
       "      <td>NaN</td>\n",
       "      <td>S</td>\n",
       "      <td>1</td>\n",
       "    </tr>\n",
       "    <tr>\n",
       "      <th>201</th>\n",
       "      <td>202</td>\n",
       "      <td>0.0</td>\n",
       "      <td>3</td>\n",
       "      <td>Sage, Mr. Frederick</td>\n",
       "      <td>male</td>\n",
       "      <td>NaN</td>\n",
       "      <td>8</td>\n",
       "      <td>2</td>\n",
       "      <td>CA. 2343</td>\n",
       "      <td>69.55</td>\n",
       "      <td>NaN</td>\n",
       "      <td>S</td>\n",
       "      <td>1</td>\n",
       "    </tr>\n",
       "    <tr>\n",
       "      <th>324</th>\n",
       "      <td>325</td>\n",
       "      <td>0.0</td>\n",
       "      <td>3</td>\n",
       "      <td>Sage, Mr. George John Jr</td>\n",
       "      <td>male</td>\n",
       "      <td>NaN</td>\n",
       "      <td>8</td>\n",
       "      <td>2</td>\n",
       "      <td>CA. 2343</td>\n",
       "      <td>69.55</td>\n",
       "      <td>NaN</td>\n",
       "      <td>S</td>\n",
       "      <td>1</td>\n",
       "    </tr>\n",
       "    <tr>\n",
       "      <th>792</th>\n",
       "      <td>793</td>\n",
       "      <td>0.0</td>\n",
       "      <td>3</td>\n",
       "      <td>Sage, Miss. Stella Anna</td>\n",
       "      <td>female</td>\n",
       "      <td>NaN</td>\n",
       "      <td>8</td>\n",
       "      <td>2</td>\n",
       "      <td>CA. 2343</td>\n",
       "      <td>69.55</td>\n",
       "      <td>NaN</td>\n",
       "      <td>S</td>\n",
       "      <td>1</td>\n",
       "    </tr>\n",
       "    <tr>\n",
       "      <th>846</th>\n",
       "      <td>847</td>\n",
       "      <td>0.0</td>\n",
       "      <td>3</td>\n",
       "      <td>Sage, Mr. Douglas Bullen</td>\n",
       "      <td>male</td>\n",
       "      <td>NaN</td>\n",
       "      <td>8</td>\n",
       "      <td>2</td>\n",
       "      <td>CA. 2343</td>\n",
       "      <td>69.55</td>\n",
       "      <td>NaN</td>\n",
       "      <td>S</td>\n",
       "      <td>1</td>\n",
       "    </tr>\n",
       "    <tr>\n",
       "      <th>863</th>\n",
       "      <td>864</td>\n",
       "      <td>0.0</td>\n",
       "      <td>3</td>\n",
       "      <td>Sage, Miss. Dorothy Edith \"Dolly\"</td>\n",
       "      <td>female</td>\n",
       "      <td>NaN</td>\n",
       "      <td>8</td>\n",
       "      <td>2</td>\n",
       "      <td>CA. 2343</td>\n",
       "      <td>69.55</td>\n",
       "      <td>NaN</td>\n",
       "      <td>S</td>\n",
       "      <td>1</td>\n",
       "    </tr>\n",
       "    <tr>\n",
       "      <th>188</th>\n",
       "      <td>1080</td>\n",
       "      <td>NaN</td>\n",
       "      <td>3</td>\n",
       "      <td>Sage, Miss. Ada</td>\n",
       "      <td>female</td>\n",
       "      <td>NaN</td>\n",
       "      <td>8</td>\n",
       "      <td>2</td>\n",
       "      <td>CA. 2343</td>\n",
       "      <td>69.55</td>\n",
       "      <td>NaN</td>\n",
       "      <td>S</td>\n",
       "      <td>0</td>\n",
       "    </tr>\n",
       "    <tr>\n",
       "      <th>342</th>\n",
       "      <td>1234</td>\n",
       "      <td>NaN</td>\n",
       "      <td>3</td>\n",
       "      <td>Sage, Mr. John George</td>\n",
       "      <td>male</td>\n",
       "      <td>NaN</td>\n",
       "      <td>1</td>\n",
       "      <td>9</td>\n",
       "      <td>CA. 2343</td>\n",
       "      <td>69.55</td>\n",
       "      <td>NaN</td>\n",
       "      <td>S</td>\n",
       "      <td>0</td>\n",
       "    </tr>\n",
       "    <tr>\n",
       "      <th>360</th>\n",
       "      <td>1252</td>\n",
       "      <td>NaN</td>\n",
       "      <td>3</td>\n",
       "      <td>Sage, Master. William Henry</td>\n",
       "      <td>male</td>\n",
       "      <td>14.5</td>\n",
       "      <td>8</td>\n",
       "      <td>2</td>\n",
       "      <td>CA. 2343</td>\n",
       "      <td>69.55</td>\n",
       "      <td>NaN</td>\n",
       "      <td>S</td>\n",
       "      <td>0</td>\n",
       "    </tr>\n",
       "    <tr>\n",
       "      <th>365</th>\n",
       "      <td>1257</td>\n",
       "      <td>NaN</td>\n",
       "      <td>3</td>\n",
       "      <td>Sage, Mrs. John (Annie Bullen)</td>\n",
       "      <td>female</td>\n",
       "      <td>NaN</td>\n",
       "      <td>1</td>\n",
       "      <td>9</td>\n",
       "      <td>CA. 2343</td>\n",
       "      <td>69.55</td>\n",
       "      <td>NaN</td>\n",
       "      <td>S</td>\n",
       "      <td>0</td>\n",
       "    </tr>\n",
       "  </tbody>\n",
       "</table>\n",
       "</div>"
      ],
      "text/plain": [
       "     passengerid  survived  pclass                               name     sex  \\\n",
       "159          160       0.0       3         Sage, Master. Thomas Henry    male   \n",
       "180          181       0.0       3       Sage, Miss. Constance Gladys  female   \n",
       "201          202       0.0       3                Sage, Mr. Frederick    male   \n",
       "324          325       0.0       3           Sage, Mr. George John Jr    male   \n",
       "792          793       0.0       3            Sage, Miss. Stella Anna  female   \n",
       "846          847       0.0       3           Sage, Mr. Douglas Bullen    male   \n",
       "863          864       0.0       3  Sage, Miss. Dorothy Edith \"Dolly\"  female   \n",
       "188         1080       NaN       3                    Sage, Miss. Ada  female   \n",
       "342         1234       NaN       3              Sage, Mr. John George    male   \n",
       "360         1252       NaN       3        Sage, Master. William Henry    male   \n",
       "365         1257       NaN       3     Sage, Mrs. John (Annie Bullen)  female   \n",
       "\n",
       "      age  sibsp  parch    ticket   fare cabin embarked  train  \n",
       "159   NaN      8      2  CA. 2343  69.55   NaN        S      1  \n",
       "180   NaN      8      2  CA. 2343  69.55   NaN        S      1  \n",
       "201   NaN      8      2  CA. 2343  69.55   NaN        S      1  \n",
       "324   NaN      8      2  CA. 2343  69.55   NaN        S      1  \n",
       "792   NaN      8      2  CA. 2343  69.55   NaN        S      1  \n",
       "846   NaN      8      2  CA. 2343  69.55   NaN        S      1  \n",
       "863   NaN      8      2  CA. 2343  69.55   NaN        S      1  \n",
       "188   NaN      8      2  CA. 2343  69.55   NaN        S      0  \n",
       "342   NaN      1      9  CA. 2343  69.55   NaN        S      0  \n",
       "360  14.5      8      2  CA. 2343  69.55   NaN        S      0  \n",
       "365   NaN      1      9  CA. 2343  69.55   NaN        S      0  "
      ]
     },
     "execution_count": 921,
     "metadata": {},
     "output_type": "execute_result"
    }
   ],
   "source": [
    "# View the passengers on the ticket\n",
    "data[data.ticket == 'CA. 2343']"
   ]
  },
  {
   "cell_type": "markdown",
   "metadata": {},
   "source": [
    "There are 11 passengers on ticket CA. 2343. The Sage family has two parents and nine children travelling together on the same ticket. At least seven of the children did not survive and we don't have survival data in the training set for the parents or the remaining children.  "
   ]
  },
  {
   "cell_type": "markdown",
   "metadata": {},
   "source": [
    "## Fare \n",
    "Assess if the fare is per person or a group fare for passengers travelling together (for example on the same ticket). First, determine if all passengers on the same ticket paid the same fare. "
   ]
  },
  {
   "cell_type": "code",
   "execution_count": 922,
   "metadata": {},
   "outputs": [
    {
     "data": {
      "text/plain": [
       "ticket\n",
       "7534    2\n",
       "Name: fare, dtype: int64"
      ]
     },
     "execution_count": 922,
     "metadata": {},
     "output_type": "execute_result"
    }
   ],
   "source": [
    "# Group by ticket then check if fares are the same within each group\n",
    "same_fare_tickets = data.groupby('ticket')['fare'].nunique()\n",
    "same_fare_tickets[same_fare_tickets > 1]"
   ]
  },
  {
   "cell_type": "markdown",
   "metadata": {},
   "source": [
    "Only two passengers travelling on the same ticket paid a different fare. These fares are close in value. "
   ]
  },
  {
   "cell_type": "code",
   "execution_count": 923,
   "metadata": {},
   "outputs": [
    {
     "data": {
      "text/html": [
       "<div>\n",
       "<style scoped>\n",
       "    .dataframe tbody tr th:only-of-type {\n",
       "        vertical-align: middle;\n",
       "    }\n",
       "\n",
       "    .dataframe tbody tr th {\n",
       "        vertical-align: top;\n",
       "    }\n",
       "\n",
       "    .dataframe thead th {\n",
       "        text-align: right;\n",
       "    }\n",
       "</style>\n",
       "<table border=\"1\" class=\"dataframe\">\n",
       "  <thead>\n",
       "    <tr style=\"text-align: right;\">\n",
       "      <th></th>\n",
       "      <th>passengerid</th>\n",
       "      <th>survived</th>\n",
       "      <th>pclass</th>\n",
       "      <th>name</th>\n",
       "      <th>sex</th>\n",
       "      <th>age</th>\n",
       "      <th>sibsp</th>\n",
       "      <th>parch</th>\n",
       "      <th>ticket</th>\n",
       "      <th>fare</th>\n",
       "      <th>cabin</th>\n",
       "      <th>embarked</th>\n",
       "      <th>train</th>\n",
       "    </tr>\n",
       "  </thead>\n",
       "  <tbody>\n",
       "    <tr>\n",
       "      <th>138</th>\n",
       "      <td>139</td>\n",
       "      <td>0.0</td>\n",
       "      <td>3</td>\n",
       "      <td>Osen, Mr. Olaf Elon</td>\n",
       "      <td>male</td>\n",
       "      <td>16.0</td>\n",
       "      <td>0</td>\n",
       "      <td>0</td>\n",
       "      <td>7534</td>\n",
       "      <td>9.2167</td>\n",
       "      <td>NaN</td>\n",
       "      <td>S</td>\n",
       "      <td>1</td>\n",
       "    </tr>\n",
       "    <tr>\n",
       "      <th>876</th>\n",
       "      <td>877</td>\n",
       "      <td>0.0</td>\n",
       "      <td>3</td>\n",
       "      <td>Gustafsson, Mr. Alfred Ossian</td>\n",
       "      <td>male</td>\n",
       "      <td>20.0</td>\n",
       "      <td>0</td>\n",
       "      <td>0</td>\n",
       "      <td>7534</td>\n",
       "      <td>9.8458</td>\n",
       "      <td>NaN</td>\n",
       "      <td>S</td>\n",
       "      <td>1</td>\n",
       "    </tr>\n",
       "  </tbody>\n",
       "</table>\n",
       "</div>"
      ],
      "text/plain": [
       "     passengerid  survived  pclass                           name   sex   age  \\\n",
       "138          139       0.0       3            Osen, Mr. Olaf Elon  male  16.0   \n",
       "876          877       0.0       3  Gustafsson, Mr. Alfred Ossian  male  20.0   \n",
       "\n",
       "     sibsp  parch ticket    fare cabin embarked  train  \n",
       "138      0      0   7534  9.2167   NaN        S      1  \n",
       "876      0      0   7534  9.8458   NaN        S      1  "
      ]
     },
     "execution_count": 923,
     "metadata": {},
     "output_type": "execute_result"
    }
   ],
   "source": [
    "data[data.ticket == '7534']"
   ]
  },
  {
   "cell_type": "markdown",
   "metadata": {},
   "source": [
    "Focussing on third class, is there a relationship between number of passengers per ticket and fare?"
   ]
  },
  {
   "cell_type": "code",
   "execution_count": 924,
   "metadata": {},
   "outputs": [],
   "source": [
    "# Group passengers by ticket \n",
    "df = data[data.pclass==3].groupby(['ticket', 'fare'])['fare'].size()\n",
    "df = df.reset_index(name='num_passengers')\n",
    "df['fare_per_passenger'] = df.fare / df.num_passengers"
   ]
  },
  {
   "cell_type": "code",
   "execution_count": 929,
   "metadata": {},
   "outputs": [
    {
     "data": {
      "image/png": "[encoded data removed]",
      "text/plain": [
       "<Figure size 576x288 with 1 Axes>"
      ]
     },
     "metadata": {},
     "output_type": "display_data"
    }
   ],
   "source": [
    "# Plot passengers per ticket\n",
    "sns.set(style='whitegrid')\n",
    "plt.figure(figsize=(8, 4))\n",
    "sns.histplot(x='num_passengers', label='ticket', data=df)\n",
    "plt.title('Distribution of passengers per ticket (pclass=3)')  \n",
    "plt.xlabel('Passengers per ticket')  \n",
    "plt.ylabel('Number of tickets')  \n",
    "plt.show()"
   ]
  },
  {
   "cell_type": "code",
   "execution_count": 852,
   "metadata": {},
   "outputs": [
    {
     "data": {
      "image/png": "[encoded data removed]",
      "text/plain": [
       "<Figure size 864x360 with 2 Axes>"
      ]
     },
     "metadata": {},
     "output_type": "display_data"
    }
   ],
   "source": [
    "# Plot fare against number of passengers on each ticket\n",
    "sns.set(style='whitegrid')\n",
    "fig, axes = plt.subplots(nrows=1, ncols=2, figsize=(12, 5))\n",
    "\n",
    "# Plot fare versus passengers per ticket\n",
    "sns.regplot(x='num_passengers', y='fare', data=df, scatter=True, ci=None, line_kws={\"color\": \"red\"}, ax=axes[0])\n",
    "axes[0].set_title('Fare (pclass=3)')  \n",
    "axes[0].set_xlabel('Passengers per ticket')  \n",
    "axes[0].set_ylabel('Fare')  \n",
    "\n",
    "# Plot fare per passenger vs passengers per ticket\n",
    "sns.scatterplot(x='num_passengers', y='fare_per_passenger', data=df, marker='o', s=100, ax=axes[1])\n",
    "axes[1].set_title('Fare per passenger per ticket (pclass=3)')  \n",
    "axes[1].set_xlabel('Passengers per ticket')  \n",
    "axes[1].set_ylabel('Fare')  \n",
    "plt.show()"
   ]
  },
  {
   "cell_type": "markdown",
   "metadata": {},
   "source": [
    "There looks like a clear linear correlation between fare and the number of passengers per ticket. That implies the fare is for all passengers on the ticket and not the fare for the individual.\n",
    "\n",
    "There are two outliers with a fare per passenger per ticket of nearly £20. This looks like two brothers called Hagland travelling together, so perhaps the ticketing had a glitch for these passengers. There are also four passengers with a fare = 0, which look like employees (the ticket value is 'LINE'). "
   ]
  },
  {
   "cell_type": "code",
   "execution_count": 937,
   "metadata": {},
   "outputs": [
    {
     "name": "stdout",
     "output_type": "stream",
     "text": [
      "Fare:\t\t\tmax value is 11.0 standard deviations from mean\n",
      "Fare per passenger:\tmax value is 3.0 standard deviations from mean\n"
     ]
    }
   ],
   "source": [
    "# Exclude the Haglands as outliers\n",
    "no_outliers = df[(df.fare_per_passenger < 19)] \n",
    "\n",
    "fare_stds = (no_outliers.fare.max() - no_outliers.fare.mean()) / no_outliers.fare.std()\n",
    "print(f'Fare:\\t\\t\\tmax value is {fare_stds:.1f} standard deviations from mean') \n",
    "\n",
    "\n",
    "fare_per_pass_stds = (no_outliers.fare_per_passenger.max() - no_outliers.fare_per_passenger.mean()) / no_outliers.fare_per_passenger.std()\n",
    "print(f'Fare per passenger:\\tmax value is {fare_per_pass_stds:.1f} standard deviations from mean') "
   ]
  },
  {
   "cell_type": "markdown",
   "metadata": {
    "id": "iStwzJFtb2vp"
   },
   "source": [
    "# Visualize the Data\n",
    "Visualize the data and look for patterns.\n",
    "\n",
    "## Women and Children First!\n",
    "Were women and children more likely to survive and how large a factor was pclass?"
   ]
  },
  {
   "cell_type": "code",
   "execution_count": 854,
   "metadata": {
    "colab": {
     "base_uri": "https://localhost:8080/",
     "height": 269
    },
    "id": "QO_J0SWDcWIL",
    "outputId": "86f8d1cb-8d49-4ff8-ea5f-c1c1997074e5"
   },
   "outputs": [],
   "source": [
    "# Pivot the data on numerical features\n",
    "# pd.pivot_table(train, index=['sex','pclass'], values=['age', 'fare', 'parch', 'sibsp', 'survived'], aggfunc='mean')"
   ]
  },
  {
   "cell_type": "code",
   "execution_count": 855,
   "metadata": {
    "colab": {
     "base_uri": "https://localhost:8080/",
     "height": 506
    },
    "id": "oC2rvSzFsHKB",
    "outputId": "a1964f02-7a89-4626-8451-a66767a75a0b"
   },
   "outputs": [
    {
     "data": {
      "image/png": "[encoded data removed]",
      "text/plain": [
       "<Figure size 405.725x360 with 1 Axes>"
      ]
     },
     "metadata": {},
     "output_type": "display_data"
    }
   ],
   "source": [
    "# Plot survival by class and sex\n",
    "sns.set(style='whitegrid')\n",
    "sns.catplot(x='sex', y='survived', hue='pclass', kind='bar', data=train)\n",
    "plt.show()"
   ]
  },
  {
   "cell_type": "markdown",
   "metadata": {
    "id": "GRlXWoHxvB51"
   },
   "source": [
    "The plot suggests that sex was more relevant than pclass in determining survival chances.\n",
    "\n",
    "Most women in first (97%) and second (92%) class survived along with half (50%) of the women in third class. Few men survived. There was little difference between second class (16%) and third class (14%) survival for men. Even in first class, just over one third (37%) of men survived, a lower proportion than of women in third class.\n",
    "\n",
    "Perhaps women were prioritized in the evacuation across all classes. Class was also a factor but not as much as sex."
   ]
  },
  {
   "cell_type": "markdown",
   "metadata": {
    "id": "tfnbYI9Fyens"
   },
   "source": [
    "## Age \n",
    "To what degree is age a factor?"
   ]
  },
  {
   "cell_type": "code",
   "execution_count": 939,
   "metadata": {},
   "outputs": [
    {
     "data": {
      "image/png": "[encoded data removed]",
      "text/plain": [
       "<Figure size 864x576 with 1 Axes>"
      ]
     },
     "metadata": {},
     "output_type": "display_data"
    }
   ],
   "source": [
    "# Age disributions for survivor and non-survivor\n",
    "survivors = train[(train.survived==1)]\n",
    "non_survivors = train[(train.survived==0)]\n",
    "\n",
    "sns.set(style='whitegrid')\n",
    "plt.figure(figsize=(12, 8))\n",
    "sns.histplot(data=survivors, x='age', bins=15, kde=True, color='skyblue', label='Survivors', alpha=1)\n",
    "sns.histplot(data=non_survivors, x='age', bins=15, kde=True, color='salmon', label='Non-Survivors', alpha=0.5)\n",
    "plt.title('Survival Against Age (all passengers)')  \n",
    "plt.xlabel('Age')  \n",
    "plt.legend() \n",
    "plt.show()"
   ]
  },
  {
   "cell_type": "markdown",
   "metadata": {},
   "source": [
    "The difference in mean age of survivors (28) and non-survivors (31) is not large. The distributions are similar, although infants (under 10) might have had a greater chance of survival. "
   ]
  },
  {
   "cell_type": "code",
   "execution_count": 857,
   "metadata": {},
   "outputs": [
    {
     "name": "stdout",
     "output_type": "stream",
     "text": [
      "Average age: 30\n",
      "Average age survivors: 28\n",
      "Average age non-survivors: 31\n"
     ]
    }
   ],
   "source": [
    "print(f'Average age: {data.age.mean():.0f}')\n",
    "print(f'Average age survivors: {data[data.survived == 1].age.mean():.0f}')\n",
    "print(f'Average age non-survivors: {data[data.survived == 0].age.mean():.0f}')"
   ]
  },
  {
   "cell_type": "markdown",
   "metadata": {},
   "source": [
    "However age distributions were not the same across pclass. If lower pclass (i.e. first class) and lower age were both correlated with greater chance of survival, yet pclass and age are negatively correlated with each other, that could be minimising the effect of age on survival overall. \n",
    "\n",
    "Explore age against pclass. "
   ]
  },
  {
   "cell_type": "code",
   "execution_count": 858,
   "metadata": {},
   "outputs": [
    {
     "data": {
      "image/png": "[encoded data removed]",
      "text/plain": [
       "<Figure size 1152x1152 with 4 Axes>"
      ]
     },
     "metadata": {},
     "output_type": "display_data"
    }
   ],
   "source": [
    "# Boxplot for age against survived\n",
    "sns.set(style='whitegrid')\n",
    "fig, axes = plt.subplots(nrows=2, ncols=2, figsize=(16, 16))\n",
    "\n",
    "# All ages\n",
    "sns.boxplot(x='survived', y='age', data=train, ax=axes[0,0])\n",
    "axes[0,0].set_title('Survival Against Age')  \n",
    "axes[0,0].set_xlabel('Survived')  \n",
    "axes[0,0].set_ylabel('Age') \n",
    "\n",
    "# Age against pclass\n",
    "sns.boxplot(x='pclass', y='age', data=train, ax=axes[0,1])\n",
    "axes[0,1].set_title('Age agains pclass') \n",
    "axes[0,1].set_xlabel('pclass')  \n",
    "axes[0,1].set_ylabel('Age') \n",
    "\n",
    "# Violin plot on pclass\n",
    "sns.violinplot(x=\"pclass\", y=\"age\", hue=\"survived\", data=train, split=True, inner='quart', ax=axes[1,0])\n",
    "axes[1,0].set_title('Age distribution of Survival for each pclass') \n",
    "axes[1,0].set_xlabel('pclass')  \n",
    "axes[1,0].set_ylabel('Age')   \n",
    "\n",
    "# Box plot on pclass\n",
    "sns.boxplot(x='survived', y='age', hue='pclass', data=train, ax=axes[1,1])\n",
    "axes[1,1].set_title('Age distribution of Survival for each pclass') \n",
    "axes[1,1].set_xlabel('Survived')  \n",
    "axes[1,1].set_ylabel('Age')  \n",
    "\n",
    "plt.show()"
   ]
  },
  {
   "cell_type": "markdown",
   "metadata": {},
   "source": [
    "Age is a factor but it is only obvious when combined with pclass. There certainly appears to be a relatively high chance of survival for infant children (around age 10)."
   ]
  },
  {
   "cell_type": "code",
   "execution_count": 859,
   "metadata": {},
   "outputs": [
    {
     "name": "stdout",
     "output_type": "stream",
     "text": [
      "Children defind as 5 and under\n",
      "Elderly defind as 40 and over\n",
      "\n",
      "pclass 1: Overall 136/216 survived (63%) | 2/3 children (67%) | 42/81 elderly (52%)\n",
      "pclass 2: Overall 87/184 survived (47%) | 13/13 children (100%) | 16/37 elderly (43%)\n",
      "pclass 3: Overall 119/491 survived (24%) | 16/28 children (57%) | 3/45 elderly (7%)\n"
     ]
    }
   ],
   "source": [
    "def age_group_survival(child=5, elderly=50):\n",
    "  print(f'Children defind as {child} and under')\n",
    "  print(f'Elderly defind as {elderly} and over\\n')\n",
    "  # Overall survival by pclass\n",
    "  total_by_class = train.groupby('pclass')['passengerid'].count()\n",
    "  survived_by_class = train[train.survived == 1].groupby('pclass')['passengerid'].count()\n",
    "\n",
    "  # Child survival by pclass\n",
    "  infant_total_by_class = train[train.age <= child].groupby('pclass')['passengerid'].count()\n",
    "  infant_survived_by_class = train[(train.age <= child) & (train.survived == 1)].groupby('pclass')['passengerid'].count()\n",
    "\n",
    "  # Elderly survival by pclass\n",
    "  elderly_total_by_class = train[train.age >= elderly].groupby('pclass')['passengerid'].count()\n",
    "  elderly_survived_by_class = train[(train.age >= elderly) & (train.survived == 1)].groupby('pclass')['passengerid'].count()\n",
    "\n",
    "  # Calculate and print\n",
    "  for pclass, survived_count in survived_by_class.items():\n",
    "    # overall counts and percents\n",
    "    total_count = total_by_class.get(pclass)\n",
    "    survival_percent = (survived_count / total_count) * 100 if total_count > 0 else 0\n",
    "    # infant counts and percents\n",
    "    infant_survived_count = infant_survived_by_class.get(pclass)\n",
    "    infant_total_count = infant_total_by_class.get(pclass)\n",
    "    infant_survival_percent = (infant_survived_count / infant_total_count) * 100 if total_count > 0 else 0\n",
    "    # elderly counts and percents\n",
    "    elderly_survived_count = elderly_survived_by_class.get(pclass)\n",
    "    elderly_total_count = elderly_total_by_class.get(pclass)\n",
    "    elderly_survival_percent = (elderly_survived_count / elderly_total_count) * 100 if total_count > 0 else 0\n",
    "    # print results\n",
    "    print(f'pclass {pclass}: Overall {survived_count}/{total_count} survived ({survival_percent:.0f}%)\\\n",
    " | {infant_survived_count}/{infant_total_count} children ({infant_survival_percent:.0f}%)\\\n",
    " | {elderly_survived_count}/{elderly_total_count} elderly ({elderly_survival_percent:.0f}%)')\n",
    "    \n",
    "age_group_survival(child=5, elderly=40)"
   ]
  },
  {
   "cell_type": "code",
   "execution_count": 860,
   "metadata": {},
   "outputs": [
    {
     "name": "stdout",
     "output_type": "stream",
     "text": [
      "Children defind as 10 and under\n",
      "Elderly defind as 50 and over\n",
      "\n",
      "pclass 1: Overall 136/216 survived (63%) | 2/3 children (67%) | 20/44 elderly (45%)\n",
      "pclass 2: Overall 87/184 survived (47%) | 17/17 children (100%) | 6/19 elderly (32%)\n",
      "pclass 3: Overall 119/491 survived (24%) | 19/44 children (43%) | 1/11 elderly (9%)\n"
     ]
    }
   ],
   "source": [
    "age_group_survival(child=10, elderly=50)"
   ]
  },
  {
   "cell_type": "code",
   "execution_count": 861,
   "metadata": {},
   "outputs": [
    {
     "name": "stdout",
     "output_type": "stream",
     "text": [
      "Children defind as 17 and under\n",
      "Elderly defind as 60 and over\n",
      "\n",
      "pclass 1: Overall 136/216 survived (63%) | 11/12 children (92%) | 5/17 elderly (29%)\n",
      "pclass 2: Overall 87/184 survived (47%) | 21/23 children (91%) | 1/4 elderly (25%)\n",
      "pclass 3: Overall 119/491 survived (24%) | 29/78 children (37%) | 1/5 elderly (20%)\n"
     ]
    }
   ],
   "source": [
    "age_group_survival(child=17, elderly=60)"
   ]
  },
  {
   "cell_type": "code",
   "execution_count": 862,
   "metadata": {},
   "outputs": [],
   "source": [
    "def print_infant_survival(age=5):\n",
    "  print(f'Children defind as {age} and under\\n')\n",
    "  # Overall survival by pclass\n",
    "  total_by_class = train.groupby('pclass')['passengerid'].count()\n",
    "  survived_by_class = train[train.survived == 1].groupby('pclass')['passengerid'].count()\n",
    "\n",
    "  # Infant survival by pclass\n",
    "  infant_total_by_class = train[train.age <= age].groupby('pclass')['passengerid'].count()\n",
    "  infant_survived_by_class = train[(train.age <= age) & (train.survived == 1)].groupby('pclass')['passengerid'].count()\n",
    "\n",
    "  # Calculate and print\n",
    "  for pclass, survived_count in survived_by_class.items():\n",
    "    # overall counts and percents\n",
    "    total_count = total_by_class.get(pclass)\n",
    "    survival_percent = (survived_count / total_count) * 100 if total_count > 0 else 0\n",
    "    # infant counts and percents\n",
    "    infant_survived_count = infant_survived_by_class.get(pclass)\n",
    "    infant_total_count = infant_total_by_class.get(pclass)\n",
    "    infant_survival_percent = (infant_survived_count / infant_total_count) * 100 if total_count > 0 else 0\n",
    "    # print results\n",
    "    print(f'pclass {pclass}:\\\n",
    "      Overall {survived_count} out of {total_count} passengers survived ({survival_percent:.0f}%)\\\n",
    "      {infant_survived_count} out of {infant_total_count} children survived ({infant_survival_percent:.0f}%)')"
   ]
  },
  {
   "cell_type": "markdown",
   "metadata": {},
   "source": [
    "In addition to age combined with pclass generally being correlated with survival, infants were specificly likely to survive. Passengers with age over 60 were unlikely to survive for all pclass. "
   ]
  },
  {
   "cell_type": "markdown",
   "metadata": {
    "id": "GYrbkSK11uyG"
   },
   "source": [
    "## Family Members \n",
    "The plot below shows that men and women had a greater chance of survival when travelling with two siblings/spouce. However the chance of survival fell off steeply if travelling with three or more siblings/spouce."
   ]
  },
  {
   "cell_type": "code",
   "execution_count": 865,
   "metadata": {
    "colab": {
     "base_uri": "https://localhost:8080/",
     "height": 507
    },
    "id": "DecM1mxI1yjd",
    "outputId": "4523f5d8-d99d-4962-c660-8c6aa9518ef3"
   },
   "outputs": [
    {
     "data": {
      "image/png": "[encoded data removed]",
      "text/plain": [
       "<Figure size 432.85x360 with 1 Axes>"
      ]
     },
     "metadata": {},
     "output_type": "display_data"
    }
   ],
   "source": [
    "# Plot Survival against SibSp\n",
    "sns.catplot(x='sibsp', y='survived', hue='sex', data=data, kind='point')\n",
    "plt.show()"
   ]
  },
  {
   "cell_type": "markdown",
   "metadata": {
    "id": "xBU2ZUzrzpWu"
   },
   "source": [
    "## Correlations\n",
    "The largest correlation between numerical features and survival is with cabin class (-34%) and fare (26%). Correlation between age and survival is affected by the negative correlation between age and pclass. Sex is not encoded numerically yet.  "
   ]
  },
  {
   "cell_type": "code",
   "execution_count": 866,
   "metadata": {
    "colab": {
     "base_uri": "https://localhost:8080/",
     "height": 528
    },
    "id": "j2uHF1uz2X22",
    "outputId": "78562450-776a-4855-a3f5-d923730f8ffc"
   },
   "outputs": [
    {
     "data": {
      "image/png": "[encoded data removed]",
      "text/plain": [
       "<Figure size 1152x576 with 2 Axes>"
      ]
     },
     "metadata": {},
     "output_type": "display_data"
    }
   ],
   "source": [
    "# Heartmap for numerical data\n",
    "plt.figure(figsize=(16,8))\n",
    "sns.heatmap(\n",
    "    data[['age', 'pclass', 'fare', 'parch', 'sibsp', 'survived']].corr(),\n",
    "    vmax=0.8,\n",
    "    linewidths=0.5,\n",
    "    fmt='.2f',\n",
    "    square=True,\n",
    "    annot=True,\n",
    "    cmap='YlGnBu',\n",
    "    linecolor='white')\n",
    "plt.show()"
   ]
  },
  {
   "cell_type": "markdown",
   "metadata": {
    "id": "zdO2QC1_LFy2"
   },
   "source": [
    "# Feature Engineering"
   ]
  },
  {
   "cell_type": "markdown",
   "metadata": {
    "id": "KHxCAXl83Cw6"
   },
   "source": [
    "## New Features\n",
    "\n",
    "Which new features can be created to enhance the models? "
   ]
  },
  {
   "cell_type": "markdown",
   "metadata": {
    "id": "gJbbzK4142T8"
   },
   "source": [
    "### Title\n",
    "Extract the title of each passenger from their name. This might reflect social status within the cabin and have an impact on survival."
   ]
  },
  {
   "cell_type": "code",
   "execution_count": 940,
   "metadata": {
    "id": "9Pb84axO7h6b"
   },
   "outputs": [],
   "source": [
    "# Create a feature extracting title from name\n",
    "data['title'] = data.name.str.extract(' ([A-Za-z]+)\\.', expand=False)\n",
    "#pd.pivot_table(data, index='title', aggfunc={'passengerid': 'count'})\n",
    "\n",
    "# Consolidate broadly equivalent titles\n",
    "data['title'] = data.title.replace('Mlle', 'Miss')\n",
    "data['title'] = data.title.replace(['Mme', 'Dona', 'Ms'], 'Mrs')\n",
    "data['title'] = data.title.replace('Don','Mr')\n",
    "data['title'] = data.title.replace(['Capt','Rev','Major', 'Col','Dr'], 'Professional')\n",
    "data['title'] = data.title.replace(['Lady', 'Countess','Sir','Jonkheer'], 'Honour')"
   ]
  },
  {
   "cell_type": "code",
   "execution_count": 941,
   "metadata": {
    "colab": {
     "base_uri": "https://localhost:8080/",
     "height": 269
    },
    "id": "mFkVOmjUBvXI",
    "outputId": "6b2e5756-e444-4feb-9f86-85e3e8c209a9"
   },
   "outputs": [
    {
     "data": {
      "text/html": [
       "<div>\n",
       "<style scoped>\n",
       "    .dataframe tbody tr th:only-of-type {\n",
       "        vertical-align: middle;\n",
       "    }\n",
       "\n",
       "    .dataframe tbody tr th {\n",
       "        vertical-align: top;\n",
       "    }\n",
       "\n",
       "    .dataframe thead th {\n",
       "        text-align: right;\n",
       "    }\n",
       "</style>\n",
       "<table border=\"1\" class=\"dataframe\">\n",
       "  <thead>\n",
       "    <tr style=\"text-align: right;\">\n",
       "      <th>pclass</th>\n",
       "      <th>1</th>\n",
       "      <th>2</th>\n",
       "      <th>3</th>\n",
       "    </tr>\n",
       "    <tr>\n",
       "      <th>title</th>\n",
       "      <th></th>\n",
       "      <th></th>\n",
       "      <th></th>\n",
       "    </tr>\n",
       "  </thead>\n",
       "  <tbody>\n",
       "    <tr>\n",
       "      <th>Honour</th>\n",
       "      <td>43.0</td>\n",
       "      <td>NaN</td>\n",
       "      <td>NaN</td>\n",
       "    </tr>\n",
       "    <tr>\n",
       "      <th>Master</th>\n",
       "      <td>6.0</td>\n",
       "      <td>2.0</td>\n",
       "      <td>6.0</td>\n",
       "    </tr>\n",
       "    <tr>\n",
       "      <th>Miss</th>\n",
       "      <td>30.0</td>\n",
       "      <td>20.0</td>\n",
       "      <td>18.0</td>\n",
       "    </tr>\n",
       "    <tr>\n",
       "      <th>Mr</th>\n",
       "      <td>41.0</td>\n",
       "      <td>30.0</td>\n",
       "      <td>26.0</td>\n",
       "    </tr>\n",
       "    <tr>\n",
       "      <th>Mrs</th>\n",
       "      <td>45.0</td>\n",
       "      <td>30.0</td>\n",
       "      <td>31.0</td>\n",
       "    </tr>\n",
       "    <tr>\n",
       "      <th>Professional</th>\n",
       "      <td>51.0</td>\n",
       "      <td>41.5</td>\n",
       "      <td>NaN</td>\n",
       "    </tr>\n",
       "  </tbody>\n",
       "</table>\n",
       "</div>"
      ],
      "text/plain": [
       "pclass           1     2     3\n",
       "title                         \n",
       "Honour        43.0   NaN   NaN\n",
       "Master         6.0   2.0   6.0\n",
       "Miss          30.0  20.0  18.0\n",
       "Mr            41.0  30.0  26.0\n",
       "Mrs           45.0  30.0  31.0\n",
       "Professional  51.0  41.5   NaN"
      ]
     },
     "execution_count": 941,
     "metadata": {},
     "output_type": "execute_result"
    }
   ],
   "source": [
    "# Show median age for passengers based on title and pclass\n",
    "pd.pivot_table(data, index='title', values='age', columns='pclass', aggfunc='median')"
   ]
  },
  {
   "cell_type": "markdown",
   "metadata": {
    "id": "Qf0PqF3b35DX"
   },
   "source": [
    "### Fare per Passenger\n",
    "\n",
    "The fare apears to be for every passenger on the ticket. Create a fare per passenger."
   ]
  },
  {
   "cell_type": "code",
   "execution_count": 942,
   "metadata": {
    "id": "DOIuUaKC3DUq"
   },
   "outputs": [],
   "source": [
    "# Calculate number of passengers on each ticket\n",
    "num_passengers = data['ticket'].value_counts()\n",
    "\n",
    "# Create mapping between ticket and number of passengers\n",
    "num_passengers_map = dict(num_passengers)\n",
    "\n",
    "# Divide fare by number of passengers on same ticket\n",
    "data['fare_per_passenger'] = data.apply(lambda row: row['fare'] / num_passengers_map[row['ticket']], axis=1)"
   ]
  },
  {
   "cell_type": "markdown",
   "metadata": {
    "id": "5ySoMQUT5n2q"
   },
   "source": [
    "### Family Members\n",
    "\n",
    "Passengers are travelling in family groups. Create a feature for the number of family members."
   ]
  },
  {
   "cell_type": "code",
   "execution_count": 943,
   "metadata": {
    "id": "apwkMQG656p4"
   },
   "outputs": [],
   "source": [
    "data['family_members'] = data.sibsp + data.parch"
   ]
  },
  {
   "cell_type": "markdown",
   "metadata": {
    "id": "APsViglZEGG3"
   },
   "source": [
    "### Infants\n",
    "Infants seemed to have an added survival chance. Create a categorical feature."
   ]
  },
  {
   "cell_type": "code",
   "execution_count": 944,
   "metadata": {
    "id": "uQAvYjAyEUYB"
   },
   "outputs": [],
   "source": [
    "data['infant'] = data['age'].apply(lambda x: 1 if x <= 7 else 0)\n"
   ]
  },
  {
   "cell_type": "markdown",
   "metadata": {
    "id": "DgHShA5u9Hgr"
   },
   "source": [
    "## Missing Data\n",
    "Deal with missing data in the features: age, cabin, fare, embarked.\n",
    "\n",
    "**Embarked**\n",
    "\n",
    "There are two NaNs in the embarked column. I do not want to create a new feature (increasing the dimensionality) for only two passengers. These are two women travelling on the same ticket and sharing cabin B28 in first class. Their names do not sound obviously French or Irish so, given that the majority of passengers embarked at Southhampton (70%) assign Southampton (S) as their port of embarkation."
   ]
  },
  {
   "cell_type": "code",
   "execution_count": 945,
   "metadata": {
    "colab": {
     "base_uri": "https://localhost:8080/",
     "height": 254
    },
    "id": "5EhUH8VF9ZZx",
    "outputId": "213a8528-7455-4869-b790-d8ddd3730333"
   },
   "outputs": [
    {
     "data": {
      "text/html": [
       "<div>\n",
       "<style scoped>\n",
       "    .dataframe tbody tr th:only-of-type {\n",
       "        vertical-align: middle;\n",
       "    }\n",
       "\n",
       "    .dataframe tbody tr th {\n",
       "        vertical-align: top;\n",
       "    }\n",
       "\n",
       "    .dataframe thead th {\n",
       "        text-align: right;\n",
       "    }\n",
       "</style>\n",
       "<table border=\"1\" class=\"dataframe\">\n",
       "  <thead>\n",
       "    <tr style=\"text-align: right;\">\n",
       "      <th></th>\n",
       "      <th>passengerid</th>\n",
       "      <th>survived</th>\n",
       "      <th>pclass</th>\n",
       "      <th>name</th>\n",
       "      <th>sex</th>\n",
       "      <th>age</th>\n",
       "      <th>sibsp</th>\n",
       "      <th>parch</th>\n",
       "      <th>ticket</th>\n",
       "      <th>fare</th>\n",
       "      <th>cabin</th>\n",
       "      <th>embarked</th>\n",
       "      <th>train</th>\n",
       "      <th>title</th>\n",
       "      <th>fare_per_passenger</th>\n",
       "      <th>family_members</th>\n",
       "      <th>infant</th>\n",
       "    </tr>\n",
       "  </thead>\n",
       "  <tbody>\n",
       "    <tr>\n",
       "      <th>61</th>\n",
       "      <td>62</td>\n",
       "      <td>1.0</td>\n",
       "      <td>1</td>\n",
       "      <td>Icard, Miss. Amelie</td>\n",
       "      <td>female</td>\n",
       "      <td>38.0</td>\n",
       "      <td>0</td>\n",
       "      <td>0</td>\n",
       "      <td>113572</td>\n",
       "      <td>80.0</td>\n",
       "      <td>B28</td>\n",
       "      <td>NaN</td>\n",
       "      <td>1</td>\n",
       "      <td>Miss</td>\n",
       "      <td>40.0</td>\n",
       "      <td>0</td>\n",
       "      <td>0</td>\n",
       "    </tr>\n",
       "    <tr>\n",
       "      <th>829</th>\n",
       "      <td>830</td>\n",
       "      <td>1.0</td>\n",
       "      <td>1</td>\n",
       "      <td>Stone, Mrs. George Nelson (Martha Evelyn)</td>\n",
       "      <td>female</td>\n",
       "      <td>62.0</td>\n",
       "      <td>0</td>\n",
       "      <td>0</td>\n",
       "      <td>113572</td>\n",
       "      <td>80.0</td>\n",
       "      <td>B28</td>\n",
       "      <td>NaN</td>\n",
       "      <td>1</td>\n",
       "      <td>Mrs</td>\n",
       "      <td>40.0</td>\n",
       "      <td>0</td>\n",
       "      <td>0</td>\n",
       "    </tr>\n",
       "  </tbody>\n",
       "</table>\n",
       "</div>"
      ],
      "text/plain": [
       "     passengerid  survived  pclass                                       name  \\\n",
       "61            62       1.0       1                        Icard, Miss. Amelie   \n",
       "829          830       1.0       1  Stone, Mrs. George Nelson (Martha Evelyn)   \n",
       "\n",
       "        sex   age  sibsp  parch  ticket  fare cabin embarked  train title  \\\n",
       "61   female  38.0      0      0  113572  80.0   B28      NaN      1  Miss   \n",
       "829  female  62.0      0      0  113572  80.0   B28      NaN      1   Mrs   \n",
       "\n",
       "     fare_per_passenger  family_members  infant  \n",
       "61                 40.0               0       0  \n",
       "829                40.0               0       0  "
      ]
     },
     "execution_count": 945,
     "metadata": {},
     "output_type": "execute_result"
    }
   ],
   "source": [
    "data[data.embarked.isnull()]"
   ]
  },
  {
   "cell_type": "code",
   "execution_count": 946,
   "metadata": {
    "colab": {
     "base_uri": "https://localhost:8080/",
     "height": 193
    },
    "id": "b8bromfc0u40",
    "outputId": "93b6aa57-53ce-47b4-ef5b-3ead52e2ae87"
   },
   "outputs": [
    {
     "name": "stdout",
     "output_type": "stream",
     "text": [
      "Passengers embarking at Southampton (S): 70.0%\n"
     ]
    },
    {
     "data": {
      "text/html": [
       "<div>\n",
       "<style scoped>\n",
       "    .dataframe tbody tr th:only-of-type {\n",
       "        vertical-align: middle;\n",
       "    }\n",
       "\n",
       "    .dataframe tbody tr th {\n",
       "        vertical-align: top;\n",
       "    }\n",
       "\n",
       "    .dataframe thead th {\n",
       "        text-align: right;\n",
       "    }\n",
       "</style>\n",
       "<table border=\"1\" class=\"dataframe\">\n",
       "  <thead>\n",
       "    <tr style=\"text-align: right;\">\n",
       "      <th></th>\n",
       "      <th>passengerid</th>\n",
       "    </tr>\n",
       "    <tr>\n",
       "      <th>embarked</th>\n",
       "      <th></th>\n",
       "    </tr>\n",
       "  </thead>\n",
       "  <tbody>\n",
       "    <tr>\n",
       "      <th>C</th>\n",
       "      <td>270</td>\n",
       "    </tr>\n",
       "    <tr>\n",
       "      <th>Q</th>\n",
       "      <td>123</td>\n",
       "    </tr>\n",
       "    <tr>\n",
       "      <th>S</th>\n",
       "      <td>914</td>\n",
       "    </tr>\n",
       "  </tbody>\n",
       "</table>\n",
       "</div>"
      ],
      "text/plain": [
       "          passengerid\n",
       "embarked             \n",
       "C                 270\n",
       "Q                 123\n",
       "S                 914"
      ]
     },
     "execution_count": 946,
     "metadata": {},
     "output_type": "execute_result"
    }
   ],
   "source": [
    "df = pd.pivot_table(data, index='embarked', aggfunc={'passengerid': 'count'})\n",
    "southampton = df.loc['S'][0]\n",
    "print(f'Passengers embarking at Southampton (S): {round(southampton / df.passengerid.sum()*100, 0)}%')\n",
    "df"
   ]
  },
  {
   "cell_type": "code",
   "execution_count": 947,
   "metadata": {
    "id": "IyXeW5dF-PTr"
   },
   "outputs": [],
   "source": [
    "# Fill embarked nans with 'S' for Southampton\n",
    "data['embarked'] = data['embarked'].fillna('S')"
   ]
  },
  {
   "cell_type": "markdown",
   "metadata": {
    "id": "zh-MnvtZ-qrw"
   },
   "source": [
    "**Cabin**\n",
    "\n",
    "There are 982 missing values for Cabin (78% of rows). Potentially Cabin could be informative, since this would indicate the deck (perhaps proximity to lifeboats). There is no obvious way to infer the cabin from other data or to encode the cabin for training. However there could be a pattern to the passengers that do not have a recorded cabin. Create a categorical feature for whether the cabin was in the data or not."
   ]
  },
  {
   "cell_type": "code",
   "execution_count": 948,
   "metadata": {
    "id": "XwfnxuUL1TGv"
   },
   "outputs": [],
   "source": [
    "# Create a new feature 'has_cabin' then drop 'cabin'\n",
    "data['has_cabin'] = data['cabin'].apply(lambda x: 'yes' if pd.notna(x) else 'no')\n",
    "data = data.drop('cabin', axis=1)"
   ]
  },
  {
   "cell_type": "markdown",
   "metadata": {
    "id": "6y8YxaITCG97"
   },
   "source": [
    "**Age**\n",
    "\n",
    "Age was an important factor in survival (most infants survived). There are 263 rows (20%) with missing values of age. I want to keep age as continuous numerical data and not bin as categorical, so fill the nans with median values. Age varies across cabin class so use pclass and title to help fill missing ages."
   ]
  },
  {
   "cell_type": "markdown",
   "metadata": {
    "id": "wKwTC3Vp4eIp"
   },
   "source": [
    "**Age for passengers with the title *Miss***\n",
    "\n",
    "There is a challenge in using the average age for passengers with the title \"Miss\". I can be certain that males with the title \"Master\" are infants -- they have an median age of six. Females with the title \"Miss\" could be either infants or unmarried adults. The median age for Miss in first class is 30.\n",
    "\n",
    "There were 50 passengers with the title \"Miss\" of which 47 were in thrid class. The median age for \"Miss\" in third class was 18.75. I will use that value given I have no better value and do not want to delete 50 rows of data."
   ]
  },
  {
   "cell_type": "markdown",
   "metadata": {
    "id": "bh03hFtiJhgx"
   },
   "source": [
    "For Mr, Mrs, Miss and Master set NaNs in age to the median age for passengers with the same title and cabin class."
   ]
  },
  {
   "cell_type": "code",
   "execution_count": 949,
   "metadata": {
    "id": "mlwncpROFe1C"
   },
   "outputs": [],
   "source": [
    "classes = [1,2,3]\n",
    "titles = ['Mr', 'Mrs', 'Master', 'Miss']\n",
    "for title in titles:\n",
    "  for pclass in classes:\n",
    "    ave_age = data[(data.pclass == pclass) & (data.title == title)].age.median()\n",
    "    data.loc[(data.pclass == pclass) & (data.title == title) & (data.age.isnull()), 'age'] = ave_age"
   ]
  },
  {
   "cell_type": "code",
   "execution_count": 950,
   "metadata": {
    "colab": {
     "base_uri": "https://localhost:8080/",
     "height": 153
    },
    "id": "5p47mVCfI6b0",
    "outputId": "2ef4e42d-2253-4470-bc1e-8b33f0836090"
   },
   "outputs": [
    {
     "data": {
      "text/html": [
       "<div>\n",
       "<style scoped>\n",
       "    .dataframe tbody tr th:only-of-type {\n",
       "        vertical-align: middle;\n",
       "    }\n",
       "\n",
       "    .dataframe tbody tr th {\n",
       "        vertical-align: top;\n",
       "    }\n",
       "\n",
       "    .dataframe thead th {\n",
       "        text-align: right;\n",
       "    }\n",
       "</style>\n",
       "<table border=\"1\" class=\"dataframe\">\n",
       "  <thead>\n",
       "    <tr style=\"text-align: right;\">\n",
       "      <th></th>\n",
       "      <th>passengerid</th>\n",
       "      <th>survived</th>\n",
       "      <th>pclass</th>\n",
       "      <th>name</th>\n",
       "      <th>sex</th>\n",
       "      <th>age</th>\n",
       "      <th>sibsp</th>\n",
       "      <th>parch</th>\n",
       "      <th>ticket</th>\n",
       "      <th>fare</th>\n",
       "      <th>embarked</th>\n",
       "      <th>train</th>\n",
       "      <th>title</th>\n",
       "      <th>fare_per_passenger</th>\n",
       "      <th>family_members</th>\n",
       "      <th>infant</th>\n",
       "      <th>has_cabin</th>\n",
       "    </tr>\n",
       "  </thead>\n",
       "  <tbody>\n",
       "    <tr>\n",
       "      <th>766</th>\n",
       "      <td>767</td>\n",
       "      <td>0.0</td>\n",
       "      <td>1</td>\n",
       "      <td>Brewe, Dr. Arthur Jackson</td>\n",
       "      <td>male</td>\n",
       "      <td>NaN</td>\n",
       "      <td>0</td>\n",
       "      <td>0</td>\n",
       "      <td>112379</td>\n",
       "      <td>39.6</td>\n",
       "      <td>C</td>\n",
       "      <td>1</td>\n",
       "      <td>Professional</td>\n",
       "      <td>39.6</td>\n",
       "      <td>0</td>\n",
       "      <td>0</td>\n",
       "      <td>no</td>\n",
       "    </tr>\n",
       "  </tbody>\n",
       "</table>\n",
       "</div>"
      ],
      "text/plain": [
       "     passengerid  survived  pclass                       name   sex  age  \\\n",
       "766          767       0.0       1  Brewe, Dr. Arthur Jackson  male  NaN   \n",
       "\n",
       "     sibsp  parch  ticket  fare embarked  train         title  \\\n",
       "766      0      0  112379  39.6        C      1  Professional   \n",
       "\n",
       "     fare_per_passenger  family_members  infant has_cabin  \n",
       "766                39.6               0       0        no  "
      ]
     },
     "execution_count": 950,
     "metadata": {},
     "output_type": "execute_result"
    }
   ],
   "source": [
    "# Check for remaining age is nan\n",
    "data.loc[data['age'].isnull()]"
   ]
  },
  {
   "cell_type": "code",
   "execution_count": 951,
   "metadata": {
    "id": "GRG-a0H79aot"
   },
   "outputs": [],
   "source": [
    "# Set to the median age for professionals in class 1\n",
    "data.loc[data['age'].isnull(), 'age'] = data.loc[(data.title == 'Professional') & (data.pclass == 1)].age.median()"
   ]
  },
  {
   "cell_type": "markdown",
   "metadata": {
    "id": "Q4ZdhGk40TOg"
   },
   "source": [
    "**Fare**\n",
    "\n",
    "The only passenger where we do not know the fare paid is Mr Thomas Storey, a 60 year old man, travelling in third class. I will replace the null value with the median fare for passengers in third class with the title \"Mr\" (£7.90).\n",
    "\n"
   ]
  },
  {
   "cell_type": "code",
   "execution_count": 952,
   "metadata": {
    "colab": {
     "base_uri": "https://localhost:8080/",
     "height": 135
    },
    "id": "29h3eXxK_sVe",
    "outputId": "b443bd55-b716-44c7-c5bf-8dcffcccd71c"
   },
   "outputs": [
    {
     "data": {
      "text/html": [
       "<div>\n",
       "<style scoped>\n",
       "    .dataframe tbody tr th:only-of-type {\n",
       "        vertical-align: middle;\n",
       "    }\n",
       "\n",
       "    .dataframe tbody tr th {\n",
       "        vertical-align: top;\n",
       "    }\n",
       "\n",
       "    .dataframe thead th {\n",
       "        text-align: right;\n",
       "    }\n",
       "</style>\n",
       "<table border=\"1\" class=\"dataframe\">\n",
       "  <thead>\n",
       "    <tr style=\"text-align: right;\">\n",
       "      <th></th>\n",
       "      <th>passengerid</th>\n",
       "      <th>survived</th>\n",
       "      <th>pclass</th>\n",
       "      <th>name</th>\n",
       "      <th>sex</th>\n",
       "      <th>age</th>\n",
       "      <th>sibsp</th>\n",
       "      <th>parch</th>\n",
       "      <th>ticket</th>\n",
       "      <th>fare</th>\n",
       "      <th>embarked</th>\n",
       "      <th>train</th>\n",
       "      <th>title</th>\n",
       "      <th>fare_per_passenger</th>\n",
       "      <th>family_members</th>\n",
       "      <th>infant</th>\n",
       "      <th>has_cabin</th>\n",
       "    </tr>\n",
       "  </thead>\n",
       "  <tbody>\n",
       "    <tr>\n",
       "      <th>152</th>\n",
       "      <td>1044</td>\n",
       "      <td>NaN</td>\n",
       "      <td>3</td>\n",
       "      <td>Storey, Mr. Thomas</td>\n",
       "      <td>male</td>\n",
       "      <td>60.5</td>\n",
       "      <td>0</td>\n",
       "      <td>0</td>\n",
       "      <td>3701</td>\n",
       "      <td>NaN</td>\n",
       "      <td>S</td>\n",
       "      <td>0</td>\n",
       "      <td>Mr</td>\n",
       "      <td>NaN</td>\n",
       "      <td>0</td>\n",
       "      <td>0</td>\n",
       "      <td>no</td>\n",
       "    </tr>\n",
       "  </tbody>\n",
       "</table>\n",
       "</div>"
      ],
      "text/plain": [
       "     passengerid  survived  pclass                name   sex   age  sibsp  \\\n",
       "152         1044       NaN       3  Storey, Mr. Thomas  male  60.5      0   \n",
       "\n",
       "     parch ticket  fare embarked  train title  fare_per_passenger  \\\n",
       "152      0   3701   NaN        S      0    Mr                 NaN   \n",
       "\n",
       "     family_members  infant has_cabin  \n",
       "152               0       0        no  "
      ]
     },
     "execution_count": 952,
     "metadata": {},
     "output_type": "execute_result"
    }
   ],
   "source": [
    "data[data.fare.isna()]"
   ]
  },
  {
   "cell_type": "code",
   "execution_count": 953,
   "metadata": {
    "colab": {
     "base_uri": "https://localhost:8080/"
    },
    "id": "Y4EiZC4S0Vyo",
    "outputId": "faeb6411-495e-41e7-a2e7-3fc19fd96a37"
   },
   "outputs": [
    {
     "data": {
      "text/plain": [
       "7.8958"
      ]
     },
     "execution_count": 953,
     "metadata": {},
     "output_type": "execute_result"
    }
   ],
   "source": [
    "data[(data.pclass == 3) & (data.title == 'Mr')].fare.median()"
   ]
  },
  {
   "cell_type": "code",
   "execution_count": 954,
   "metadata": {
    "id": "dscy6SYg0VpM"
   },
   "outputs": [],
   "source": [
    "data.fare.fillna(7.90, inplace = True)"
   ]
  },
  {
   "cell_type": "markdown",
   "metadata": {},
   "source": [
    "## Categorical Age\n"
   ]
  },
  {
   "cell_type": "code",
   "execution_count": 955,
   "metadata": {},
   "outputs": [],
   "source": [
    "# Define bin edges and labels\n",
    "age_bins = [0, 15, 30, 50, float(\"inf\")]\n",
    "age_labels = ['0-14', '15-29', '30-49', '50+']\n",
    "\n",
    "# Create a new column 'AgeCategory' with bin labels based on 'Age' column\n",
    "data['age_category'] = pd.cut(data['age'], bins=age_bins, labels=age_labels, right=False)"
   ]
  },
  {
   "cell_type": "markdown",
   "metadata": {
    "id": "mu_BLsiT8Jj0"
   },
   "source": [
    "## Interaction Terms\n",
    "The data analysis suggested interaction between sex, cabin class and age. Add interaction terms for:\n",
    " * Sex and infant\n",
    " * Age and pclass\n",
    " * Fare and pclass\n",
    " * Sex and pclass"
   ]
  },
  {
   "cell_type": "code",
   "execution_count": 956,
   "metadata": {
    "id": "XrXBQa-rKWz1"
   },
   "outputs": [],
   "source": [
    "# Set interaction terms\n",
    "data['sex_infant'] = data.sex.astype(str) + \"_\" + data.infant.astype(str)\n",
    "data['age_category_pclass'] = data.age_category.astype(str) + \"_\" + data.pclass.astype(str)\n",
    "data['sex_pclass'] = data.sex.astype(str) + \"_\" + data.pclass.astype(str)\n",
    "data['fare_pclass'] = data.fare_per_passenger * data.pclass\n"
   ]
  },
  {
   "cell_type": "markdown",
   "metadata": {
    "id": "st0pidQZ78H6"
   },
   "source": [
    "Drop columns and encode\n",
    "\n"
   ]
  },
  {
   "cell_type": "code",
   "execution_count": 957,
   "metadata": {
    "colab": {
     "base_uri": "https://localhost:8080/",
     "height": 399
    },
    "id": "x-t_jnpH8C1s",
    "outputId": "13076968-10b5-4c54-cbd2-93d82c086fee"
   },
   "outputs": [],
   "source": [
    "# Drop columns that cannot be easily encoded\n",
    "data = data.drop(columns=['name', 'ticket'])\n",
    "\n",
    "# One hot encode categorical data\n",
    "columns=['pclass', 'sex', 'embarked', 'title', 'infant', 'has_cabin', 'age_category', 'sex_infant', 'age_category_pclass', 'sex_pclass']\n",
    "data = pd.get_dummies(data, columns=columns)\n",
    "\n",
    "# Lower case the column names\n",
    "data.columns = data.columns.str.lower()"
   ]
  },
  {
   "cell_type": "code",
   "execution_count": 958,
   "metadata": {
    "id": "ZIK6eDPVBvwD"
   },
   "outputs": [],
   "source": [
    "# Seperate the data back to train and test sets\n",
    "train = data[data.train == 1].copy()\n",
    "train = train.drop(columns=['train', 'passengerid'], axis=1)\n",
    "\n",
    "test = data[data.train == 0].copy()\n",
    "test = test.drop('train', axis=1)   # keep 'passengerid' for kaggle submission"
   ]
  },
  {
   "cell_type": "code",
   "execution_count": 959,
   "metadata": {
    "colab": {
     "base_uri": "https://localhost:8080/"
    },
    "id": "2y0579ITGGvD",
    "outputId": "ee14fc5e-1c46-41e1-b3a4-d7a3d5baa2ee"
   },
   "outputs": [
    {
     "data": {
      "text/plain": [
       "(712, 179, 418)"
      ]
     },
     "execution_count": 959,
     "metadata": {},
     "output_type": "execute_result"
    }
   ],
   "source": [
    "# Create train and validation data sets\n",
    "train_minus_val, val = train_test_split(train, test_size=0.2, random_state=42)\n",
    "len(train_minus_val), len(val), len(test)"
   ]
  },
  {
   "cell_type": "code",
   "execution_count": 960,
   "metadata": {
    "id": "l0vXQ22AITDv"
   },
   "outputs": [],
   "source": [
    "# Split into X and y data sets\n",
    "y_train, y_val = train_minus_val.survived, val.survived\n",
    "X_train, X_val = train_minus_val.drop('survived', axis=1), val.drop('survived', axis=1)"
   ]
  },
  {
   "cell_type": "markdown",
   "metadata": {
    "id": "LLYG-gcN_G8e"
   },
   "source": [
    "## Visualize Encoded Data\n",
    "Visualize selected correlations"
   ]
  },
  {
   "cell_type": "code",
   "execution_count": 967,
   "metadata": {},
   "outputs": [
    {
     "data": {
      "image/png": "[encoded data removed]",
      "text/plain": [
       "<Figure size 864x864 with 2 Axes>"
      ]
     },
     "metadata": {},
     "output_type": "display_data"
    }
   ],
   "source": [
    "# Plot correlation as a heatmap\n",
    "plt.figure(figsize=(12,12))\n",
    "sns.heatmap(train[['survived', 'age', 'age_category_pclass_0-14_1', 'age_category_pclass_0-14_2',\n",
    "       'age_category_pclass_0-14_3', 'age_category_pclass_15-29_1',\n",
    "       'age_category_pclass_15-29_2', 'age_category_pclass_15-29_3',\n",
    "       'age_category_pclass_30-49_1', 'age_category_pclass_30-49_2',\n",
    "       'age_category_pclass_30-49_3', 'age_category_pclass_50+_1',\n",
    "       'age_category_pclass_50+_2', 'age_category_pclass_50+_3',\n",
    "       'sex_pclass_female_1', 'sex_pclass_female_2', 'sex_pclass_female_3',\n",
    "       'sex_pclass_male_1', 'sex_pclass_male_2', 'sex_pclass_male_3', 'fare', 'fare_per_passenger']].corr(), \n",
    "            vmax=0.8, \n",
    "            linewidths=0.5, \n",
    "            fmt='.2f', \n",
    "            square=True, \n",
    "            annot=True, \n",
    "            cmap='YlGnBu',\n",
    "            linecolor=\"white\");"
   ]
  },
  {
   "cell_type": "markdown",
   "metadata": {
    "id": "AK_qJ-89Bef3"
   },
   "source": [
    "# Machine Learning\n",
    "\n",
    "The most basic model is to predict that nobody survives. that has an accuracy of 61.1%.\n",
    "\n",
    "A model that predicted all females survive and all males do not survive would be 74.2% accurate for females and 81.1% accurate for males."
   ]
  },
  {
   "cell_type": "code",
   "execution_count": 969,
   "metadata": {
    "id": "IqILMkxRr7wP"
   },
   "outputs": [],
   "source": [
    "# Set a random seed so that models can be tuned and compared\n",
    "random_seed = 42"
   ]
  },
  {
   "cell_type": "code",
   "execution_count": 971,
   "metadata": {
    "colab": {
     "base_uri": "https://localhost:8080/"
    },
    "id": "6Im_OQ-x-HlF",
    "outputId": "b02a7a65-e05e-4067-9b50-e9a90bed37aa"
   },
   "outputs": [
    {
     "name": "stdout",
     "output_type": "stream",
     "text": [
      "Simple Model 1 - Nobody survives:\n",
      "\t61.6% accurate\n",
      "\n",
      "Simple Model 2 - Females survive and males do not:\n",
      "\tFemales: 74.2%\n",
      "\tMales: 81.1%\n",
      "\n",
      "Simple Model 3 - Males over 10 years old do not survive, everyone else does:\n",
      "\tFemales: 74.2%\n",
      "\tMales: 83.7%\n"
     ]
    }
   ],
   "source": [
    "print(f'Simple Model 1 - Nobody survives:')\n",
    "print(f'\\t{round((1 - train.survived.mean())*100, 1)}% accurate\\n')\n",
    "print(f'Simple Model 2 - Females survive and males do not:')\n",
    "print(f'\\tFemales: {round(train[train.sex_female == 1].survived.mean()*100, 1)}%')\n",
    "print(f'\\tMales: {round((1 - train[train.sex_male == 1].survived.mean()) *100, 1)}%\\n')\n",
    "print(f'Simple Model 3 - Males over 10 years old do not survive, everyone else does:')\n",
    "print(f'\\tFemales: {round(train[train.sex_female == 1].survived.mean()*100, 1)}%')\n",
    "print(f'\\tMales: {round((1 - train[(train.sex_male == 1) & (train.age > 10)].survived.mean()) *100, 1)}%')"
   ]
  },
  {
   "cell_type": "markdown",
   "metadata": {
    "id": "9ZucOjkAGUuC"
   },
   "source": [
    "It can be seen that a simple decision tree based on male/female is already fairly accurate without applying any ML algorithms."
   ]
  },
  {
   "cell_type": "markdown",
   "metadata": {
    "id": "5MkRzu8sGmvq"
   },
   "source": [
    "## Decision Tree\n",
    "\n",
    "It looks like a simple decision tree starts to predict the survival. A decision tree might give good accuracy quite quickly. An added benefit is that the importance of featuress can be interpretted. Begin by training a DT without scaling the features so it can be interpretted."
   ]
  },
  {
   "cell_type": "code",
   "execution_count": 972,
   "metadata": {
    "colab": {
     "base_uri": "https://localhost:8080/"
    },
    "id": "tkrEVDuBNtTF",
    "outputId": "54d24530-65d5-4366-8978-bd512800c729"
   },
   "outputs": [
    {
     "name": "stdout",
     "output_type": "stream",
     "text": [
      "Validation accuracy: 83.2%\n"
     ]
    }
   ],
   "source": [
    "# Create and train a decision tree classifier using sklearn\n",
    "dt = DecisionTreeClassifier(random_state=random_seed)\n",
    "dt.fit(X_train, y_train)\n",
    "\n",
    "# Make predictions on the validation set and display accuracy\n",
    "val_predictions = dt.predict(X_val)\n",
    "accuracy = accuracy_score(y_val, val_predictions)\n",
    "print(f'Validation accuracy: {round(accuracy*100, 1)}%')"
   ]
  },
  {
   "cell_type": "markdown",
   "metadata": {
    "id": "fp7W2t-ifhJp"
   },
   "source": [
    "The decision tree has an 83% accuracy on the validation data. However accuracy can be skewed when there is an imbalance between the number of outcomese we are predicting. In this case between the count of survived = 0 (62%) and survived = 1 (38%)."
   ]
  },
  {
   "cell_type": "code",
   "execution_count": 973,
   "metadata": {
    "colab": {
     "base_uri": "https://localhost:8080/"
    },
    "id": "UwqkC0yPVQm1",
    "outputId": "e3c0ef79-e40d-4dbe-e683-b8b49ffe5a9a"
   },
   "outputs": [
    {
     "name": "stdout",
     "output_type": "stream",
     "text": [
      "Proportion that survived in the train data: 38.4%\n"
     ]
    }
   ],
   "source": [
    "perc = round(train[train.survived == 1].survived.count()*100/len(train), 1)\n",
    "print(f'Proportion that survived in the train data: {perc}%')"
   ]
  },
  {
   "cell_type": "markdown",
   "metadata": {
    "id": "GraGGzOwTFRU"
   },
   "source": [
    "Area under ROC curve (AUC) will give an alternative measure of accuracy."
   ]
  },
  {
   "cell_type": "code",
   "execution_count": 974,
   "metadata": {
    "colab": {
     "base_uri": "https://localhost:8080/"
    },
    "id": "DrhgP4z2PH5x",
    "outputId": "6f26b421-6585-4289-b633-af406e2e0ea9"
   },
   "outputs": [
    {
     "name": "stdout",
     "output_type": "stream",
     "text": [
      "Training data AUC:\t99.9%\n",
      "Validation data AUC:\t83.1%\n"
     ]
    }
   ],
   "source": [
    "def calc_auc(model, X_train, y_train, X_val, y_val):\n",
    "  # Use predict_proba to calculate AUC\n",
    "\n",
    "  # Predict probabilities for the training set\n",
    "  train_probabilities = dt.predict_proba(X_train)[:, 1]\n",
    "\n",
    "  # Calculate training AUC\n",
    "  train_auc = roc_auc_score(y_train, train_probabilities)\n",
    "\n",
    "  # Predict probabilities for the validation set\n",
    "  val_probabilities = model.predict_proba(X_val)[:, 1]\n",
    "\n",
    "  # Calculate validation AUC\n",
    "  val_auc = roc_auc_score(y_val, val_probabilities)\n",
    "\n",
    "  return(train_auc, val_auc)\n",
    "\n",
    "train_auc, val_auc = calc_auc(dt, X_train, y_train, X_val, y_val)\n",
    "\n",
    "print(f'Training data AUC:\\t{round(train_auc*100, 1)}%')\n",
    "print(f'Validation data AUC:\\t{round(val_auc*100, 1)}%')"
   ]
  },
  {
   "cell_type": "markdown",
   "metadata": {
    "id": "sA4KFuqVUrO7"
   },
   "source": [
    "***Overfitting***\n",
    "\n",
    "The AUC score is 99.9% for the training data and 83% for the validation data. The model is remembering the data. The data set is too small and the model is too complex. This model might not generalize very well against the unseen Test data. "
   ]
  },
  {
   "cell_type": "markdown",
   "metadata": {
    "id": "zmqHxhQg2brN"
   },
   "source": [
    "### Hyper-parameter Tuning\n",
    "Use GridSearchCV from scikit-learn to tune hyper-parameters using cross-validation."
   ]
  },
  {
   "cell_type": "code",
   "execution_count": 975,
   "metadata": {
    "colab": {
     "base_uri": "https://localhost:8080/"
    },
    "id": "Ewo5ou9fphUV",
    "outputId": "038fca98-f538-46c2-bdf8-c19dd0f47460"
   },
   "outputs": [
    {
     "name": "stdout",
     "output_type": "stream",
     "text": [
      "Best Hyperparameters: {'max_depth': 3, 'min_samples_leaf': 20, 'min_samples_split': 50}\n",
      "Best Accuracy: 81.9%\n"
     ]
    }
   ],
   "source": [
    "### Define the hyperparameters and their possible values\n",
    "param_grid = {\n",
    "    'max_depth': [1, 2, 3, 5, 10],\n",
    "    'min_samples_leaf': [15, 20, 40],\n",
    "    'min_samples_split': [50, 100, 200],\n",
    "}\n",
    "\n",
    "# Create Decision Tree classifier\n",
    "dt = DecisionTreeClassifier(random_state=42)\n",
    "\n",
    "# Use GridSearchCV to search for the best hyperparameters\n",
    "grid_search = GridSearchCV(estimator=dt, param_grid=param_grid, cv=5)\n",
    "grid_search.fit(X_train, y_train)\n",
    "\n",
    "# Print the best hyperparameters and corresponding accuracy score\n",
    "print(f'Best Hyperparameters: {grid_search.best_params_}')\n",
    "print(f'Best Accuracy: {grid_search.best_score_*100:.1f}%')"
   ]
  },
  {
   "cell_type": "code",
   "execution_count": 977,
   "metadata": {
    "colab": {
     "base_uri": "https://localhost:8080/"
    },
    "id": "WOa0ElgO0gyM",
    "outputId": "e23e81ec-e32f-421e-fae7-44ec54d45854"
   },
   "outputs": [
    {
     "name": "stdout",
     "output_type": "stream",
     "text": [
      "Validation accuracy:\t79.9%\n",
      "Training data AUC:\t88.1%\n",
      "Validation data AUC:\t86.0%\n"
     ]
    }
   ],
   "source": [
    "# Calculate accuracy against validation data\n",
    "val_predictions = grid_search.predict(X_val)\n",
    "accuracy = accuracy_score(y_val, val_predictions)\n",
    "\n",
    "# Calculate train AUC\n",
    "train_probabilities = grid_search.predict_proba(X_train)[:, 1]\n",
    "train_auc = roc_auc_score(y_train, train_probabilities)\n",
    "\n",
    "# Calculate validation AUC\n",
    "val_probabilities = grid_search.predict_proba(X_val)[:, 1]\n",
    "val_auc = roc_auc_score(y_val, val_probabilities)\n",
    "\n",
    "print(f'Validation accuracy:\\t{accuracy*100:.1f}%')\n",
    "print(f'Training data AUC:\\t{train_auc*100:.1f}%')\n",
    "print(f'Validation data AUC:\\t{val_auc*100:.1f}%')"
   ]
  },
  {
   "cell_type": "markdown",
   "metadata": {
    "id": "KfVzzyNs4zzL"
   },
   "source": [
    "Parameter tuning has improved the AUC against the validation data from 83% to 86%, which is now inline with a training data AUC of 88%. The accuracy against the validation data is decreased from 83% to 80%, but the model is much more likely to generalize. \n",
    "\n",
    "Plot the ROC curve and confusion table for this model. Calculate the precision, recall and F1 scores. "
   ]
  },
  {
   "cell_type": "code",
   "execution_count": 980,
   "metadata": {
    "colab": {
     "base_uri": "https://localhost:8080/",
     "height": 564
    },
    "id": "n5V_Yv8Nr-m_",
    "outputId": "e0c55eee-af5c-4069-f0ed-245dcceba56a"
   },
   "outputs": [
    {
     "name": "stdout",
     "output_type": "stream",
     "text": [
      "AUC: 86.0%\n"
     ]
    },
    {
     "data": {
      "image/png": "[encoded data removed]",
      "text/plain": [
       "<Figure size 576x432 with 1 Axes>"
      ]
     },
     "metadata": {},
     "output_type": "display_data"
    }
   ],
   "source": [
    "# Define parameters\n",
    "max_depth = grid_search.best_params_['max_depth']\n",
    "min_samples_leaf = grid_search.best_params_['min_samples_leaf']\n",
    "min_samples_split = grid_search.best_params_['min_samples_split']\n",
    "\n",
    "# Fit Decision Tree using tuned parameters\n",
    "dt = DecisionTreeClassifier(\n",
    "  max_depth=max_depth, \n",
    "  min_samples_leaf=min_samples_leaf, \n",
    "  min_samples_split=min_samples_split, \n",
    "  random_state=random_seed\n",
    ")\n",
    "dt.fit(X_train, y_train)\n",
    "y_pred = dt.predict_proba(X_val)[:, 1]\n",
    "\n",
    "# Calculate ROC curve\n",
    "fpr, tpr, thresholds = roc_curve(y_val, y_pred)\n",
    "\n",
    "# Calculate AUC\n",
    "roc_auc = auc(fpr, tpr)\n",
    "print(f'AUC: {roc_auc*100:.1f}%')\n",
    "\n",
    "# Plot ROC curve\n",
    "plt.figure(figsize=(8, 6))\n",
    "plt.plot(fpr, tpr, color='darkorange', lw=2, label=f'ROC curve (area = {roc_auc:.2f})')\n",
    "plt.plot([0, 1], [0, 1], color='navy', lw=2, linestyle='--')\n",
    "plt.xlim([0.0, 1.0])\n",
    "plt.ylim([0.0, 1.05])\n",
    "plt.xlabel('False Positive Rate')\n",
    "plt.ylabel('True Positive Rate')\n",
    "plt.title('ROC Curve for the Validation Data')\n",
    "plt.legend(loc='lower right')\n",
    "plt.show()"
   ]
  },
  {
   "cell_type": "code",
   "execution_count": 981,
   "metadata": {},
   "outputs": [
    {
     "data": {
      "image/png": "[encoded data removed]",
      "text/plain": [
       "<Figure size 576x432 with 1 Axes>"
      ]
     },
     "metadata": {},
     "output_type": "display_data"
    }
   ],
   "source": [
    "# Create confusion matrix\n",
    "conf_matrix = confusion_matrix(y_val, val_predictions)\n",
    "\n",
    "# Display the confusion matrix\n",
    "plt.figure(figsize=(8, 6))\n",
    "sns.heatmap(conf_matrix, annot=True, fmt=\".0f\", cmap='Blues', cbar=False,\n",
    "            annot_kws={\"size\": 12},\n",
    "            xticklabels=['Died', 'Survived'],\n",
    "            yticklabels=['Died', 'Survived'])\n",
    "plt.xlabel('Predicted')\n",
    "plt.ylabel('Actual')\n",
    "plt.title('Confusion Matrix (Descision Tree Classifier)')\n",
    "plt.show()"
   ]
  },
  {
   "cell_type": "code",
   "execution_count": 982,
   "metadata": {},
   "outputs": [
    {
     "name": "stdout",
     "output_type": "stream",
     "text": [
      "Precision: 0.797%\n",
      "Recall: 0.689\n",
      "F1-score: 0.739\n"
     ]
    }
   ],
   "source": [
    "# Calculate precision, recall, and F1-score\n",
    "precision = precision_score(y_val, val_predictions)\n",
    "recall = recall_score(y_val, val_predictions)\n",
    "f1 = f1_score(y_val, val_predictions)\n",
    "\n",
    "# Display precision, recall, and F1-score\n",
    "print(f'Precision: {precision:.3f}%')\n",
    "print(f'Recall: {recall:.3f}')\n",
    "print(f'F1-score: {f1:.3f}')"
   ]
  },
  {
   "cell_type": "markdown",
   "metadata": {},
   "source": [
    "An F1 score of 0.74 is not too bad. "
   ]
  },
  {
   "cell_type": "markdown",
   "metadata": {
    "id": "k2hX9sEc65XY"
   },
   "source": [
    "Tuning has made the model generalize much better. To explore how parameter tuning has generalized the model investigate the max_depth parameter."
   ]
  },
  {
   "cell_type": "code",
   "execution_count": 1017,
   "metadata": {
    "id": "6UavEq-1VPm0"
   },
   "outputs": [],
   "source": [
    "def fit_dt(X_train, y_train, X_val, y_val, max_depth=10):\n",
    "  # Create a decision tree with max_depth\n",
    "  dt = DecisionTreeClassifier(\n",
    "    max_depth=max_depth, \n",
    "    min_samples_leaf=grid_search.best_params_['min_samples_leaf'], \n",
    "    min_samples_split=grid_search.best_params_['min_samples_split'], \n",
    "    random_state=random_seed\n",
    "  )\n",
    "  dt.fit(X_train, y_train)\n",
    "\n",
    "  # Calculate accuracy\n",
    "  val_predictions = dt.predict(X_val)\n",
    "  accuracy = accuracy_score(y_val, val_predictions)\n",
    "\n",
    "  # Calculate train AUC\n",
    "  train_probabilities = dt.predict_proba(X_train)[:, 1]\n",
    "  train_auc = roc_auc_score(y_train, train_probabilities)\n",
    "\n",
    "  # Calculate validation AUC\n",
    "  val_probabilities = dt.predict_proba(X_val)[:, 1]\n",
    "  val_auc = roc_auc_score(y_val, val_probabilities)\n",
    "\n",
    "  return(accuracy, train_auc, val_auc)"
   ]
  },
  {
   "cell_type": "code",
   "execution_count": 1018,
   "metadata": {
    "colab": {
     "base_uri": "https://localhost:8080/",
     "height": 472
    },
    "id": "pSy5HVXbXPOb",
    "outputId": "47021133-590c-44e6-febc-12441481e6f9"
   },
   "outputs": [
    {
     "data": {
      "image/png": "[encoded data removed]",
      "text/plain": [
       "<Figure size 576x432 with 1 Axes>"
      ]
     },
     "metadata": {},
     "output_type": "display_data"
    }
   ],
   "source": [
    "# Train the decision tree model with different values of max_depth\n",
    "depth_arr, auc_train, auc_val, acc_val = [], [], [], []\n",
    "\n",
    "for depth in np.arange(1, 11):\n",
    "  depth_arr.append(depth)\n",
    "  acc, auct, aucv = fit_dt(X_train, y_train, X_val, y_val, max_depth=depth)\n",
    "  auc_train.append(auct)\n",
    "  auc_val.append(aucv)\n",
    "  acc_val.append(acc)\n",
    "\n",
    "# Plot AUC against max_depth of the DT\n",
    "plt.figure(figsize=(8, 6))\n",
    "plt.plot(depth_arr, auc_train, label='Training data')\n",
    "plt.plot(depth_arr, auc_val, label='Validation data')\n",
    "plt.xlabel('max_depth parameter')\n",
    "plt.ylabel('AUC')\n",
    "plt.title('Decision Tree AUC against max_depth')\n",
    "plt.legend()\n",
    "plt.show;"
   ]
  },
  {
   "cell_type": "markdown",
   "metadata": {
    "id": "ojfzrjaMgGw2"
   },
   "source": [
    "The maximum AUC on the validation data is for max_depth=7, but the model is overfitting at this point. With a max depth of 3 we already see the AUC for the validation data is reaching a around 86%, with an accuracy of around 80%."
   ]
  },
  {
   "cell_type": "markdown",
   "metadata": {
    "id": "A8zFQJQJr8bQ"
   },
   "source": [
    "### Interpret the Decision Tree\n",
    "A textual representation of the model shows the most prominent features."
   ]
  },
  {
   "cell_type": "code",
   "execution_count": 1019,
   "metadata": {
    "colab": {
     "base_uri": "https://localhost:8080/"
    },
    "id": "2oMQ9AEeRz5j",
    "outputId": "e0299a96-c3df-4424-a9ba-4199e8b4ee95"
   },
   "outputs": [
    {
     "name": "stdout",
     "output_type": "stream",
     "text": [
      "|--- sex_infant_male_0 <= 0.50\n",
      "|   |--- pclass_3 <= 0.50\n",
      "|   |   |--- age_category_pclass_0-14_1 <= 0.50\n",
      "|   |   |   |--- class: 1.0\n",
      "|   |   |--- age_category_pclass_0-14_1 >  0.50\n",
      "|   |   |   |--- class: 1.0\n",
      "|   |--- pclass_3 >  0.50\n",
      "|   |   |--- fare <= 23.35\n",
      "|   |   |   |--- class: 1.0\n",
      "|   |   |--- fare >  23.35\n",
      "|   |   |   |--- class: 0.0\n",
      "|--- sex_infant_male_0 >  0.50\n",
      "|   |--- fare_per_passenger <= 24.56\n",
      "|   |   |--- age_category_pclass_0-14_2 <= 0.50\n",
      "|   |   |   |--- class: 0.0\n",
      "|   |   |--- age_category_pclass_0-14_2 >  0.50\n",
      "|   |   |   |--- class: 1.0\n",
      "|   |--- fare_per_passenger >  24.56\n",
      "|   |   |--- fare <= 387.66\n",
      "|   |   |   |--- class: 0.0\n",
      "|   |   |--- fare >  387.66\n",
      "|   |   |   |--- class: 1.0\n",
      "\n"
     ]
    }
   ],
   "source": [
    "# Generate the textual representation of the decision tree\n",
    "dt = DecisionTreeClassifier(max_depth=3, random_state=42)\n",
    "dt.fit(X_train, y_train)\n",
    "\n",
    "tree_rules = export_text(dt, feature_names=list(X_train.columns))\n",
    "print(tree_rules)"
   ]
  },
  {
   "cell_type": "markdown",
   "metadata": {
    "id": "29oGqRa2nX8J"
   },
   "source": [
    "The **first** split is on sex_infant_male_0. This is branching adult (and teen) males from everyoine else. \n",
    "\n",
    "We expected sex to be the key feature from the initial analysis. By splitting on sex_infant_male_0 instead of male the model has identified that infant males mostly survived.\n",
    "\n",
    "For females and male infants, the **second** split is for pclass = 3. For those in pclass 1 or 2, the model predicts survival. For those in pclass 3, the model makes a final split. The **third** split is for fare greater than 23.35. The model predicts that those with a fare below 23.35 survive and those with a greater fare do not survive. The initial analysis showed fare correlated with number of passengers traveling on the same ticket. The model seems to be identifying fare > 23.35 as a proxy for the size of a large group travelling togeather. \n",
    "\n",
    "For adult males, the **second** split is for fare_per_passenger. For those with a fare_per_passenger less than 24.56, the **third** split predicts those in age group 0-14 and pclass 2 survive and others do not. For those with a fare_per_passenger greater than 24.56, the **third** split predicts those with a fare greater than 387.66 survive and those without do not. This final combination of fare_per_passenger and fare for adult males is proxying a more expensive personal ticket and a larger traveling group as a predictor for survival. \n",
    "\n",
    "In summary, females and males under the age of 15 are predicted to survive unless they are travelling in third class in a large group. Males over the age of 14 are predicted not to survive unless they are tavelling in a larger group on an expensive ticket. There are only two adult males with a fare greater the 387.66 in the training data: Thomas Cardeza and his man servant Gustave Lesurer! The model predicts that every other male over the age of 14 will not survive. \n",
    "\n",
    "It does look like **women and children first** was a good hypothesis!"
   ]
  },
  {
   "cell_type": "markdown",
   "metadata": {},
   "source": [
    "Note that engineered features are being heavily used by the decision tree."
   ]
  },
  {
   "cell_type": "code",
   "execution_count": 1020,
   "metadata": {},
   "outputs": [
    {
     "data": {
      "text/html": [
       "<div>\n",
       "<style scoped>\n",
       "    .dataframe tbody tr th:only-of-type {\n",
       "        vertical-align: middle;\n",
       "    }\n",
       "\n",
       "    .dataframe tbody tr th {\n",
       "        vertical-align: top;\n",
       "    }\n",
       "\n",
       "    .dataframe thead th {\n",
       "        text-align: right;\n",
       "    }\n",
       "</style>\n",
       "<table border=\"1\" class=\"dataframe\">\n",
       "  <thead>\n",
       "    <tr style=\"text-align: right;\">\n",
       "      <th></th>\n",
       "      <th>PassengerId</th>\n",
       "      <th>Survived</th>\n",
       "      <th>Pclass</th>\n",
       "      <th>Name</th>\n",
       "      <th>Sex</th>\n",
       "      <th>Age</th>\n",
       "      <th>SibSp</th>\n",
       "      <th>Parch</th>\n",
       "      <th>Ticket</th>\n",
       "      <th>Fare</th>\n",
       "      <th>Cabin</th>\n",
       "      <th>Embarked</th>\n",
       "    </tr>\n",
       "  </thead>\n",
       "  <tbody>\n",
       "    <tr>\n",
       "      <th>679</th>\n",
       "      <td>680</td>\n",
       "      <td>1</td>\n",
       "      <td>1</td>\n",
       "      <td>Cardeza, Mr. Thomas Drake Martinez</td>\n",
       "      <td>male</td>\n",
       "      <td>36.0</td>\n",
       "      <td>0</td>\n",
       "      <td>1</td>\n",
       "      <td>PC 17755</td>\n",
       "      <td>512.3292</td>\n",
       "      <td>B51 B53 B55</td>\n",
       "      <td>C</td>\n",
       "    </tr>\n",
       "    <tr>\n",
       "      <th>737</th>\n",
       "      <td>738</td>\n",
       "      <td>1</td>\n",
       "      <td>1</td>\n",
       "      <td>Lesurer, Mr. Gustave J</td>\n",
       "      <td>male</td>\n",
       "      <td>35.0</td>\n",
       "      <td>0</td>\n",
       "      <td>0</td>\n",
       "      <td>PC 17755</td>\n",
       "      <td>512.3292</td>\n",
       "      <td>B101</td>\n",
       "      <td>C</td>\n",
       "    </tr>\n",
       "  </tbody>\n",
       "</table>\n",
       "</div>"
      ],
      "text/plain": [
       "     PassengerId  Survived  Pclass                                Name   Sex  \\\n",
       "679          680         1       1  Cardeza, Mr. Thomas Drake Martinez  male   \n",
       "737          738         1       1              Lesurer, Mr. Gustave J  male   \n",
       "\n",
       "      Age  SibSp  Parch    Ticket      Fare        Cabin Embarked  \n",
       "679  36.0      0      1  PC 17755  512.3292  B51 B53 B55        C  \n",
       "737  35.0      0      0  PC 17755  512.3292         B101        C  "
      ]
     },
     "execution_count": 1020,
     "metadata": {},
     "output_type": "execute_result"
    }
   ],
   "source": [
    "df = pd.read_csv('train.csv')\n",
    "df[(df.Sex == 'male') & (df.Fare > 387.66)]"
   ]
  },
  {
   "cell_type": "code",
   "execution_count": 1022,
   "metadata": {},
   "outputs": [
    {
     "data": {
      "text/html": [
       "<div>\n",
       "<style scoped>\n",
       "    .dataframe tbody tr th:only-of-type {\n",
       "        vertical-align: middle;\n",
       "    }\n",
       "\n",
       "    .dataframe tbody tr th {\n",
       "        vertical-align: top;\n",
       "    }\n",
       "\n",
       "    .dataframe thead th {\n",
       "        text-align: right;\n",
       "    }\n",
       "</style>\n",
       "<table border=\"1\" class=\"dataframe\">\n",
       "  <thead>\n",
       "    <tr style=\"text-align: right;\">\n",
       "      <th></th>\n",
       "      <th>importance</th>\n",
       "    </tr>\n",
       "    <tr>\n",
       "      <th>feature</th>\n",
       "      <th></th>\n",
       "    </tr>\n",
       "  </thead>\n",
       "  <tbody>\n",
       "    <tr>\n",
       "      <th>sex_infant_male_0</th>\n",
       "      <td>0.65420</td>\n",
       "    </tr>\n",
       "    <tr>\n",
       "      <th>pclass_3</th>\n",
       "      <td>0.19441</td>\n",
       "    </tr>\n",
       "    <tr>\n",
       "      <th>fare</th>\n",
       "      <td>0.09026</td>\n",
       "    </tr>\n",
       "    <tr>\n",
       "      <th>fare_per_passenger</th>\n",
       "      <td>0.04929</td>\n",
       "    </tr>\n",
       "    <tr>\n",
       "      <th>age_category_pclass_0-14_2</th>\n",
       "      <td>0.00954</td>\n",
       "    </tr>\n",
       "    <tr>\n",
       "      <th>age_category_pclass_0-14_1</th>\n",
       "      <td>0.00230</td>\n",
       "    </tr>\n",
       "    <tr>\n",
       "      <th>age</th>\n",
       "      <td>0.00000</td>\n",
       "    </tr>\n",
       "    <tr>\n",
       "      <th>age_category_pclass_30-49_1</th>\n",
       "      <td>0.00000</td>\n",
       "    </tr>\n",
       "    <tr>\n",
       "      <th>sex_infant_female_0</th>\n",
       "      <td>0.00000</td>\n",
       "    </tr>\n",
       "    <tr>\n",
       "      <th>sex_infant_female_1</th>\n",
       "      <td>0.00000</td>\n",
       "    </tr>\n",
       "  </tbody>\n",
       "</table>\n",
       "</div>"
      ],
      "text/plain": [
       "                             importance\n",
       "feature                                \n",
       "sex_infant_male_0               0.65420\n",
       "pclass_3                        0.19441\n",
       "fare                            0.09026\n",
       "fare_per_passenger              0.04929\n",
       "age_category_pclass_0-14_2      0.00954\n",
       "age_category_pclass_0-14_1      0.00230\n",
       "age                             0.00000\n",
       "age_category_pclass_30-49_1     0.00000\n",
       "sex_infant_female_0             0.00000\n",
       "sex_infant_female_1             0.00000"
      ]
     },
     "execution_count": 1022,
     "metadata": {},
     "output_type": "execute_result"
    }
   ],
   "source": [
    "importances = pd.DataFrame({'feature': X_train.columns,'importance': np.round(dt.feature_importances_, 5)})\n",
    "importances = importances.sort_values('importance',ascending=False).set_index('feature')\n",
    "importances.head(10)"
   ]
  },
  {
   "cell_type": "markdown",
   "metadata": {
    "id": "y5vSHsSr7smX"
   },
   "source": [
    "## Compare Scikit-learn Alogrthims (with default hyper-parameters)\n",
    "Scikit-learn provides a number of algorithms for training models. We can loop through them all to see if any particular algorithms over perform the others.  "
   ]
  },
  {
   "cell_type": "code",
   "execution_count": 1023,
   "metadata": {
    "id": "2skFvvTPOYeA"
   },
   "outputs": [],
   "source": [
    "random_seed = 42"
   ]
  },
  {
   "cell_type": "code",
   "execution_count": 1027,
   "metadata": {
    "id": "BgREHthQuN8a"
   },
   "outputs": [],
   "source": [
    "# Scale the data\n",
    "features_to_normalize = ['age', 'sibsp', 'parch', 'fare', 'fare_per_passenger', 'fare_pclass', 'family_members']\n",
    "scaler = MinMaxScaler()\n",
    "X_train[features_to_normalize] = scaler.fit_transform(X_train[features_to_normalize])\n",
    "X_val[features_to_normalize] = scaler.fit_transform(X_val[features_to_normalize])"
   ]
  },
  {
   "cell_type": "code",
   "execution_count": 1028,
   "metadata": {
    "id": "5gfLRbFl-RLr"
   },
   "outputs": [],
   "source": [
    "def append_acc(algo_name, acc_train, acc_val):\n",
    "  model_type.append(algo_name)\n",
    "  accuracies_train.append(acc_train)\n",
    "  accuracies_val.append(acc_val)"
   ]
  },
  {
   "cell_type": "code",
   "execution_count": 1029,
   "metadata": {
    "id": "zu14xftg7_o4"
   },
   "outputs": [
    {
     "data": {
      "text/html": [
       "<div>\n",
       "<style scoped>\n",
       "    .dataframe tbody tr th:only-of-type {\n",
       "        vertical-align: middle;\n",
       "    }\n",
       "\n",
       "    .dataframe tbody tr th {\n",
       "        vertical-align: top;\n",
       "    }\n",
       "\n",
       "    .dataframe thead th {\n",
       "        text-align: right;\n",
       "    }\n",
       "</style>\n",
       "<table border=\"1\" class=\"dataframe\">\n",
       "  <thead>\n",
       "    <tr style=\"text-align: right;\">\n",
       "      <th></th>\n",
       "      <th>Model</th>\n",
       "      <th>Train Accuracy</th>\n",
       "      <th>Validation Accuracy</th>\n",
       "    </tr>\n",
       "  </thead>\n",
       "  <tbody>\n",
       "    <tr>\n",
       "      <th>6</th>\n",
       "      <td>Linear Support Vector Machine</td>\n",
       "      <td>0.846910</td>\n",
       "      <td>0.810056</td>\n",
       "    </tr>\n",
       "    <tr>\n",
       "      <th>2</th>\n",
       "      <td>Logistic Regression</td>\n",
       "      <td>0.845506</td>\n",
       "      <td>0.804469</td>\n",
       "    </tr>\n",
       "    <tr>\n",
       "      <th>0</th>\n",
       "      <td>Stochastic Gradient Descent</td>\n",
       "      <td>0.842697</td>\n",
       "      <td>0.798883</td>\n",
       "    </tr>\n",
       "    <tr>\n",
       "      <th>3</th>\n",
       "      <td>K Nearest Neighbour</td>\n",
       "      <td>0.870787</td>\n",
       "      <td>0.793296</td>\n",
       "    </tr>\n",
       "    <tr>\n",
       "      <th>4</th>\n",
       "      <td>Gaussian Naive Bayes</td>\n",
       "      <td>0.804775</td>\n",
       "      <td>0.782123</td>\n",
       "    </tr>\n",
       "    <tr>\n",
       "      <th>1</th>\n",
       "      <td>Random Forest</td>\n",
       "      <td>0.984551</td>\n",
       "      <td>0.726257</td>\n",
       "    </tr>\n",
       "    <tr>\n",
       "      <th>5</th>\n",
       "      <td>Perceptron</td>\n",
       "      <td>0.706461</td>\n",
       "      <td>0.709497</td>\n",
       "    </tr>\n",
       "    <tr>\n",
       "      <th>7</th>\n",
       "      <td>Decision Tree</td>\n",
       "      <td>0.984551</td>\n",
       "      <td>0.659218</td>\n",
       "    </tr>\n",
       "  </tbody>\n",
       "</table>\n",
       "</div>"
      ],
      "text/plain": [
       "                           Model  Train Accuracy  Validation Accuracy\n",
       "6  Linear Support Vector Machine        0.846910             0.810056\n",
       "2            Logistic Regression        0.845506             0.804469\n",
       "0    Stochastic Gradient Descent        0.842697             0.798883\n",
       "3            K Nearest Neighbour        0.870787             0.793296\n",
       "4           Gaussian Naive Bayes        0.804775             0.782123\n",
       "1                  Random Forest        0.984551             0.726257\n",
       "5                     Perceptron        0.706461             0.709497\n",
       "7                  Decision Tree        0.984551             0.659218"
      ]
     },
     "execution_count": 1029,
     "metadata": {},
     "output_type": "execute_result"
    }
   ],
   "source": [
    "model_type, accuracies_train, accuracies_val = [], [], []\n",
    "\n",
    "# Stochastic Gradient Descent (SGD)\n",
    "sgd = linear_model.SGDClassifier(tol=None, random_state=random_seed)\n",
    "sgd.fit(X_train, y_train)\n",
    "\n",
    "# Predict for validation data\n",
    "y_pred = sgd.predict(X_val)\n",
    "\n",
    "# Get Accuracies\n",
    "acc_train = sgd.score(X_train, y_train)\n",
    "acc_val = accuracy_score(y_val, y_pred)\n",
    "append_acc('Stochastic Gradient Descent', acc_train, acc_val)\n",
    "\n",
    "#####\n",
    "\n",
    "# Random Forest\n",
    "random_forest = RandomForestClassifier(n_estimators=100, random_state=random_seed)\n",
    "random_forest.fit(X_train, y_train)\n",
    "\n",
    "y_pred = random_forest.predict(X_val)\n",
    "\n",
    "acc_train = random_forest.score(X_train, y_train)\n",
    "acc_val = accuracy_score(y_val, y_pred)\n",
    "append_acc('Random Forest', acc_train, acc_val)\n",
    "\n",
    "#####\n",
    "\n",
    "# Logistic Regression\n",
    "logreg = LogisticRegression(random_state=random_seed)\n",
    "logreg.fit(X_train, y_train)\n",
    "\n",
    "y_pred = logreg.predict(X_val)\n",
    "\n",
    "acc_train = logreg.score(X_train, y_train)\n",
    "acc_val = accuracy_score(y_val, y_pred)\n",
    "append_acc('Logistic Regression', acc_train, acc_val)\n",
    "\n",
    "#####\n",
    "\n",
    "# K Nearest Neighbour\n",
    "knn = KNeighborsClassifier()\n",
    "knn.fit(X_train, y_train)\n",
    "\n",
    "y_pred = knn.predict(X_val)\n",
    "\n",
    "acc_train = knn.score(X_train, y_train)\n",
    "acc_val = accuracy_score(y_val, y_pred)\n",
    "append_acc('K Nearest Neighbour', acc_train, acc_val)\n",
    "\n",
    "#####\n",
    "\n",
    "# Gaussian Naive Bayes\n",
    "gaussian = GaussianNB()\n",
    "gaussian.fit(X_train, y_train)\n",
    "\n",
    "y_pred = gaussian.predict(X_val)\n",
    "\n",
    "acc_train = gaussian.score(X_train, y_train)\n",
    "acc_val = accuracy_score(y_val, y_pred)\n",
    "append_acc('Gaussian Naive Bayes', acc_train, acc_val)\n",
    "\n",
    "#####\n",
    "\n",
    "# Perceptron\n",
    "perceptron = Perceptron(random_state=random_seed)\n",
    "perceptron.fit(X_train, y_train)\n",
    "\n",
    "y_pred = perceptron.predict(X_val)\n",
    "\n",
    "acc_train = perceptron.score(X_train, y_train)\n",
    "acc_val = accuracy_score(y_val, y_pred)\n",
    "append_acc('Perceptron', acc_train, acc_val)\n",
    "\n",
    "#####\n",
    "\n",
    "# Linear Support Vector Machine\n",
    "linear_svc = LinearSVC(dual='auto', max_iter=2000, random_state=random_seed)\n",
    "linear_svc.fit(X_train, y_train)\n",
    "\n",
    "y_pred = linear_svc.predict(X_val)\n",
    "\n",
    "acc_train = linear_svc.score(X_train, y_train)\n",
    "acc_val = accuracy_score(y_val, y_pred)\n",
    "append_acc('Linear Support Vector Machine', acc_train, acc_val)\n",
    "\n",
    "#####\n",
    "\n",
    "# Decision Tree\n",
    "decision_tree = DecisionTreeClassifier(random_state=random_seed)\n",
    "decision_tree.fit(X_train, y_train)\n",
    "\n",
    "y_pred = decision_tree.predict(X_val)\n",
    "\n",
    "acc_train = decision_tree.score(X_train, y_train)\n",
    "acc_val = accuracy_score(y_val, y_pred)\n",
    "append_acc('Decision Tree', acc_train, acc_val)\n",
    "\n",
    "# Show all results\n",
    "results = pd.DataFrame({\n",
    "    'Model': model_type,\n",
    "    'Train Accuracy': accuracies_train,\n",
    "    'Validation Accuracy': accuracies_val})\n",
    "results = results.sort_values(by='Validation Accuracy', ascending=False)\n",
    "results.head(15)"
   ]
  },
  {
   "cell_type": "markdown",
   "metadata": {
    "id": "kNgqVIqOScxT"
   },
   "source": [
    "From this quick analysis the alogorithms are mostly training models with around 79-81% accuracy on the validation data (without regularization or parameter tuning).\n",
    "\n",
    "Rnadom Forests and Decision Trees (and to a lesser extent K Nearest Neighbours) overfit the data. The Decision Tree only has a validation accuracy of 66%, but after regularizing and tuning this was increased to 80%, with an AUC of 86% (against unscaled validation data).\n",
    "\n",
    "Is it possible to beat that for selected models here?"
   ]
  },
  {
   "cell_type": "markdown",
   "metadata": {},
   "source": [
    "## Tuning Model Hyperparameters"
   ]
  },
  {
   "cell_type": "code",
   "execution_count": 1044,
   "metadata": {},
   "outputs": [],
   "source": [
    "def tune_model(classifier, param_grid): \n",
    "  # Tune parameters for a classifier\n",
    "\n",
    "  # Grid Search\n",
    "  print('Tuning model paramters...')\n",
    "  grid_search = GridSearchCV(estimator=classifier, param_grid=param_grid, cv=5)\n",
    "  grid_search.fit(X_train, y_train)\n",
    "\n",
    "  # Get the best parameters and best model\n",
    "  best_params = grid_search.best_params_\n",
    "  best_model = grid_search.best_estimator_\n",
    "\n",
    "  # Make predictions on the validation data\n",
    "  y_pred = best_model.predict(X_val)\n",
    "\n",
    "  # Calculate accuracy on the validation data\n",
    "  accuracy = accuracy_score(y_val, y_pred)\n",
    "  print(f'Best Parameters: {best_params}')\n",
    "  print(f'Accuracy on Validation Data: {accuracy*100:.1f}%')\n",
    "  \n",
    "  # Calculate train AUC\n",
    "  y_train_probs = best_model.predict_proba(X_train)[:, 1]\n",
    "  train_auc = roc_auc_score(y_train, y_train_probs)\n",
    "\n",
    "  # Calculate validation AUC\n",
    "  y_val_probs = best_model.predict_proba(X_val)[:, 1]\n",
    "  val_auc = roc_auc_score(y_val, y_val_probs)\n",
    "\n",
    "  print(f'Training data AUC:\\t{train_auc*100:.2f}%')\n",
    "  print(f'Validation data AUC:\\t{val_auc*100:.2f}%')\n",
    "  \n",
    "  # Plot ROC Curve\n",
    "  fpr, tpr, thresholds = roc_curve(y_val, y_val_probs)\n",
    "  plt.figure(figsize=(8, 6))\n",
    "  plt.plot(fpr, tpr, color='blue', linewidth=2, label=f'ROC Curve (AUC = {val_auc:.3f}%)')\n",
    "  plt.plot([0, 1], [0, 1], color='gray', linestyle='--', linewidth=1)\n",
    "  plt.xlabel('False Positive Rate')\n",
    "  plt.ylabel('True Positive Rate')\n",
    "  plt.title('ROC Curve')\n",
    "  plt.legend(loc='lower right')\n",
    "  plt.show()\n",
    "  \n",
    "  return(best_model, best_params, train_auc, val_auc, accuracy)"
   ]
  },
  {
   "cell_type": "code",
   "execution_count": 1030,
   "metadata": {},
   "outputs": [],
   "source": [
    "tuned_results = pd.DataFrame(columns=['Model', 'Train AUC', 'Val AUC', 'Val Accuracy', 'Best Params'])"
   ]
  },
  {
   "cell_type": "markdown",
   "metadata": {},
   "source": [
    "### K Nearest Neighbours\n",
    "K Nearest Neighbours had an accuracy of 79% against the validation data using default parameters. The model looked to be overfitting on the training data so there might be an opportunity to improve performance with tuning.\n"
   ]
  },
  {
   "cell_type": "code",
   "execution_count": 1049,
   "metadata": {},
   "outputs": [
    {
     "name": "stdout",
     "output_type": "stream",
     "text": [
      "Tuning model paramters...\n",
      "Best Parameters: {'algorithm': 'auto', 'n_neighbors': 7, 'weights': 'uniform'}\n",
      "Accuracy on Validation Data: 82.7%\n",
      "Training data AUC:\t92.02%\n",
      "Validation data AUC:\t87.33%\n"
     ]
    },
    {
     "data": {
      "image/png": "[encoded data removed]",
      "text/plain": [
       "<Figure size 576x432 with 1 Axes>"
      ]
     },
     "metadata": {},
     "output_type": "display_data"
    },
    {
     "data": {
      "text/html": [
       "<div>\n",
       "<style scoped>\n",
       "    .dataframe tbody tr th:only-of-type {\n",
       "        vertical-align: middle;\n",
       "    }\n",
       "\n",
       "    .dataframe tbody tr th {\n",
       "        vertical-align: top;\n",
       "    }\n",
       "\n",
       "    .dataframe thead th {\n",
       "        text-align: right;\n",
       "    }\n",
       "</style>\n",
       "<table border=\"1\" class=\"dataframe\">\n",
       "  <thead>\n",
       "    <tr style=\"text-align: right;\">\n",
       "      <th></th>\n",
       "      <th>Model</th>\n",
       "      <th>Train AUC</th>\n",
       "      <th>Val AUC</th>\n",
       "      <th>Val Accuracy</th>\n",
       "      <th>Best Params</th>\n",
       "    </tr>\n",
       "  </thead>\n",
       "  <tbody>\n",
       "    <tr>\n",
       "      <th>0</th>\n",
       "      <td>KNeighborsClassifier</td>\n",
       "      <td>0.920238</td>\n",
       "      <td>0.873295</td>\n",
       "      <td>0.826816</td>\n",
       "      <td>{'algorithm': 'auto', 'n_neighbors': 7, 'weigh...</td>\n",
       "    </tr>\n",
       "  </tbody>\n",
       "</table>\n",
       "</div>"
      ],
      "text/plain": [
       "                  Model  Train AUC   Val AUC  Val Accuracy  \\\n",
       "0  KNeighborsClassifier   0.920238  0.873295      0.826816   \n",
       "\n",
       "                                         Best Params  \n",
       "0  {'algorithm': 'auto', 'n_neighbors': 7, 'weigh...  "
      ]
     },
     "execution_count": 1049,
     "metadata": {},
     "output_type": "execute_result"
    }
   ],
   "source": [
    "# KNN classifier\n",
    "classifier = KNeighborsClassifier()\n",
    "\n",
    "# Define parameter grid \n",
    "param_grid = {\n",
    "    'n_neighbors': [5, 7, 9, 11],  # Number of neighbors \n",
    "    'weights': ['uniform', 'distance'],  # Weight function \n",
    "    'algorithm': ['auto', 'ball_tree', 'kd_tree', 'brute']  # Algorithm to compute nearest neighbors\n",
    "}\n",
    "\n",
    "# Tune the model\n",
    "best_knn, best_knn_params, train_auc, val_auc, accuracy = tune_model(classifier=classifier, param_grid=param_grid)\n",
    "\n",
    "# Add results to summary table\n",
    "results = ['KNeighborsClassifier', train_auc, val_auc, accuracy, best_knn_params]\n",
    "tuned_results.loc[len(tuned_results)] = results\n",
    "\n",
    "tuned_results\n"
   ]
  },
  {
   "cell_type": "markdown",
   "metadata": {},
   "source": [
    "### Logistic Regression\n",
    "With default paarameters the logistic regression algorithm found an accuracy of 80% against the validation data. \n",
    "\n"
   ]
  },
  {
   "cell_type": "code",
   "execution_count": 1082,
   "metadata": {},
   "outputs": [
    {
     "name": "stdout",
     "output_type": "stream",
     "text": [
      "Tuning model paramters...\n",
      "Best Parameters: {'C': 10, 'max_iter': 400}\n",
      "Accuracy on Validation Data: 81.6%\n",
      "Training data AUC:\t88.69%\n",
      "Validation data AUC:\t88.39%\n"
     ]
    },
    {
     "data": {
      "image/png": "[encoded data removed]",
      "text/plain": [
       "<Figure size 576x432 with 1 Axes>"
      ]
     },
     "metadata": {},
     "output_type": "display_data"
    },
    {
     "data": {
      "text/html": [
       "<div>\n",
       "<style scoped>\n",
       "    .dataframe tbody tr th:only-of-type {\n",
       "        vertical-align: middle;\n",
       "    }\n",
       "\n",
       "    .dataframe tbody tr th {\n",
       "        vertical-align: top;\n",
       "    }\n",
       "\n",
       "    .dataframe thead th {\n",
       "        text-align: right;\n",
       "    }\n",
       "</style>\n",
       "<table border=\"1\" class=\"dataframe\">\n",
       "  <thead>\n",
       "    <tr style=\"text-align: right;\">\n",
       "      <th></th>\n",
       "      <th>Model</th>\n",
       "      <th>Train AUC</th>\n",
       "      <th>Val AUC</th>\n",
       "      <th>Val Accuracy</th>\n",
       "      <th>Best Params</th>\n",
       "    </tr>\n",
       "  </thead>\n",
       "  <tbody>\n",
       "    <tr>\n",
       "      <th>0</th>\n",
       "      <td>KNeighborsClassifier</td>\n",
       "      <td>0.920238</td>\n",
       "      <td>0.873295</td>\n",
       "      <td>0.826816</td>\n",
       "      <td>{'algorithm': 'auto', 'n_neighbors': 7, 'weigh...</td>\n",
       "    </tr>\n",
       "    <tr>\n",
       "      <th>1</th>\n",
       "      <td>LogisticRegression</td>\n",
       "      <td>0.886942</td>\n",
       "      <td>0.883912</td>\n",
       "      <td>0.815642</td>\n",
       "      <td>{'C': 10, 'max_iter': 400}</td>\n",
       "    </tr>\n",
       "  </tbody>\n",
       "</table>\n",
       "</div>"
      ],
      "text/plain": [
       "                  Model  Train AUC   Val AUC  Val Accuracy  \\\n",
       "0  KNeighborsClassifier   0.920238  0.873295      0.826816   \n",
       "1    LogisticRegression   0.886942  0.883912      0.815642   \n",
       "\n",
       "                                         Best Params  \n",
       "0  {'algorithm': 'auto', 'n_neighbors': 7, 'weigh...  \n",
       "1                         {'C': 10, 'max_iter': 400}  "
      ]
     },
     "execution_count": 1082,
     "metadata": {},
     "output_type": "execute_result"
    }
   ],
   "source": [
    "# Create a Logistic Regression model\n",
    "classifier = LogisticRegression(random_state=random_seed)\n",
    "\n",
    "# Define parameter grid \n",
    "param_grid = {\n",
    "    'C': [1, 10, 50],  # Regularization parameter\n",
    "    'max_iter': [400, 500, 600]  # Maximum number of iterations for optimization\n",
    "}\n",
    "\n",
    "# Tune the model\n",
    "best_logreg, best_logreg_params, train_auc, val_auc, accuracy = tune_model(classifier=classifier, param_grid=param_grid)\n",
    "\n",
    "# Add results to summary table\n",
    "results = ['LogisticRegression', train_auc, val_auc, accuracy, best_logreg_params]\n",
    "tuned_results.loc[len(tuned_results)] = results\n",
    "\n",
    "tuned_results"
   ]
  },
  {
   "cell_type": "markdown",
   "metadata": {
    "id": "jq-FHvflO96m"
   },
   "source": [
    "### Stochastic Gradient Descent\n",
    "With default paarameters the Stochastic Gradient Descent algorithm found an accuracy of 80% against the validation data. \n"
   ]
  },
  {
   "cell_type": "code",
   "execution_count": null,
   "metadata": {},
   "outputs": [],
   "source": [
    "# Create a Stochastic Gradient Descent model\n",
    "classifier = SGDClassifier(tol=None, random_state=random_seed)\n",
    "\n",
    "# Define parameter grid \n",
    "param_grid = {\n",
    "    'alpha': [0.0001, 0.001, 0.01],  # Regularization strength\n",
    "    'loss': ['log_loss', 'modified_huber', 'squared_hinge'],  # Loss functions\n",
    "    'penalty': ['l1', 'l2', 'elasticnet']  # Regularization types\n",
    "}\n",
    "\n",
    "# Tune the model\n",
    "best_sgd, best_sgd_params, train_auc, val_auc, accuracy = tune_model(classifier=classifier, param_grid=param_grid)\n",
    "\n",
    "# Add results to summary table\n",
    "results = ['SGDClassifier', train_auc, val_auc, accuracy, best_sgd_params]\n",
    "tuned_results.loc[len(tuned_results)] = results\n",
    "\n",
    "tuned_results"
   ]
  },
  {
   "cell_type": "markdown",
   "metadata": {},
   "source": [
    "### Random Forest\n",
    "With default paarameters the Random Forest algorithm found an accuracy of 73% against the validation data, although we know that a Decsion Tree could be significantly improved. However, not many of the features in the Decsioin Tree were of great importance so there could be a limit on how much a Random Forest can improve on a single tree. "
   ]
  },
  {
   "cell_type": "code",
   "execution_count": null,
   "metadata": {},
   "outputs": [],
   "source": [
    "Tuning model paramters...\n",
    "Best Parameters: {'max_depth': 5, 'min_samples_leaf': 10, 'min_samples_split': 50, 'n_estimators': 50}\n",
    "Accuracy on Validation Data: 79.9%\n",
    "Training data AUC:\t88.92%\n",
    "Validation data AUC:\t87.77%"
   ]
  },
  {
   "cell_type": "code",
   "execution_count": 1111,
   "metadata": {},
   "outputs": [
    {
     "name": "stdout",
     "output_type": "stream",
     "text": [
      "Tuning model paramters...\n",
      "Best Parameters: {'max_depth': 5, 'max_features': 'sqrt', 'min_samples_leaf': 10, 'min_samples_split': 50, 'n_estimators': 50}\n",
      "Accuracy on Validation Data: 79.9%\n",
      "Training data AUC:\t88.92%\n",
      "Validation data AUC:\t87.77%\n"
     ]
    },
    {
     "data": {
      "image/png": "[encoded data removed]",
      "text/plain": [
       "<Figure size 576x432 with 1 Axes>"
      ]
     },
     "metadata": {},
     "output_type": "display_data"
    },
    {
     "data": {
      "text/html": [
       "<div>\n",
       "<style scoped>\n",
       "    .dataframe tbody tr th:only-of-type {\n",
       "        vertical-align: middle;\n",
       "    }\n",
       "\n",
       "    .dataframe tbody tr th {\n",
       "        vertical-align: top;\n",
       "    }\n",
       "\n",
       "    .dataframe thead th {\n",
       "        text-align: right;\n",
       "    }\n",
       "</style>\n",
       "<table border=\"1\" class=\"dataframe\">\n",
       "  <thead>\n",
       "    <tr style=\"text-align: right;\">\n",
       "      <th></th>\n",
       "      <th>Model</th>\n",
       "      <th>Train AUC</th>\n",
       "      <th>Val AUC</th>\n",
       "      <th>Val Accuracy</th>\n",
       "      <th>Best Params</th>\n",
       "    </tr>\n",
       "  </thead>\n",
       "  <tbody>\n",
       "    <tr>\n",
       "      <th>0</th>\n",
       "      <td>KNeighborsClassifier</td>\n",
       "      <td>0.920238</td>\n",
       "      <td>0.873295</td>\n",
       "      <td>0.826816</td>\n",
       "      <td>{'algorithm': 'auto', 'n_neighbors': 7, 'weigh...</td>\n",
       "    </tr>\n",
       "    <tr>\n",
       "      <th>1</th>\n",
       "      <td>LogisticRegression</td>\n",
       "      <td>0.886942</td>\n",
       "      <td>0.883912</td>\n",
       "      <td>0.815642</td>\n",
       "      <td>{'C': 10, 'max_iter': 400}</td>\n",
       "    </tr>\n",
       "    <tr>\n",
       "      <th>2</th>\n",
       "      <td>SGDClassifier</td>\n",
       "      <td>0.886623</td>\n",
       "      <td>0.886680</td>\n",
       "      <td>0.821229</td>\n",
       "      <td>{'alpha': 0.001, 'loss': 'modified_huber', 'pe...</td>\n",
       "    </tr>\n",
       "    <tr>\n",
       "      <th>3</th>\n",
       "      <td>RandomForestClassifier</td>\n",
       "      <td>0.889190</td>\n",
       "      <td>0.877735</td>\n",
       "      <td>0.798883</td>\n",
       "      <td>{'max_depth': 5, 'max_features': 'sqrt', 'min_...</td>\n",
       "    </tr>\n",
       "  </tbody>\n",
       "</table>\n",
       "</div>"
      ],
      "text/plain": [
       "                    Model  Train AUC   Val AUC  Val Accuracy  \\\n",
       "0    KNeighborsClassifier   0.920238  0.873295      0.826816   \n",
       "1      LogisticRegression   0.886942  0.883912      0.815642   \n",
       "2           SGDClassifier   0.886623  0.886680      0.821229   \n",
       "3  RandomForestClassifier   0.889190  0.877735      0.798883   \n",
       "\n",
       "                                         Best Params  \n",
       "0  {'algorithm': 'auto', 'n_neighbors': 7, 'weigh...  \n",
       "1                         {'C': 10, 'max_iter': 400}  \n",
       "2  {'alpha': 0.001, 'loss': 'modified_huber', 'pe...  \n",
       "3  {'max_depth': 5, 'max_features': 'sqrt', 'min_...  "
      ]
     },
     "execution_count": 1111,
     "metadata": {},
     "output_type": "execute_result"
    }
   ],
   "source": [
    "# Create a RandomForestClassifier model\n",
    "classifier = RandomForestClassifier(random_state=42)\n",
    "\n",
    "# Define parameter grid\n",
    "param_grid = {\n",
    "    'n_estimators': [25, 50, 75],\n",
    "    'max_depth': [2, 3, 5],\n",
    "    'min_samples_split': [50, 75],\n",
    "    'min_samples_leaf': [10, 20],\n",
    "    'max_features': ['log2', 'sqrt']\n",
    "}\n",
    "\n",
    "# Tune the model\n",
    "best_rf, best_rf_params, train_auc, val_auc, accuracy = tune_model(classifier=classifier, param_grid=param_grid)\n",
    "\n",
    "# Add results to summary table\n",
    "results = ['RandomForestClassifier', train_auc, val_auc, accuracy, best_rf_params]\n",
    "tuned_results.loc[len(tuned_results)] = results\n",
    "\n",
    "tuned_results"
   ]
  },
  {
   "cell_type": "markdown",
   "metadata": {},
   "source": [
    "### Results\n",
    "The K Nearest Neighbours algorithm trained the most accurate model, with 82.7% accuracy against the validation data. However it does look like that model might be slightly overfitting the training data. \n",
    "\n",
    "The Stocastic gradient Descent algorithm had an accuracy of 82.1% and the AUC against the training data (0.887) is closer aligned to the validation data (also 0.887). \n",
    "\n",
    "The Random Forest did not improve on the Decsion Tree for accuracy, although it does have a greater AUC. "
   ]
  },
  {
   "cell_type": "markdown",
   "metadata": {
    "id": "UROnIBzfyJUN"
   },
   "source": [
    "## Neural Network\n"
   ]
  },
  {
   "cell_type": "code",
   "execution_count": null,
   "metadata": {
    "id": "yqBBpQYBNU4_"
   },
   "outputs": [],
   "source": [
    "def make_deep_model(input_shape, dense_layers=[], dropouts=[], learning_rate=0.001):\n",
    "  \"\"\"\n",
    "  Function to built and compile a model using Keras\n",
    "  _______________________________________________________\n",
    "    Parameters:\n",
    "      input_shape           :\n",
    "      dense_layers (list)   : List of ints. Each is the number of nodes in a dense layer\n",
    "      dropouts (list)       : List of floats 0.0 - 1.0. Each is the dropout for a dense layer\n",
    "\n",
    "      learning_rate (float) : Learning rate for training the model.\n",
    "  _______________________________________________________\n",
    "    Returns                       : Keras model\n",
    "  \"\"\"\n",
    "  # Add input layer\n",
    "  layers = [Dense(128, input_shape=(X_train_fold.shape[1],), activation='relu')]\n",
    "  # Add hidden dense layers\n",
    "  i=0\n",
    "  for units in dense_layers:\n",
    "    layers.append(Dense(units, activation='relu'))\n",
    "    layers.append(Dropout(dropouts[i]))\n",
    "    i+=1\n",
    "  # Add output layer\n",
    "  layers.append(Dense(1, activation='sigmoid'))\n",
    "\n",
    "  # Define parameters and compile the model\n",
    "  optimizer = Adam(learning_rate)\n",
    "  loss = BinaryCrossentropy()\n",
    "\n",
    "  # Build sequential model and compile\n",
    "  model = Sequential(layers)\n",
    "  model.compile(optimizer=optimizer,\n",
    "                loss=loss,\n",
    "                metrics=['accuracy'])\n",
    "\n",
    "  return(model)"
   ]
  },
  {
   "cell_type": "code",
   "execution_count": null,
   "metadata": {
    "id": "aAcKMol7Thof"
   },
   "outputs": [],
   "source": [
    "def plot_accuracy(history, title):\n",
    "  \"\"\"\n",
    "  Function to plot the accuracy of the model against validation data\n",
    "  _______________________________________________________\n",
    "    Parameters:\n",
    "      history (keras history)    : Keras history data from model training\n",
    "      title (string)             : Title to display with the plot\n",
    "  _______________________________________________________\n",
    "    Returns                    : Keras model\n",
    "\n",
    "  \"\"\"\n",
    "  # Plot the accuracy against epochs for the train and validate data\n",
    "  plt.figure(figsize=(6, 4))\n",
    "\n",
    "  epochs = history.epoch\n",
    "  val = history.history['val_accuracy']\n",
    "  train = history.history['accuracy']\n",
    "\n",
    "  plt.plot(epochs, val, color='black', linestyle='solid', label='validation')\n",
    "  plt.plot(epochs, train, color='black', linestyle='dashed', label='train')\n",
    "\n",
    "  plt.title(title)\n",
    "  plt.xlabel('Epoch')\n",
    "  plt.ylabel('Accuracy')\n",
    "  plt.legend()\n",
    "  plt.savefig(f'{history}.png')\n",
    "  plt.show()"
   ]
  },
  {
   "cell_type": "code",
   "execution_count": null,
   "metadata": {
    "id": "pEGKBTYkTqnH"
   },
   "outputs": [],
   "source": [
    "def set_checkpoint():\n",
    "  \"\"\"\n",
    "  Function to define a Keras ModelCheckpoint callback. This will\n",
    "  save the model to disk if an epoch improves on all previous\n",
    "  accuracy against the validation data.\n",
    "  _______________________________________________________\n",
    "    Parameters:\n",
    "  _______________________________________________________\n",
    "    Returns                 : Keras ModelCheckpoint callback\n",
    "\n",
    "  \"\"\"\n",
    "  model_name = 'keras_ver_unknown_ep{epoch:0d}_acc{val_accuracy:.3f}.h5'\n",
    "  checkpoint = ModelCheckpoint(\n",
    "      filepath=model_name,\n",
    "      save_best_only=True,\n",
    "      monitor='val_accuracy',\n",
    "      verbose=1\n",
    "  )\n",
    "  return(checkpoint)\n",
    "\n",
    "def set_learning_rate_reduction():\n",
    "  \"\"\"\n",
    "  Function to define a Keras ReduceLROnPlateau callback. This will\n",
    "  reduce the learning rate if the model is begining to stop learning.\n",
    "  _______________________________________________________\n",
    "    Parameters:\n",
    "  _______________________________________________________\n",
    "    Returns                 : Keras ReduceLROnPlateau callback\n",
    "\n",
    "  \"\"\"\n",
    "  learning_rate_reduction = ReduceLROnPlateau(\n",
    "    monitor='val_accuracy',\n",
    "    patience=5,\n",
    "    factor=0.5,\n",
    "    min_lr=0.00001,\n",
    "    verbose=1\n",
    "  )\n",
    "  return(learning_rate_reduction)\n",
    "\n",
    "def set_early_stoping(patience=5, monitor='val_loss', restore_best_weights=True, verbose=1):\n",
    "  \"\"\"\n",
    "  Function to define a Keras EarlyStopping callback. This will stop\n",
    "  the model training if the accuracy against validation data is not\n",
    "  improving\n",
    "  _______________________________________________________\n",
    "    Parameters:\n",
    "  _______________________________________________________\n",
    "    Returns                 : Keras EarlyStopping callback\n",
    "\n",
    "  \"\"\"\n",
    "  early_stoping = EarlyStopping(\n",
    "    patience=patience,\n",
    "    monitor=monitor,\n",
    "    restore_best_weights=restore_best_weights,\n",
    "    verbose=verbose\n",
    "  )\n",
    "  return(early_stoping)"
   ]
  },
  {
   "cell_type": "code",
   "execution_count": null,
   "metadata": {
    "id": "vo3_jK68NHLd"
   },
   "outputs": [],
   "source": [
    "model_ver='vX'\n",
    "def execute_training(\n",
    "  X_train,\n",
    "  y_train,\n",
    "  X_val,\n",
    "  y_val,\n",
    "  model_ver='vX',\n",
    "  plot_title=f'Keras model: {model_ver}',\n",
    "  dense_layers=[128],\n",
    "  dropouts=[0.1],\n",
    "  batch_size = 64,\n",
    "  epochs = 20,\n",
    "  learning_rate = 0.001,\n",
    "  callbacks = []\n",
    "):\n",
    "  \"\"\"\n",
    "  Function to define, fit and plot the accuracy of a model.\n",
    "  This abstracts the parameters that do not need to change.\n",
    "  _______________________________________________________\n",
    "    Parameters:\n",
    "      model_ver (string)    : Model version used for lables\n",
    "      plot_title (string)   : Title of the plot\n",
    "      dense_layers (list)   : List of ints. Each is the number of nodes in a dense layer\n",
    "      dropouts (list)       : List of floats 0.0 - 1.0. Each is the dropout for a dense layer\n",
    "      batch_size (int)      : Images to input at each step of the epoch\n",
    "      epochs (int)          : Number of epochs\n",
    "      learning_rate (float) : Learning rate for the model\n",
    "  _______________________________________________________\n",
    "    Returns                       : History array for the epochs\n",
    "                                  : The model\n",
    "  \"\"\"\n",
    "\n",
    "  # Create the model\n",
    "  model = make_deep_model(\n",
    "    input_shape=(X_train_fold.shape[1],),\n",
    "    dense_layers=dense_layers,\n",
    "    dropouts=dropouts,\n",
    "    learning_rate=learning_rate\n",
    "  )\n",
    "\n",
    "  # Print the model\n",
    "  print(model.summary())\n",
    "\n",
    "  # Fit the model\n",
    "  history = model.fit(\n",
    "      X_train,\n",
    "      y_train,\n",
    "      epochs=epochs,\n",
    "      callbacks=callbacks,\n",
    "      validation_data=(X_val, y_val)\n",
    "  )\n",
    "\n",
    "  # Plot the accuracy\n",
    "  plot_title = f'Keras Model: {model_ver}. Learning Rate: 0.0005'\n",
    "  plot_accuracy(history, plot_title)\n",
    "\n",
    "  return(history, model)"
   ]
  },
  {
   "cell_type": "code",
   "execution_count": null,
   "metadata": {
    "id": "q0JYju-Fh2Hp"
   },
   "outputs": [],
   "source": []
  },
  {
   "cell_type": "code",
   "execution_count": null,
   "metadata": {
    "id": "8ViFWQgJyvCm"
   },
   "outputs": [],
   "source": [
    "model_ver='vX'\n",
    "def execute_training2(\n",
    "  X_train,\n",
    "  y_train,\n",
    "  X_val,\n",
    "  y_val,\n",
    "  model_ver='vX',\n",
    "  plot_title=f'Keras model: {model_ver}',\n",
    "  dense_layers=[128],\n",
    "  dropouts=[0.1],\n",
    "  batch_size = 64,\n",
    "  epochs = 20,\n",
    "  learning_rate = 0.001,\n",
    "  callbacks = [],\n",
    "  n_splits = 5\n",
    "):\n",
    "  \"\"\"\n",
    "  Function to define, fit and plot the accuracy of a model.\n",
    "  This abstracts the parameters that do not need to change.\n",
    "  _______________________________________________________\n",
    "    Parameters:\n",
    "      model_ver (string)    : Model version used for lables\n",
    "      plot_title (string)   : Title of the plot\n",
    "      dense_layers (list)   : List of ints. Each is the number of nodes in a dense layer\n",
    "      dropouts (list)       : List of floats 0.0 - 1.0. Each is the dropout for a dense layer\n",
    "      batch_size (int)      : Images to input at each step of the epoch\n",
    "      epochs (int)          : Number of epochs\n",
    "      learning_rate (float) : Learning rate for the model\n",
    "  _______________________________________________________\n",
    "    Returns                       : History array for the epochs\n",
    "                                  : The model\n",
    "  \"\"\"\n",
    "\n",
    "\n",
    "  # make the model\n",
    "  model = make_deep_model(\n",
    "      input_shape=X_train.shape[1],\n",
    "      dense_layers=dense_layers,\n",
    "      dropouts=dropouts,\n",
    "      learning_rate=learning_rate\n",
    "      )\n",
    "\n",
    "  model.summary()\n",
    "\n",
    "  # Initialize KFold with the number of folds\n",
    "  kf = KFold(n_splits=n_splits, shuffle=True, random_state=42)\n",
    "\n",
    "  # Initialize an empty list to store accuracy scores\n",
    "  accuracy_scores = []\n",
    "  auc_scores = []\n",
    "\n",
    "  # Iterate through each fold\n",
    "  fold = 0\n",
    "  for train_index, val_index in kf.split(X_train):\n",
    "    fold +=1\n",
    "    print(f'Training fold {fold} of {n_splits}.')\n",
    "    # Split the data into training and validation sets\n",
    "    X_train_fold, X_val_fold = X_train.iloc[train_index], X_train.iloc[val_index]\n",
    "    y_train_fold, y_val_fold = y_train.iloc[train_index], y_train.iloc[val_index]\n",
    "\n",
    "    # Convert pandas to numpy\n",
    "    X_train_fold = X_train_fold.values\n",
    "    y_train_fold = y_train_fold.values\n",
    "    X_val_fold = X_val_fold.values\n",
    "    y_val_fold = y_val_fold.values\n",
    "\n",
    "    # Select callbacks\n",
    "    callbacks = []\n",
    "    #callbacks.append(set_checkpoint())\n",
    "    callbacks.append(set_learning_rate_reduction())\n",
    "    callbacks.append(set_early_stoping(patience=10))\n",
    "\n",
    "    # Train the model\n",
    "    batch_size = 32\n",
    "    epochs = 20\n",
    "    history = model.fit(\n",
    "        X_train_fold,\n",
    "        y_train_fold,\n",
    "        batch_size=batch_size,\n",
    "        epochs=epochs,\n",
    "        validation_data=(X_val_fold, y_val_fold),\n",
    "        callbacks=callbacks)\n",
    "\n",
    "    # Evaluate the model against the validation data\n",
    "    loss, accuracy = model.evaluate(X_val_fold, y_val_fold)\n",
    "    accuracy_scores.append(accuracy)\n",
    "    print(\"Validation Loss: {:.2f}, Validation Accuracy: {:.2f}%\".format(loss, accuracy * 100))\n",
    "\n",
    "    # Predict probabilities using the model and calculate AUC\n",
    "    y_probs = model.predict(X_val_fold)\n",
    "    auc = roc_auc_score(y_val_fold, y_probs)\n",
    "    auc_scores.append(auc)\n",
    "    print(\"Validation AUC: {:.2f}\\n\\n\".format(auc))\n",
    "\n",
    "  # Print summary of the accuracy and AUC scores\n",
    "  average_accuracy = sum(accuracy_scores) / n_splits\n",
    "  average_auc = sum(auc_scores) / n_splits\n",
    "  print(f'Number of k-folds: {n_splits}\\n')\n",
    "  print(f'Accuracies: {accuracy_scores}')\n",
    "  print('Average Accuracy: {:.2f}\\n'.format(average_accuracy * 100))\n",
    "  print(f'AUCs: {auc_scores}')\n",
    "  print('Average AUC: {:.2f}\\n'.format(average_auc * 100))\n",
    "\n",
    "  return(average_accuracy, average_auc)"
   ]
  },
  {
   "cell_type": "code",
   "execution_count": null,
   "metadata": {
    "colab": {
     "base_uri": "https://localhost:8080/"
    },
    "id": "niSdVFVSz8vS",
    "outputId": "14e6e289-485d-4e1b-ddb8-c718e281c26b"
   },
   "outputs": [],
   "source": [
    "# Select callbacks\n",
    "callbacks = []\n",
    "#callbacks.append(set_checkpoint())\n",
    "callbacks.append(set_learning_rate_reduction())\n",
    "callbacks.append(set_early_stoping(patience=10))\n",
    "\n",
    "learning_rates = [0.001, 0.01, 0.1]   # List of learning rates to be tested\n",
    "dropout_rates = [0.2, 0.3, 0.4]       # List of dropout rates to be tested\n",
    "\n",
    "\n",
    "# Execute training\n",
    "for lr in learning_rates:\n",
    "  for dr in dropout_rates:\n",
    "    accuracy, auc = execute_training(\n",
    "      X_train,\n",
    "      y_train,\n",
    "      X_val,\n",
    "      y_val,\n",
    "      dense_layers=[512, 128],\n",
    "      dropouts=[dr, dr],\n",
    "      learning_rate = lr,\n",
    "      callbacks=callbacks\n",
    "    )\n",
    "    print(f'Learning rate: {lr}')\n",
    "    print(f'Dropout rate: {dr}')\n",
    "    print(f'Accuracy: {accuracy}')\n",
    "    print(f'AUC: {auc}')"
   ]
  },
  {
   "cell_type": "code",
   "execution_count": null,
   "metadata": {
    "colab": {
     "base_uri": "https://localhost:8080/"
    },
    "id": "vR-rTVGT_0aM",
    "outputId": "132ba3a1-eb4d-485f-8d0d-d0154324b6bf"
   },
   "outputs": [],
   "source": [
    "# Model architecture\n",
    "dense_layers=[512, 128]\n",
    "\n",
    "# Training parameters\n",
    "dropouts=[0.3, 0.3]\n",
    "learning_rate=0.001\n",
    "\n",
    "# Number of k-fold splits\n",
    "n_splits = 5\n",
    "\n",
    "# make the model\n",
    "model = make_deep_model(\n",
    "    input_shape=X_train.shape[1],\n",
    "    dense_layers=dense_layers,\n",
    "    dropouts=dropouts,\n",
    "    learning_rate=learning_rate\n",
    "    )\n",
    "\n",
    "model.summary()\n",
    "\n",
    "# Initialize KFold with the number of folds\n",
    "kf = KFold(n_splits=n_splits, shuffle=True, random_state=42)\n",
    "\n",
    "# Initialize an empty list to store accuracy scores\n",
    "accuracy_scores = []\n",
    "auc_scores = []\n",
    "\n",
    "# Iterate through each fold\n",
    "fold = 0\n",
    "for train_index, val_index in kf.split(X_train):\n",
    "  fold +=1\n",
    "  print(f'Training fold {fold} of {n_splits}.')\n",
    "  # Split the data into training and validation sets\n",
    "  X_train_fold, X_val_fold = X_train.iloc[train_index], X_train.iloc[val_index]\n",
    "  y_train_fold, y_val_fold = y_train.iloc[train_index], y_train.iloc[val_index]\n",
    "\n",
    "  # Convert pandas to numpy\n",
    "  X_train_fold = X_train_fold.values\n",
    "  y_train_fold = y_train_fold.values\n",
    "  X_val_fold = X_val_fold.values\n",
    "  y_val_fold = y_val_fold.values\n",
    "\n",
    "  # Select callbacks\n",
    "  callbacks = []\n",
    "  #callbacks.append(set_checkpoint())\n",
    "  callbacks.append(set_learning_rate_reduction())\n",
    "  callbacks.append(set_early_stoping(patience=10))\n",
    "\n",
    "  # Train the model\n",
    "  batch_size = 32\n",
    "  epochs = 20\n",
    "  history = model.fit(\n",
    "      X_train_fold,\n",
    "      y_train_fold,\n",
    "      batch_size=batch_size,\n",
    "      epochs=epochs,\n",
    "      validation_data=(X_val_fold, y_val_fold),\n",
    "      callbacks=callbacks)\n",
    "\n",
    "  # Evaluate the model against the validation data\n",
    "  loss, accuracy = model.evaluate(X_val_fold, y_val_fold)\n",
    "  accuracy_scores.append(accuracy)\n",
    "  print(\"Validation Loss: {:.2f}, Validation Accuracy: {:.2f}%\".format(loss, accuracy * 100))\n",
    "\n",
    "  # Predict probabilities using the model and calculate AUC\n",
    "  y_probs = model.predict(X_val_fold)\n",
    "  auc = roc_auc_score(y_val_fold, y_probs)\n",
    "  auc_scores.append(auc)\n",
    "  print(\"Validation AUC: {:.2f}\\n\\n\".format(auc))\n",
    "\n",
    "# Print summary of the accuracy and AUC scores\n",
    "average_accuracy = sum(accuracy_scores) / n_splits\n",
    "average_auc = sum(auc_scores) / n_splits\n",
    "print(f'Number of k-folds: {n_splits}\\n')\n",
    "print(f'Accuracies: {accuracy_scores}')\n",
    "print('Average Accuracy: {:.2f}\\n'.format(average_accuracy * 100))\n",
    "print(f'AUCs: {auc_scores}')\n",
    "print('Average AUC: {:.2f}\\n'.format(average_auc * 100))"
   ]
  },
  {
   "cell_type": "markdown",
   "metadata": {
    "id": "1yw16OT_Jh14"
   },
   "source": [
    "The neural network (with 512 and 128 node dense layers at 20% dropout) is getting an average accuracy of 83.2% and AUC of around 88.3%."
   ]
  },
  {
   "cell_type": "code",
   "execution_count": null,
   "metadata": {
    "id": "fgYjxk2QEnPy"
   },
   "outputs": [],
   "source": [
    "from sklearn.model_selection import GridSearchCV\n",
    "from sklearn.metrics import make_scorer, roc_auc_score"
   ]
  },
  {
   "cell_type": "code",
   "execution_count": null,
   "metadata": {
    "id": "8KAa5nsyFR2k"
   },
   "outputs": [],
   "source": [
    "# Create a KerasClassifier based on your create_model function\n",
    "model = KerasClassifier(build_fn=create_model, epochs=50, batch_size=32, verbose=0)\n",
    "\n",
    "# Define the parameter grid\n",
    "param_grid = {\n",
    "    'dropout_rate': [0.2, 0.3, 0.4],\n",
    "    'learning_rate': [0.001, 0.01, 0.1]\n",
    "}\n",
    "\n",
    "# Use GridSearchCV to perform grid search with accuracy and AUC as scoring metrics\n",
    "scoring = {\n",
    "    'accuracy': 'accuracy',\n",
    "    'auc': make_scorer(roc_auc_score)\n",
    "}\n",
    "\n",
    "grid = GridSearchCV(estimator=model, param_grid=param_grid, scoring=scoring, refit='auc', cv=3, verbose=1)\n",
    "grid_result = grid.fit(X_train, y_train)\n",
    "\n",
    "# Print the best parameters and results\n",
    "print(\"Best Parameters: \", grid_result.best_params_)\n",
    "print(\"Best AUC: {:.4f}\".format(grid_result.best_score_))\n",
    "print(\"Best Accuracy: {:.4f}\".format(grid_result.cv_results_['mean_test_accuracy'][grid_result.best_index_]))\n",
    "\n",
    "\n",
    "\n",
    "\n",
    "\n"
   ]
  }
 ],
 "metadata": {
  "colab": {
   "provenance": []
  },
  "kernelspec": {
   "display_name": "Python 3",
   "language": "python",
   "name": "python3"
  },
  "language_info": {
   "codemirror_mode": {
    "name": "ipython",
    "version": 3
   },
   "file_extension": ".py",
   "mimetype": "text/x-python",
   "name": "python",
   "nbconvert_exporter": "python",
   "pygments_lexer": "ipython3",
   "version": "3.8.3"
  }
 },
 "nbformat": 4,
 "nbformat_minor": 1
}
