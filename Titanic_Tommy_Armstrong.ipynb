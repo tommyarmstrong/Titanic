{
  "nbformat": 4,
  "nbformat_minor": 0,
  "metadata": {
    "colab": {
      "name": "Titanic_Tommy_Armstrong.ipynb",
      "provenance": [],
      "collapsed_sections": [],
      "toc_visible": true,
      "authorship_tag": "ABX9TyM1/D5E57wkRESoarzVO7tJ",
      "include_colab_link": true
    },
    "kernelspec": {
      "display_name": "Python 3",
      "name": "python3"
    }
  },
  "cells": [
    {
      "cell_type": "markdown",
      "metadata": {
        "id": "view-in-github",
        "colab_type": "text"
      },
      "source": [
        "<a href=\"https://colab.research.google.com/github/tommyarmstrong/Titanic/blob/master/Titanic_Tommy_Armstrong.ipynb\" target=\"_parent\"><img src=\"https://colab.research.google.com/assets/colab-badge.svg\" alt=\"Open In Colab\"/></a>"
      ]
    },
    {
      "cell_type": "markdown",
      "metadata": {
        "id": "Y2myLeaOs-r0"
      },
      "source": [
        "# Titanic"
      ]
    },
    {
      "cell_type": "markdown",
      "metadata": {
        "id": "8zbR_wsISGaN"
      },
      "source": [
        "# 1. Introduction\n",
        "RMS Titanic was a British passenger liner operated by the White Star Line that sank in the North Atlantic Ocean on 15 April 1912, after striking an iceberg during her maiden voyage from Southampton to New York City. \n",
        "\n",
        "Of the estimated 2,223 passengers and crew aboard, more than 1,500 died, making the disaster the deadliest peacetime sinking of a superliner or cruise ship.\n",
        "\n",
        "With much public attention in the aftermath, the disaster has since been the  inspiration of many works of fiction and non-fiction. It has been speculated that passengers in first class cabins were more likely to survive than those in lower class cabins. \n",
        "\n",
        "In this project I use passenger data to train a predictive machine learning model that will assess which passengers were most likely to survive the disaster. "
      ]
    },
    {
      "cell_type": "markdown",
      "metadata": {
        "id": "-vjcHTAmXUk0"
      },
      "source": [
        "# 2. Import Libraries and Data\n",
        "In this short section I import libraries and the raw data."
      ]
    },
    {
      "cell_type": "code",
      "metadata": {
        "id": "9WA2JMNjtJqu"
      },
      "source": [
        "# Import libraries\n",
        "import numpy as np\n",
        "import pandas as pd\n",
        "import plotly.express as px\n",
        "import plotly.graph_objects as go\n",
        "import matplotlib.pyplot as plt\n",
        "import seaborn as sns\n",
        "from sklearn.preprocessing import MinMaxScaler\n",
        "import requests\n",
        "import warnings\n",
        "warnings.filterwarnings('ignore')\n"
      ],
      "execution_count": null,
      "outputs": []
    },
    {
      "cell_type": "code",
      "metadata": {
        "colab": {
          "base_uri": "https://localhost:8080/"
        },
        "id": "6xJcJhRvnuB1",
        "outputId": "cb9f5cb1-5954-41af-8605-0b61a4992529"
      },
      "source": [
        "# Import a public module from Github\n",
        "# This modeule will simplify code in the notebook and so focus on the narrative\n",
        "url = 'https://raw.githubusercontent.com/tommyarmstrong/Python-Modules/master/tja_modules.py'\n",
        "r = requests.get(url)\n",
        "# Ensure filename is the same as the import \n",
        "with open('tja_modules.py', 'w') as f:\n",
        "    f.write(r.text)\n",
        "# Import the module\n",
        "import tja_modules as tja\n",
        "tja.test_module_load()"
      ],
      "execution_count": null,
      "outputs": [
        {
          "output_type": "stream",
          "text": [
            "tja_modules is loaded\n",
            "Version: 2021-02-19 \n"
          ],
          "name": "stdout"
        }
      ]
    },
    {
      "cell_type": "code",
      "metadata": {
        "id": "7gBoSGzHJa4M"
      },
      "source": [
        "# Import homemade modules from Google Drive\n",
        "#from google.colab import drive\n",
        "#drive.mount('/content/gdrive', force_remount=True)\n",
        "#import sys\n",
        "#sys.path.append('/content/gdrive/My Drive/Google Colab Modules')\n",
        "#import tja_modules as tja"
      ],
      "execution_count": null,
      "outputs": []
    },
    {
      "cell_type": "code",
      "metadata": {
        "id": "xI0HYUCVXaNx"
      },
      "source": [
        "# Import data\n",
        "train_url = \"https://raw.githubusercontent.com/tommyarmstrong/Titanic/master/train.csv\"\n",
        "test_url = \"https://raw.githubusercontent.com/tommyarmstrong/Titanic/master/final_test.csv\"\n",
        "\n",
        "train_df = pd.read_csv(train_url)\n",
        "test_df = pd.read_csv(test_url)"
      ],
      "execution_count": null,
      "outputs": []
    },
    {
      "cell_type": "markdown",
      "metadata": {
        "id": "N-pcAqT2hhPO"
      },
      "source": [
        "##Initial Data Inspection\n",
        "\n",
        "Data Dictionary\n",
        "\n",
        "- PassengerID - A column added by Kaggle to identify each row and make submissions easier\n",
        "- Survived - Whether the passenger survived or not and the value we are predicting (0=No, 1=Yes)\n",
        "- Pclass - The class of the ticket the passenger purchased (1=1st, 2=2nd, 3=3rd)\n",
        "- Sex - The passenger’s gender\n",
        "- Age - The passenger’s age in years\n",
        "- SibSp - The number of siblings or spouses the passenger had aboard the Titanic\n",
        "- Parch - The number of parents or children the passenger had aboard the Titanic\n",
        "- Ticket - The passenger’s ticket number\n",
        "- Fare - The fare the passenger paid (British pounds)\n",
        "- Cabin - The passenger’s cabin number\n",
        "- Embarked - The port where the passenger embarked: S=Southampton (England), C=Cherbourg (France), Q=Queenstown (Ireland)\n",
        "\n"
      ]
    },
    {
      "cell_type": "code",
      "metadata": {
        "colab": {
          "base_uri": "https://localhost:8080/",
          "height": 487
        },
        "id": "9k72cJESdxSx",
        "outputId": "d0a2fea8-89d9-4942-fb40-5e56bebfc1cc"
      },
      "source": [
        "train_df"
      ],
      "execution_count": null,
      "outputs": [
        {
          "output_type": "execute_result",
          "data": {
            "text/html": [
              "<div>\n",
              "<style scoped>\n",
              "    .dataframe tbody tr th:only-of-type {\n",
              "        vertical-align: middle;\n",
              "    }\n",
              "\n",
              "    .dataframe tbody tr th {\n",
              "        vertical-align: top;\n",
              "    }\n",
              "\n",
              "    .dataframe thead th {\n",
              "        text-align: right;\n",
              "    }\n",
              "</style>\n",
              "<table border=\"1\" class=\"dataframe\">\n",
              "  <thead>\n",
              "    <tr style=\"text-align: right;\">\n",
              "      <th></th>\n",
              "      <th>PassengerId</th>\n",
              "      <th>Survived</th>\n",
              "      <th>Pclass</th>\n",
              "      <th>Name</th>\n",
              "      <th>Sex</th>\n",
              "      <th>Age</th>\n",
              "      <th>SibSp</th>\n",
              "      <th>Parch</th>\n",
              "      <th>Ticket</th>\n",
              "      <th>Fare</th>\n",
              "      <th>Cabin</th>\n",
              "      <th>Embarked</th>\n",
              "    </tr>\n",
              "  </thead>\n",
              "  <tbody>\n",
              "    <tr>\n",
              "      <th>0</th>\n",
              "      <td>1</td>\n",
              "      <td>0</td>\n",
              "      <td>3</td>\n",
              "      <td>Braund, Mr. Owen Harris</td>\n",
              "      <td>male</td>\n",
              "      <td>22.0</td>\n",
              "      <td>1</td>\n",
              "      <td>0</td>\n",
              "      <td>A/5 21171</td>\n",
              "      <td>7.2500</td>\n",
              "      <td>NaN</td>\n",
              "      <td>S</td>\n",
              "    </tr>\n",
              "    <tr>\n",
              "      <th>1</th>\n",
              "      <td>2</td>\n",
              "      <td>1</td>\n",
              "      <td>1</td>\n",
              "      <td>Cumings, Mrs. John Bradley (Florence Briggs Th...</td>\n",
              "      <td>female</td>\n",
              "      <td>38.0</td>\n",
              "      <td>1</td>\n",
              "      <td>0</td>\n",
              "      <td>PC 17599</td>\n",
              "      <td>71.2833</td>\n",
              "      <td>C85</td>\n",
              "      <td>C</td>\n",
              "    </tr>\n",
              "    <tr>\n",
              "      <th>2</th>\n",
              "      <td>3</td>\n",
              "      <td>1</td>\n",
              "      <td>3</td>\n",
              "      <td>Heikkinen, Miss. Laina</td>\n",
              "      <td>female</td>\n",
              "      <td>26.0</td>\n",
              "      <td>0</td>\n",
              "      <td>0</td>\n",
              "      <td>STON/O2. 3101282</td>\n",
              "      <td>7.9250</td>\n",
              "      <td>NaN</td>\n",
              "      <td>S</td>\n",
              "    </tr>\n",
              "    <tr>\n",
              "      <th>3</th>\n",
              "      <td>4</td>\n",
              "      <td>1</td>\n",
              "      <td>1</td>\n",
              "      <td>Futrelle, Mrs. Jacques Heath (Lily May Peel)</td>\n",
              "      <td>female</td>\n",
              "      <td>35.0</td>\n",
              "      <td>1</td>\n",
              "      <td>0</td>\n",
              "      <td>113803</td>\n",
              "      <td>53.1000</td>\n",
              "      <td>C123</td>\n",
              "      <td>S</td>\n",
              "    </tr>\n",
              "    <tr>\n",
              "      <th>4</th>\n",
              "      <td>5</td>\n",
              "      <td>0</td>\n",
              "      <td>3</td>\n",
              "      <td>Allen, Mr. William Henry</td>\n",
              "      <td>male</td>\n",
              "      <td>35.0</td>\n",
              "      <td>0</td>\n",
              "      <td>0</td>\n",
              "      <td>373450</td>\n",
              "      <td>8.0500</td>\n",
              "      <td>NaN</td>\n",
              "      <td>S</td>\n",
              "    </tr>\n",
              "    <tr>\n",
              "      <th>...</th>\n",
              "      <td>...</td>\n",
              "      <td>...</td>\n",
              "      <td>...</td>\n",
              "      <td>...</td>\n",
              "      <td>...</td>\n",
              "      <td>...</td>\n",
              "      <td>...</td>\n",
              "      <td>...</td>\n",
              "      <td>...</td>\n",
              "      <td>...</td>\n",
              "      <td>...</td>\n",
              "      <td>...</td>\n",
              "    </tr>\n",
              "    <tr>\n",
              "      <th>886</th>\n",
              "      <td>887</td>\n",
              "      <td>0</td>\n",
              "      <td>2</td>\n",
              "      <td>Montvila, Rev. Juozas</td>\n",
              "      <td>male</td>\n",
              "      <td>27.0</td>\n",
              "      <td>0</td>\n",
              "      <td>0</td>\n",
              "      <td>211536</td>\n",
              "      <td>13.0000</td>\n",
              "      <td>NaN</td>\n",
              "      <td>S</td>\n",
              "    </tr>\n",
              "    <tr>\n",
              "      <th>887</th>\n",
              "      <td>888</td>\n",
              "      <td>1</td>\n",
              "      <td>1</td>\n",
              "      <td>Graham, Miss. Margaret Edith</td>\n",
              "      <td>female</td>\n",
              "      <td>19.0</td>\n",
              "      <td>0</td>\n",
              "      <td>0</td>\n",
              "      <td>112053</td>\n",
              "      <td>30.0000</td>\n",
              "      <td>B42</td>\n",
              "      <td>S</td>\n",
              "    </tr>\n",
              "    <tr>\n",
              "      <th>888</th>\n",
              "      <td>889</td>\n",
              "      <td>0</td>\n",
              "      <td>3</td>\n",
              "      <td>Johnston, Miss. Catherine Helen \"Carrie\"</td>\n",
              "      <td>female</td>\n",
              "      <td>NaN</td>\n",
              "      <td>1</td>\n",
              "      <td>2</td>\n",
              "      <td>W./C. 6607</td>\n",
              "      <td>23.4500</td>\n",
              "      <td>NaN</td>\n",
              "      <td>S</td>\n",
              "    </tr>\n",
              "    <tr>\n",
              "      <th>889</th>\n",
              "      <td>890</td>\n",
              "      <td>1</td>\n",
              "      <td>1</td>\n",
              "      <td>Behr, Mr. Karl Howell</td>\n",
              "      <td>male</td>\n",
              "      <td>26.0</td>\n",
              "      <td>0</td>\n",
              "      <td>0</td>\n",
              "      <td>111369</td>\n",
              "      <td>30.0000</td>\n",
              "      <td>C148</td>\n",
              "      <td>C</td>\n",
              "    </tr>\n",
              "    <tr>\n",
              "      <th>890</th>\n",
              "      <td>891</td>\n",
              "      <td>0</td>\n",
              "      <td>3</td>\n",
              "      <td>Dooley, Mr. Patrick</td>\n",
              "      <td>male</td>\n",
              "      <td>32.0</td>\n",
              "      <td>0</td>\n",
              "      <td>0</td>\n",
              "      <td>370376</td>\n",
              "      <td>7.7500</td>\n",
              "      <td>NaN</td>\n",
              "      <td>Q</td>\n",
              "    </tr>\n",
              "  </tbody>\n",
              "</table>\n",
              "<p>891 rows × 12 columns</p>\n",
              "</div>"
            ],
            "text/plain": [
              "     PassengerId  Survived  Pclass  ...     Fare Cabin  Embarked\n",
              "0              1         0       3  ...   7.2500   NaN         S\n",
              "1              2         1       1  ...  71.2833   C85         C\n",
              "2              3         1       3  ...   7.9250   NaN         S\n",
              "3              4         1       1  ...  53.1000  C123         S\n",
              "4              5         0       3  ...   8.0500   NaN         S\n",
              "..           ...       ...     ...  ...      ...   ...       ...\n",
              "886          887         0       2  ...  13.0000   NaN         S\n",
              "887          888         1       1  ...  30.0000   B42         S\n",
              "888          889         0       3  ...  23.4500   NaN         S\n",
              "889          890         1       1  ...  30.0000  C148         C\n",
              "890          891         0       3  ...   7.7500   NaN         Q\n",
              "\n",
              "[891 rows x 12 columns]"
            ]
          },
          "metadata": {
            "tags": []
          },
          "execution_count": 6
        }
      ]
    },
    {
      "cell_type": "code",
      "metadata": {
        "colab": {
          "base_uri": "https://localhost:8080/",
          "height": 487
        },
        "id": "EuxONj8ifDQ1",
        "outputId": "55b68199-1c2b-435b-f1b1-a2d0c7262253"
      },
      "source": [
        "test_df"
      ],
      "execution_count": null,
      "outputs": [
        {
          "output_type": "execute_result",
          "data": {
            "text/html": [
              "<div>\n",
              "<style scoped>\n",
              "    .dataframe tbody tr th:only-of-type {\n",
              "        vertical-align: middle;\n",
              "    }\n",
              "\n",
              "    .dataframe tbody tr th {\n",
              "        vertical-align: top;\n",
              "    }\n",
              "\n",
              "    .dataframe thead th {\n",
              "        text-align: right;\n",
              "    }\n",
              "</style>\n",
              "<table border=\"1\" class=\"dataframe\">\n",
              "  <thead>\n",
              "    <tr style=\"text-align: right;\">\n",
              "      <th></th>\n",
              "      <th>PassengerId</th>\n",
              "      <th>Pclass</th>\n",
              "      <th>Name</th>\n",
              "      <th>Sex</th>\n",
              "      <th>Age</th>\n",
              "      <th>SibSp</th>\n",
              "      <th>Parch</th>\n",
              "      <th>Ticket</th>\n",
              "      <th>Fare</th>\n",
              "      <th>Cabin</th>\n",
              "      <th>Embarked</th>\n",
              "      <th>survived</th>\n",
              "    </tr>\n",
              "  </thead>\n",
              "  <tbody>\n",
              "    <tr>\n",
              "      <th>0</th>\n",
              "      <td>892</td>\n",
              "      <td>3</td>\n",
              "      <td>Kelly, Mr. James</td>\n",
              "      <td>male</td>\n",
              "      <td>34.5</td>\n",
              "      <td>0</td>\n",
              "      <td>0</td>\n",
              "      <td>330911</td>\n",
              "      <td>7.8292</td>\n",
              "      <td>NaN</td>\n",
              "      <td>Q</td>\n",
              "      <td>0</td>\n",
              "    </tr>\n",
              "    <tr>\n",
              "      <th>1</th>\n",
              "      <td>893</td>\n",
              "      <td>3</td>\n",
              "      <td>Wilkes, Mrs. James (Ellen Needs)</td>\n",
              "      <td>female</td>\n",
              "      <td>47.0</td>\n",
              "      <td>1</td>\n",
              "      <td>0</td>\n",
              "      <td>363272</td>\n",
              "      <td>7.0000</td>\n",
              "      <td>NaN</td>\n",
              "      <td>S</td>\n",
              "      <td>1</td>\n",
              "    </tr>\n",
              "    <tr>\n",
              "      <th>2</th>\n",
              "      <td>894</td>\n",
              "      <td>2</td>\n",
              "      <td>Myles, Mr. Thomas Francis</td>\n",
              "      <td>male</td>\n",
              "      <td>62.0</td>\n",
              "      <td>0</td>\n",
              "      <td>0</td>\n",
              "      <td>240276</td>\n",
              "      <td>9.6875</td>\n",
              "      <td>NaN</td>\n",
              "      <td>Q</td>\n",
              "      <td>0</td>\n",
              "    </tr>\n",
              "    <tr>\n",
              "      <th>3</th>\n",
              "      <td>895</td>\n",
              "      <td>3</td>\n",
              "      <td>Wirz, Mr. Albert</td>\n",
              "      <td>male</td>\n",
              "      <td>27.0</td>\n",
              "      <td>0</td>\n",
              "      <td>0</td>\n",
              "      <td>315154</td>\n",
              "      <td>8.6625</td>\n",
              "      <td>NaN</td>\n",
              "      <td>S</td>\n",
              "      <td>0</td>\n",
              "    </tr>\n",
              "    <tr>\n",
              "      <th>4</th>\n",
              "      <td>896</td>\n",
              "      <td>3</td>\n",
              "      <td>Hirvonen, Mrs. Alexander (Helga E Lindqvist)</td>\n",
              "      <td>female</td>\n",
              "      <td>22.0</td>\n",
              "      <td>1</td>\n",
              "      <td>1</td>\n",
              "      <td>3101298</td>\n",
              "      <td>12.2875</td>\n",
              "      <td>NaN</td>\n",
              "      <td>S</td>\n",
              "      <td>1</td>\n",
              "    </tr>\n",
              "    <tr>\n",
              "      <th>...</th>\n",
              "      <td>...</td>\n",
              "      <td>...</td>\n",
              "      <td>...</td>\n",
              "      <td>...</td>\n",
              "      <td>...</td>\n",
              "      <td>...</td>\n",
              "      <td>...</td>\n",
              "      <td>...</td>\n",
              "      <td>...</td>\n",
              "      <td>...</td>\n",
              "      <td>...</td>\n",
              "      <td>...</td>\n",
              "    </tr>\n",
              "    <tr>\n",
              "      <th>358</th>\n",
              "      <td>1305</td>\n",
              "      <td>3</td>\n",
              "      <td>Spector, Mr. Woolf</td>\n",
              "      <td>male</td>\n",
              "      <td>NaN</td>\n",
              "      <td>0</td>\n",
              "      <td>0</td>\n",
              "      <td>A.5. 3236</td>\n",
              "      <td>8.0500</td>\n",
              "      <td>NaN</td>\n",
              "      <td>S</td>\n",
              "      <td>0</td>\n",
              "    </tr>\n",
              "    <tr>\n",
              "      <th>359</th>\n",
              "      <td>1306</td>\n",
              "      <td>1</td>\n",
              "      <td>Oliva y Ocana, Dona. Fermina</td>\n",
              "      <td>female</td>\n",
              "      <td>39.0</td>\n",
              "      <td>0</td>\n",
              "      <td>0</td>\n",
              "      <td>PC 17758</td>\n",
              "      <td>108.9000</td>\n",
              "      <td>C105</td>\n",
              "      <td>C</td>\n",
              "      <td>1</td>\n",
              "    </tr>\n",
              "    <tr>\n",
              "      <th>360</th>\n",
              "      <td>1307</td>\n",
              "      <td>3</td>\n",
              "      <td>Saether, Mr. Simon Sivertsen</td>\n",
              "      <td>male</td>\n",
              "      <td>38.5</td>\n",
              "      <td>0</td>\n",
              "      <td>0</td>\n",
              "      <td>SOTON/O.Q. 3101262</td>\n",
              "      <td>7.2500</td>\n",
              "      <td>NaN</td>\n",
              "      <td>S</td>\n",
              "      <td>0</td>\n",
              "    </tr>\n",
              "    <tr>\n",
              "      <th>361</th>\n",
              "      <td>1308</td>\n",
              "      <td>3</td>\n",
              "      <td>Ware, Mr. Frederick</td>\n",
              "      <td>male</td>\n",
              "      <td>NaN</td>\n",
              "      <td>0</td>\n",
              "      <td>0</td>\n",
              "      <td>359309</td>\n",
              "      <td>8.0500</td>\n",
              "      <td>NaN</td>\n",
              "      <td>S</td>\n",
              "      <td>0</td>\n",
              "    </tr>\n",
              "    <tr>\n",
              "      <th>362</th>\n",
              "      <td>1309</td>\n",
              "      <td>3</td>\n",
              "      <td>Peter, Master. Michael J</td>\n",
              "      <td>male</td>\n",
              "      <td>NaN</td>\n",
              "      <td>1</td>\n",
              "      <td>1</td>\n",
              "      <td>2668</td>\n",
              "      <td>22.3583</td>\n",
              "      <td>NaN</td>\n",
              "      <td>C</td>\n",
              "      <td>1</td>\n",
              "    </tr>\n",
              "  </tbody>\n",
              "</table>\n",
              "<p>363 rows × 12 columns</p>\n",
              "</div>"
            ],
            "text/plain": [
              "     PassengerId  Pclass  ... Embarked survived\n",
              "0            892       3  ...        Q        0\n",
              "1            893       3  ...        S        1\n",
              "2            894       2  ...        Q        0\n",
              "3            895       3  ...        S        0\n",
              "4            896       3  ...        S        1\n",
              "..           ...     ...  ...      ...      ...\n",
              "358         1305       3  ...        S        0\n",
              "359         1306       1  ...        C        1\n",
              "360         1307       3  ...        S        0\n",
              "361         1308       3  ...        S        0\n",
              "362         1309       3  ...        C        1\n",
              "\n",
              "[363 rows x 12 columns]"
            ]
          },
          "metadata": {
            "tags": []
          },
          "execution_count": 7
        }
      ]
    },
    {
      "cell_type": "markdown",
      "metadata": {
        "id": "e7qW6dZjh-iR"
      },
      "source": [
        "It appears that both data sets have columns that match the data dictionary, however the \"survived\" label is capitalized differently and has a different position in the two pandas. "
      ]
    },
    {
      "cell_type": "code",
      "metadata": {
        "id": "U8v59b4zi4wJ"
      },
      "source": [
        "# Capitalize the column name in the test pandas \n",
        "test_df.rename(columns={'survived': 'Survived'}, inplace=True)\n",
        "\n",
        "# Move the \"Survived\" columns to the second column in the test pandas\n",
        "test_df = test_df[['PassengerId', 'Survived', 'Pclass', 'Name', 'Sex', 'Age', 'SibSp', 'Parch', 'Ticket', 'Fare', 'Cabin', 'Embarked']]"
      ],
      "execution_count": null,
      "outputs": []
    },
    {
      "cell_type": "markdown",
      "metadata": {
        "id": "QTLbFJLLl6sY"
      },
      "source": [
        "## Combine the Data\n",
        "I will combine the data into a single data frame. This will ensure that any cleaning or feature engineering is implemented in exactly the same way for train and test data. \n",
        "\n",
        "First, compare the typing of the data and the number of NaN values in each data set. I want to ensure there are a similar percentage of NaNs in each data set before combining them and cleaning them. \n",
        "\n",
        "\n",
        "\n"
      ]
    },
    {
      "cell_type": "code",
      "metadata": {
        "colab": {
          "base_uri": "https://localhost:8080/"
        },
        "id": "-mbCByAXrHUG",
        "outputId": "624a8da3-b5b5-42c9-c8a6-9c2328a0c3e8"
      },
      "source": [
        "train_df.info()"
      ],
      "execution_count": null,
      "outputs": [
        {
          "output_type": "stream",
          "text": [
            "<class 'pandas.core.frame.DataFrame'>\n",
            "RangeIndex: 891 entries, 0 to 890\n",
            "Data columns (total 12 columns):\n",
            " #   Column       Non-Null Count  Dtype  \n",
            "---  ------       --------------  -----  \n",
            " 0   PassengerId  891 non-null    int64  \n",
            " 1   Survived     891 non-null    int64  \n",
            " 2   Pclass       891 non-null    int64  \n",
            " 3   Name         891 non-null    object \n",
            " 4   Sex          891 non-null    object \n",
            " 5   Age          714 non-null    float64\n",
            " 6   SibSp        891 non-null    int64  \n",
            " 7   Parch        891 non-null    int64  \n",
            " 8   Ticket       891 non-null    object \n",
            " 9   Fare         891 non-null    float64\n",
            " 10  Cabin        204 non-null    object \n",
            " 11  Embarked     889 non-null    object \n",
            "dtypes: float64(2), int64(5), object(5)\n",
            "memory usage: 83.7+ KB\n"
          ],
          "name": "stdout"
        }
      ]
    },
    {
      "cell_type": "code",
      "metadata": {
        "colab": {
          "base_uri": "https://localhost:8080/"
        },
        "id": "YPa6Y8lirfyE",
        "outputId": "60b53915-886f-4874-e0a8-8c0731bbc51a"
      },
      "source": [
        "test_df.info()"
      ],
      "execution_count": null,
      "outputs": [
        {
          "output_type": "stream",
          "text": [
            "<class 'pandas.core.frame.DataFrame'>\n",
            "RangeIndex: 363 entries, 0 to 362\n",
            "Data columns (total 12 columns):\n",
            " #   Column       Non-Null Count  Dtype  \n",
            "---  ------       --------------  -----  \n",
            " 0   PassengerId  363 non-null    int64  \n",
            " 1   Survived     363 non-null    int64  \n",
            " 2   Pclass       363 non-null    int64  \n",
            " 3   Name         363 non-null    object \n",
            " 4   Sex          363 non-null    object \n",
            " 5   Age          283 non-null    float64\n",
            " 6   SibSp        363 non-null    int64  \n",
            " 7   Parch        363 non-null    int64  \n",
            " 8   Ticket       363 non-null    object \n",
            " 9   Fare         362 non-null    float64\n",
            " 10  Cabin        68 non-null     object \n",
            " 11  Embarked     363 non-null    object \n",
            "dtypes: float64(2), int64(5), object(5)\n",
            "memory usage: 34.2+ KB\n"
          ],
          "name": "stdout"
        }
      ]
    },
    {
      "cell_type": "markdown",
      "metadata": {
        "id": "iFoCIJAQrjVe"
      },
      "source": [
        "The data sets have the same Dtype for colummns. Each is missing a large number of values in the Age and Cabin columns, the Train data frame is missing two entries in Embarked and the Test data frame is missing one entry in Fare. "
      ]
    },
    {
      "cell_type": "code",
      "metadata": {
        "colab": {
          "base_uri": "https://localhost:8080/",
          "height": 142
        },
        "id": "FoKPB4X2s5Yt",
        "outputId": "83c05d63-e305-4fa4-c076-94b030c6bec0"
      },
      "source": [
        "# Calculate percentage of missing data\n",
        "def missing_data(df):\n",
        "  total_nans = df.isnull().sum()\n",
        "  percent = total_nans / df.isnull().count() * 100\n",
        "  missing_df = pd.concat([total_nans, percent], axis=1, keys=['NaNs', 'Percent'])\n",
        "  missing_df = missing_df[missing_df['Percent'] > 0]\n",
        "  return missing_df\n",
        "  \n",
        "missing_data(train_df)"
      ],
      "execution_count": null,
      "outputs": [
        {
          "output_type": "execute_result",
          "data": {
            "text/html": [
              "<div>\n",
              "<style scoped>\n",
              "    .dataframe tbody tr th:only-of-type {\n",
              "        vertical-align: middle;\n",
              "    }\n",
              "\n",
              "    .dataframe tbody tr th {\n",
              "        vertical-align: top;\n",
              "    }\n",
              "\n",
              "    .dataframe thead th {\n",
              "        text-align: right;\n",
              "    }\n",
              "</style>\n",
              "<table border=\"1\" class=\"dataframe\">\n",
              "  <thead>\n",
              "    <tr style=\"text-align: right;\">\n",
              "      <th></th>\n",
              "      <th>NaNs</th>\n",
              "      <th>Percent</th>\n",
              "    </tr>\n",
              "  </thead>\n",
              "  <tbody>\n",
              "    <tr>\n",
              "      <th>Age</th>\n",
              "      <td>177</td>\n",
              "      <td>19.865320</td>\n",
              "    </tr>\n",
              "    <tr>\n",
              "      <th>Cabin</th>\n",
              "      <td>687</td>\n",
              "      <td>77.104377</td>\n",
              "    </tr>\n",
              "    <tr>\n",
              "      <th>Embarked</th>\n",
              "      <td>2</td>\n",
              "      <td>0.224467</td>\n",
              "    </tr>\n",
              "  </tbody>\n",
              "</table>\n",
              "</div>"
            ],
            "text/plain": [
              "          NaNs    Percent\n",
              "Age        177  19.865320\n",
              "Cabin      687  77.104377\n",
              "Embarked     2   0.224467"
            ]
          },
          "metadata": {
            "tags": []
          },
          "execution_count": 11
        }
      ]
    },
    {
      "cell_type": "code",
      "metadata": {
        "colab": {
          "base_uri": "https://localhost:8080/",
          "height": 142
        },
        "id": "iSAmxoqGtFG3",
        "outputId": "90c44e73-3de0-4b54-adbf-6de63755502f"
      },
      "source": [
        "missing_data(test_df)"
      ],
      "execution_count": null,
      "outputs": [
        {
          "output_type": "execute_result",
          "data": {
            "text/html": [
              "<div>\n",
              "<style scoped>\n",
              "    .dataframe tbody tr th:only-of-type {\n",
              "        vertical-align: middle;\n",
              "    }\n",
              "\n",
              "    .dataframe tbody tr th {\n",
              "        vertical-align: top;\n",
              "    }\n",
              "\n",
              "    .dataframe thead th {\n",
              "        text-align: right;\n",
              "    }\n",
              "</style>\n",
              "<table border=\"1\" class=\"dataframe\">\n",
              "  <thead>\n",
              "    <tr style=\"text-align: right;\">\n",
              "      <th></th>\n",
              "      <th>NaNs</th>\n",
              "      <th>Percent</th>\n",
              "    </tr>\n",
              "  </thead>\n",
              "  <tbody>\n",
              "    <tr>\n",
              "      <th>Age</th>\n",
              "      <td>80</td>\n",
              "      <td>22.038567</td>\n",
              "    </tr>\n",
              "    <tr>\n",
              "      <th>Fare</th>\n",
              "      <td>1</td>\n",
              "      <td>0.275482</td>\n",
              "    </tr>\n",
              "    <tr>\n",
              "      <th>Cabin</th>\n",
              "      <td>295</td>\n",
              "      <td>81.267218</td>\n",
              "    </tr>\n",
              "  </tbody>\n",
              "</table>\n",
              "</div>"
            ],
            "text/plain": [
              "       NaNs    Percent\n",
              "Age      80  22.038567\n",
              "Fare      1   0.275482\n",
              "Cabin   295  81.267218"
            ]
          },
          "metadata": {
            "tags": []
          },
          "execution_count": 12
        }
      ]
    },
    {
      "cell_type": "markdown",
      "metadata": {
        "id": "OqA1ipY8rFRv"
      },
      "source": [
        "There are a similar proportion of missing values for Age and Cabin in the training and test data. I am happy to apply the same logic in cleaning both sets. \n"
      ]
    },
    {
      "cell_type": "code",
      "metadata": {
        "colab": {
          "base_uri": "https://localhost:8080/"
        },
        "id": "etkKxMQQm8O9",
        "outputId": "8dc93858-e961-4255-e363-7ab2ea121d1e"
      },
      "source": [
        "# Add a column to each data set identifying the rows as train or test\n",
        "# Then combine the data into a single pandas\n",
        "train_df['Train'] = 1\n",
        "test_df['Train'] = 0\n",
        "all_data_df = pd.concat([train_df, test_df]) # Should I re-index these data??\n",
        "print(\"Data combined into a single data frame\")"
      ],
      "execution_count": null,
      "outputs": [
        {
          "output_type": "stream",
          "text": [
            "Data combined into a single data frame\n"
          ],
          "name": "stdout"
        }
      ]
    },
    {
      "cell_type": "markdown",
      "metadata": {
        "id": "joHtIRlVpNXs"
      },
      "source": [
        "# 3. Explore the Data\n",
        "\n",
        "There are entries in the data fro 1,254 passengers. The Report of the Committee on Commerce of the United States Senate listed 1,324 passengers (https://web.archive.org/web/20110501101420/http://www.titanicinquiry.org/USInq/USReport/AmInqRep01.php#a11).\n",
        "\n",
        "So the data here represent approximately 95% of the passengers abored the Titanic."
      ]
    },
    {
      "cell_type": "code",
      "metadata": {
        "colab": {
          "base_uri": "https://localhost:8080/"
        },
        "id": "DXxgPY-Qp3XZ",
        "outputId": "8c5fa199-e94a-4820-9641-cfb235aa6a69"
      },
      "source": [
        "all_data_df.info()"
      ],
      "execution_count": null,
      "outputs": [
        {
          "output_type": "stream",
          "text": [
            "<class 'pandas.core.frame.DataFrame'>\n",
            "Int64Index: 1254 entries, 0 to 362\n",
            "Data columns (total 13 columns):\n",
            " #   Column       Non-Null Count  Dtype  \n",
            "---  ------       --------------  -----  \n",
            " 0   PassengerId  1254 non-null   int64  \n",
            " 1   Survived     1254 non-null   int64  \n",
            " 2   Pclass       1254 non-null   int64  \n",
            " 3   Name         1254 non-null   object \n",
            " 4   Sex          1254 non-null   object \n",
            " 5   Age          997 non-null    float64\n",
            " 6   SibSp        1254 non-null   int64  \n",
            " 7   Parch        1254 non-null   int64  \n",
            " 8   Ticket       1254 non-null   object \n",
            " 9   Fare         1253 non-null   float64\n",
            " 10  Cabin        272 non-null    object \n",
            " 11  Embarked     1252 non-null   object \n",
            " 12  Train        1254 non-null   int64  \n",
            "dtypes: float64(2), int64(6), object(5)\n",
            "memory usage: 137.2+ KB\n"
          ],
          "name": "stdout"
        }
      ]
    },
    {
      "cell_type": "markdown",
      "metadata": {
        "id": "pSsqzjgO1ZjE"
      },
      "source": [
        "There are eleven columns (excluding the PassengerID and Train columns). \n",
        "\n",
        "*   5 Numeric features (int and float): Pclass, Age, SibSp, Parch and Fare \n",
        "*   1 Text features: Name \n",
        "*   2 Alpha-numeric features: Ticket and Cabin \n",
        "*   2 Categorical features: Sex and Embarked \n",
        "*   The Survived label \n",
        "\n",
        "*Is pClass a classification or a number??*\n",
        "\n",
        "I should be able to one-hot-encode Sex and Embarked. It maybe that there is numerical data that can be extracted from Name, Ticket and Cabin. As examples,deck and position of the cabin relative to the bow or stern of the ship could be significant. Details on class or social status could be extracted from the Name.\n",
        "\n"
      ]
    },
    {
      "cell_type": "code",
      "metadata": {
        "colab": {
          "base_uri": "https://localhost:8080/",
          "height": 297
        },
        "id": "ovTfVDHdyL1R",
        "outputId": "a34315ca-81e5-48e3-a8bf-77f0b481d9a0"
      },
      "source": [
        "all_data_df.describe()"
      ],
      "execution_count": null,
      "outputs": [
        {
          "output_type": "execute_result",
          "data": {
            "text/html": [
              "<div>\n",
              "<style scoped>\n",
              "    .dataframe tbody tr th:only-of-type {\n",
              "        vertical-align: middle;\n",
              "    }\n",
              "\n",
              "    .dataframe tbody tr th {\n",
              "        vertical-align: top;\n",
              "    }\n",
              "\n",
              "    .dataframe thead th {\n",
              "        text-align: right;\n",
              "    }\n",
              "</style>\n",
              "<table border=\"1\" class=\"dataframe\">\n",
              "  <thead>\n",
              "    <tr style=\"text-align: right;\">\n",
              "      <th></th>\n",
              "      <th>PassengerId</th>\n",
              "      <th>Survived</th>\n",
              "      <th>Pclass</th>\n",
              "      <th>Age</th>\n",
              "      <th>SibSp</th>\n",
              "      <th>Parch</th>\n",
              "      <th>Fare</th>\n",
              "      <th>Train</th>\n",
              "    </tr>\n",
              "  </thead>\n",
              "  <tbody>\n",
              "    <tr>\n",
              "      <th>count</th>\n",
              "      <td>1254.000000</td>\n",
              "      <td>1254.000000</td>\n",
              "      <td>1254.00000</td>\n",
              "      <td>997.000000</td>\n",
              "      <td>1254.000000</td>\n",
              "      <td>1254.000000</td>\n",
              "      <td>1253.000000</td>\n",
              "      <td>1254.000000</td>\n",
              "    </tr>\n",
              "    <tr>\n",
              "      <th>mean</th>\n",
              "      <td>632.513557</td>\n",
              "      <td>0.372408</td>\n",
              "      <td>2.31260</td>\n",
              "      <td>29.838265</td>\n",
              "      <td>0.474482</td>\n",
              "      <td>0.348485</td>\n",
              "      <td>30.946491</td>\n",
              "      <td>0.710526</td>\n",
              "    </tr>\n",
              "    <tr>\n",
              "      <th>std</th>\n",
              "      <td>369.710874</td>\n",
              "      <td>0.483639</td>\n",
              "      <td>0.83205</td>\n",
              "      <td>14.277418</td>\n",
              "      <td>1.019633</td>\n",
              "      <td>0.774036</td>\n",
              "      <td>48.756174</td>\n",
              "      <td>0.453699</td>\n",
              "    </tr>\n",
              "    <tr>\n",
              "      <th>min</th>\n",
              "      <td>1.000000</td>\n",
              "      <td>0.000000</td>\n",
              "      <td>1.00000</td>\n",
              "      <td>0.330000</td>\n",
              "      <td>0.000000</td>\n",
              "      <td>0.000000</td>\n",
              "      <td>0.000000</td>\n",
              "      <td>0.000000</td>\n",
              "    </tr>\n",
              "    <tr>\n",
              "      <th>25%</th>\n",
              "      <td>314.250000</td>\n",
              "      <td>0.000000</td>\n",
              "      <td>2.00000</td>\n",
              "      <td>21.000000</td>\n",
              "      <td>0.000000</td>\n",
              "      <td>0.000000</td>\n",
              "      <td>7.895800</td>\n",
              "      <td>0.000000</td>\n",
              "    </tr>\n",
              "    <tr>\n",
              "      <th>50%</th>\n",
              "      <td>627.500000</td>\n",
              "      <td>0.000000</td>\n",
              "      <td>3.00000</td>\n",
              "      <td>28.000000</td>\n",
              "      <td>0.000000</td>\n",
              "      <td>0.000000</td>\n",
              "      <td>13.500000</td>\n",
              "      <td>1.000000</td>\n",
              "    </tr>\n",
              "    <tr>\n",
              "      <th>75%</th>\n",
              "      <td>940.750000</td>\n",
              "      <td>1.000000</td>\n",
              "      <td>3.00000</td>\n",
              "      <td>38.500000</td>\n",
              "      <td>1.000000</td>\n",
              "      <td>0.000000</td>\n",
              "      <td>29.700000</td>\n",
              "      <td>1.000000</td>\n",
              "    </tr>\n",
              "    <tr>\n",
              "      <th>max</th>\n",
              "      <td>1309.000000</td>\n",
              "      <td>1.000000</td>\n",
              "      <td>3.00000</td>\n",
              "      <td>80.000000</td>\n",
              "      <td>8.000000</td>\n",
              "      <td>6.000000</td>\n",
              "      <td>512.329200</td>\n",
              "      <td>1.000000</td>\n",
              "    </tr>\n",
              "  </tbody>\n",
              "</table>\n",
              "</div>"
            ],
            "text/plain": [
              "       PassengerId     Survived  ...         Fare        Train\n",
              "count  1254.000000  1254.000000  ...  1253.000000  1254.000000\n",
              "mean    632.513557     0.372408  ...    30.946491     0.710526\n",
              "std     369.710874     0.483639  ...    48.756174     0.453699\n",
              "min       1.000000     0.000000  ...     0.000000     0.000000\n",
              "25%     314.250000     0.000000  ...     7.895800     0.000000\n",
              "50%     627.500000     0.000000  ...    13.500000     1.000000\n",
              "75%     940.750000     1.000000  ...    29.700000     1.000000\n",
              "max    1309.000000     1.000000  ...   512.329200     1.000000\n",
              "\n",
              "[8 rows x 8 columns]"
            ]
          },
          "metadata": {
            "tags": []
          },
          "execution_count": 15
        }
      ]
    },
    {
      "cell_type": "code",
      "metadata": {
        "colab": {
          "base_uri": "https://localhost:8080/",
          "height": 173
        },
        "id": "NYSCBZDa5ISW",
        "outputId": "f9e6a1d5-9625-444a-c305-6ba05eaf1027"
      },
      "source": [
        "all_data_df.describe(include=['O'])"
      ],
      "execution_count": null,
      "outputs": [
        {
          "output_type": "execute_result",
          "data": {
            "text/html": [
              "<div>\n",
              "<style scoped>\n",
              "    .dataframe tbody tr th:only-of-type {\n",
              "        vertical-align: middle;\n",
              "    }\n",
              "\n",
              "    .dataframe tbody tr th {\n",
              "        vertical-align: top;\n",
              "    }\n",
              "\n",
              "    .dataframe thead th {\n",
              "        text-align: right;\n",
              "    }\n",
              "</style>\n",
              "<table border=\"1\" class=\"dataframe\">\n",
              "  <thead>\n",
              "    <tr style=\"text-align: right;\">\n",
              "      <th></th>\n",
              "      <th>Name</th>\n",
              "      <th>Sex</th>\n",
              "      <th>Ticket</th>\n",
              "      <th>Cabin</th>\n",
              "      <th>Embarked</th>\n",
              "    </tr>\n",
              "  </thead>\n",
              "  <tbody>\n",
              "    <tr>\n",
              "      <th>count</th>\n",
              "      <td>1254</td>\n",
              "      <td>1254</td>\n",
              "      <td>1254</td>\n",
              "      <td>272</td>\n",
              "      <td>1252</td>\n",
              "    </tr>\n",
              "    <tr>\n",
              "      <th>unique</th>\n",
              "      <td>1252</td>\n",
              "      <td>2</td>\n",
              "      <td>929</td>\n",
              "      <td>178</td>\n",
              "      <td>3</td>\n",
              "    </tr>\n",
              "    <tr>\n",
              "      <th>top</th>\n",
              "      <td>Kelly, Mr. James</td>\n",
              "      <td>male</td>\n",
              "      <td>1601</td>\n",
              "      <td>C23 C25 C27</td>\n",
              "      <td>S</td>\n",
              "    </tr>\n",
              "    <tr>\n",
              "      <th>freq</th>\n",
              "      <td>2</td>\n",
              "      <td>815</td>\n",
              "      <td>8</td>\n",
              "      <td>5</td>\n",
              "      <td>877</td>\n",
              "    </tr>\n",
              "  </tbody>\n",
              "</table>\n",
              "</div>"
            ],
            "text/plain": [
              "                    Name   Sex Ticket        Cabin Embarked\n",
              "count               1254  1254   1254          272     1252\n",
              "unique              1252     2    929          178        3\n",
              "top     Kelly, Mr. James  male   1601  C23 C25 C27        S\n",
              "freq                   2   815      8            5      877"
            ]
          },
          "metadata": {
            "tags": []
          },
          "execution_count": 16
        }
      ]
    },
    {
      "cell_type": "markdown",
      "metadata": {
        "id": "dPaEetI94tKY"
      },
      "source": [
        "## Top-level Observations\n",
        "\n",
        "*   37% of passengers survived\n",
        "*   Age ranged from 4 months to 80 years old, \n",
        "*   Average age was only 29 and 75% of passengers were 38 or younger \n",
        "*   65% of passengers were male\n",
        "*   There were passengers travelling with families \n",
        "*   At least 75% travelled without family (no parents, children, brothers, sisters, husband or wife)\n",
        "*   Mean average Fare was £31 although the median is £13.50\n",
        "*   Highest Fare was £512\n",
        "*   75% of passengers (929) had unique Tickets\n",
        "\n"
      ]
    },
    {
      "cell_type": "code",
      "metadata": {
        "colab": {
          "base_uri": "https://localhost:8080/",
          "height": 111
        },
        "id": "fh2wmy0JB9YC",
        "outputId": "b73bb218-d651-4430-8aac-2e7b82f436fd"
      },
      "source": [
        "all_data_df[all_data_df[\"Name\"] == \"Connolly, Miss. Kate\"]"
      ],
      "execution_count": null,
      "outputs": [
        {
          "output_type": "execute_result",
          "data": {
            "text/html": [
              "<div>\n",
              "<style scoped>\n",
              "    .dataframe tbody tr th:only-of-type {\n",
              "        vertical-align: middle;\n",
              "    }\n",
              "\n",
              "    .dataframe tbody tr th {\n",
              "        vertical-align: top;\n",
              "    }\n",
              "\n",
              "    .dataframe thead th {\n",
              "        text-align: right;\n",
              "    }\n",
              "</style>\n",
              "<table border=\"1\" class=\"dataframe\">\n",
              "  <thead>\n",
              "    <tr style=\"text-align: right;\">\n",
              "      <th></th>\n",
              "      <th>PassengerId</th>\n",
              "      <th>Survived</th>\n",
              "      <th>Pclass</th>\n",
              "      <th>Name</th>\n",
              "      <th>Sex</th>\n",
              "      <th>Age</th>\n",
              "      <th>SibSp</th>\n",
              "      <th>Parch</th>\n",
              "      <th>Ticket</th>\n",
              "      <th>Fare</th>\n",
              "      <th>Cabin</th>\n",
              "      <th>Embarked</th>\n",
              "      <th>Train</th>\n",
              "    </tr>\n",
              "  </thead>\n",
              "  <tbody>\n",
              "    <tr>\n",
              "      <th>289</th>\n",
              "      <td>290</td>\n",
              "      <td>1</td>\n",
              "      <td>3</td>\n",
              "      <td>Connolly, Miss. Kate</td>\n",
              "      <td>female</td>\n",
              "      <td>22.0</td>\n",
              "      <td>0</td>\n",
              "      <td>0</td>\n",
              "      <td>370373</td>\n",
              "      <td>7.7500</td>\n",
              "      <td>NaN</td>\n",
              "      <td>Q</td>\n",
              "      <td>1</td>\n",
              "    </tr>\n",
              "    <tr>\n",
              "      <th>6</th>\n",
              "      <td>898</td>\n",
              "      <td>0</td>\n",
              "      <td>3</td>\n",
              "      <td>Connolly, Miss. Kate</td>\n",
              "      <td>female</td>\n",
              "      <td>30.0</td>\n",
              "      <td>0</td>\n",
              "      <td>0</td>\n",
              "      <td>330972</td>\n",
              "      <td>7.6292</td>\n",
              "      <td>NaN</td>\n",
              "      <td>Q</td>\n",
              "      <td>0</td>\n",
              "    </tr>\n",
              "  </tbody>\n",
              "</table>\n",
              "</div>"
            ],
            "text/plain": [
              "     PassengerId  Survived  Pclass  ... Cabin Embarked  Train\n",
              "289          290         1       3  ...   NaN        Q      1\n",
              "6            898         0       3  ...   NaN        Q      0\n",
              "\n",
              "[2 rows x 13 columns]"
            ]
          },
          "metadata": {
            "tags": []
          },
          "execution_count": 17
        }
      ]
    },
    {
      "cell_type": "markdown",
      "metadata": {
        "id": "gBRfFrMiCou9"
      },
      "source": [
        "There are two passengers called \"Connolly, Miss. Kate\". Confirm that these are not duplicate entries.\n",
        "\n",
        "The entries have different Ages and Ticket numbers. Both passengers board in Queenstown, Ireland. It seems reasonable that Kate Connolly was a common name. "
      ]
    },
    {
      "cell_type": "markdown",
      "metadata": {
        "id": "noPX8a_YI4Xh"
      },
      "source": [
        "Out of interest, was it common for women to be travelling on the titanic without immediate family?\n",
        "\n",
        "There were 122 women travelling without immediate family (approx 10% of all passengers). At least 25% of those were travelling first class and at least 50% first or second class. 75% survived. \n",
        "\n"
      ]
    },
    {
      "cell_type": "code",
      "metadata": {
        "colab": {
          "base_uri": "https://localhost:8080/",
          "height": 297
        },
        "id": "8M3SnszvDX1M",
        "outputId": "2bdb0887-1717-4d14-9279-3cafd0ade5d3"
      },
      "source": [
        "temp_df = all_data_df[(all_data_df[\"Sex\"] == \"female\") & (all_data_df[\"SibSp\"] == 0) & (all_data_df[\"Age\"] > 18) & (all_data_df[\"Parch\"] == 0)]\n",
        "temp_df.describe()"
      ],
      "execution_count": null,
      "outputs": [
        {
          "output_type": "execute_result",
          "data": {
            "text/html": [
              "<div>\n",
              "<style scoped>\n",
              "    .dataframe tbody tr th:only-of-type {\n",
              "        vertical-align: middle;\n",
              "    }\n",
              "\n",
              "    .dataframe tbody tr th {\n",
              "        vertical-align: top;\n",
              "    }\n",
              "\n",
              "    .dataframe thead th {\n",
              "        text-align: right;\n",
              "    }\n",
              "</style>\n",
              "<table border=\"1\" class=\"dataframe\">\n",
              "  <thead>\n",
              "    <tr style=\"text-align: right;\">\n",
              "      <th></th>\n",
              "      <th>PassengerId</th>\n",
              "      <th>Survived</th>\n",
              "      <th>Pclass</th>\n",
              "      <th>Age</th>\n",
              "      <th>SibSp</th>\n",
              "      <th>Parch</th>\n",
              "      <th>Fare</th>\n",
              "      <th>Train</th>\n",
              "    </tr>\n",
              "  </thead>\n",
              "  <tbody>\n",
              "    <tr>\n",
              "      <th>count</th>\n",
              "      <td>122.000000</td>\n",
              "      <td>122.000000</td>\n",
              "      <td>122.000000</td>\n",
              "      <td>122.000000</td>\n",
              "      <td>122.0</td>\n",
              "      <td>122.0</td>\n",
              "      <td>122.000000</td>\n",
              "      <td>122.000000</td>\n",
              "    </tr>\n",
              "    <tr>\n",
              "      <th>mean</th>\n",
              "      <td>625.352459</td>\n",
              "      <td>0.745902</td>\n",
              "      <td>2.032787</td>\n",
              "      <td>32.217213</td>\n",
              "      <td>0.0</td>\n",
              "      <td>0.0</td>\n",
              "      <td>43.040336</td>\n",
              "      <td>0.696721</td>\n",
              "    </tr>\n",
              "    <tr>\n",
              "      <th>std</th>\n",
              "      <td>369.703476</td>\n",
              "      <td>0.437148</td>\n",
              "      <td>0.852167</td>\n",
              "      <td>10.872664</td>\n",
              "      <td>0.0</td>\n",
              "      <td>0.0</td>\n",
              "      <td>68.391527</td>\n",
              "      <td>0.461570</td>\n",
              "    </tr>\n",
              "    <tr>\n",
              "      <th>min</th>\n",
              "      <td>3.000000</td>\n",
              "      <td>0.000000</td>\n",
              "      <td>1.000000</td>\n",
              "      <td>18.500000</td>\n",
              "      <td>0.0</td>\n",
              "      <td>0.0</td>\n",
              "      <td>6.950000</td>\n",
              "      <td>0.000000</td>\n",
              "    </tr>\n",
              "    <tr>\n",
              "      <th>25%</th>\n",
              "      <td>312.250000</td>\n",
              "      <td>0.250000</td>\n",
              "      <td>1.000000</td>\n",
              "      <td>23.250000</td>\n",
              "      <td>0.0</td>\n",
              "      <td>0.0</td>\n",
              "      <td>7.925000</td>\n",
              "      <td>0.000000</td>\n",
              "    </tr>\n",
              "    <tr>\n",
              "      <th>50%</th>\n",
              "      <td>593.500000</td>\n",
              "      <td>1.000000</td>\n",
              "      <td>2.000000</td>\n",
              "      <td>30.000000</td>\n",
              "      <td>0.0</td>\n",
              "      <td>0.0</td>\n",
              "      <td>13.000000</td>\n",
              "      <td>1.000000</td>\n",
              "    </tr>\n",
              "    <tr>\n",
              "      <th>75%</th>\n",
              "      <td>960.250000</td>\n",
              "      <td>1.000000</td>\n",
              "      <td>3.000000</td>\n",
              "      <td>37.750000</td>\n",
              "      <td>0.0</td>\n",
              "      <td>0.0</td>\n",
              "      <td>38.953125</td>\n",
              "      <td>1.000000</td>\n",
              "    </tr>\n",
              "    <tr>\n",
              "      <th>max</th>\n",
              "      <td>1306.000000</td>\n",
              "      <td>1.000000</td>\n",
              "      <td>3.000000</td>\n",
              "      <td>63.000000</td>\n",
              "      <td>0.0</td>\n",
              "      <td>0.0</td>\n",
              "      <td>512.329200</td>\n",
              "      <td>1.000000</td>\n",
              "    </tr>\n",
              "  </tbody>\n",
              "</table>\n",
              "</div>"
            ],
            "text/plain": [
              "       PassengerId    Survived      Pclass  ...  Parch        Fare       Train\n",
              "count   122.000000  122.000000  122.000000  ...  122.0  122.000000  122.000000\n",
              "mean    625.352459    0.745902    2.032787  ...    0.0   43.040336    0.696721\n",
              "std     369.703476    0.437148    0.852167  ...    0.0   68.391527    0.461570\n",
              "min       3.000000    0.000000    1.000000  ...    0.0    6.950000    0.000000\n",
              "25%     312.250000    0.250000    1.000000  ...    0.0    7.925000    0.000000\n",
              "50%     593.500000    1.000000    2.000000  ...    0.0   13.000000    1.000000\n",
              "75%     960.250000    1.000000    3.000000  ...    0.0   38.953125    1.000000\n",
              "max    1306.000000    1.000000    3.000000  ...    0.0  512.329200    1.000000\n",
              "\n",
              "[8 rows x 8 columns]"
            ]
          },
          "metadata": {
            "tags": []
          },
          "execution_count": 18
        }
      ]
    },
    {
      "cell_type": "markdown",
      "metadata": {
        "id": "Bw_MGyOSLM5l"
      },
      "source": [
        "## Family Groups\n",
        "### Anna Ward\n",
        "I am interested in the female travelling alone with a ticket costing £512. This is the most expensive ticket in the data set. \n",
        "\n",
        "An Internet search on \"Anna Ward\" shows that she was actually the personal maid to wealthy widow Charlotte Drake Cardeza. A group of four passengers all travelled on the same ticket, \"PC 17755\". Anna, Charlotte, Thomas (Charlotte's son) and Gustave Lesurer (Thomas' manservant). \n",
        "\n",
        "It is not clear from the data whether the Fare was paid per passenger or for the entire group. It looks like Charlotte and Thomas had a suite of cabins (B51, B53 and B55), Gustave had cabin B101 but it is not clear which cabin Charlotte used. \n",
        "\n",
        "This highlights some challenges with data. The Fare associated with Anna is skewing the average fares paid by women travelling alone (is it even true to say that Anna was travelling alone). Yet this fare is more reasonably associated with her employer. Whilest Anna was likely travelling in or physically close to the first class cabins (all four members of the party escaped on lifeboat number 3 and survived) she might not be reasonably classified with first class travellers based on other inputs. "
      ]
    },
    {
      "cell_type": "code",
      "metadata": {
        "colab": {
          "base_uri": "https://localhost:8080/",
          "height": 275
        },
        "id": "WC3iEq2cJMLn",
        "outputId": "d5fdbfca-9845-46b2-b976-0d91e97c4f5a"
      },
      "source": [
        "all_data_df[all_data_df[\"Ticket\"] == \"PC 17755\"]"
      ],
      "execution_count": null,
      "outputs": [
        {
          "output_type": "execute_result",
          "data": {
            "text/html": [
              "<div>\n",
              "<style scoped>\n",
              "    .dataframe tbody tr th:only-of-type {\n",
              "        vertical-align: middle;\n",
              "    }\n",
              "\n",
              "    .dataframe tbody tr th {\n",
              "        vertical-align: top;\n",
              "    }\n",
              "\n",
              "    .dataframe thead th {\n",
              "        text-align: right;\n",
              "    }\n",
              "</style>\n",
              "<table border=\"1\" class=\"dataframe\">\n",
              "  <thead>\n",
              "    <tr style=\"text-align: right;\">\n",
              "      <th></th>\n",
              "      <th>PassengerId</th>\n",
              "      <th>Survived</th>\n",
              "      <th>Pclass</th>\n",
              "      <th>Name</th>\n",
              "      <th>Sex</th>\n",
              "      <th>Age</th>\n",
              "      <th>SibSp</th>\n",
              "      <th>Parch</th>\n",
              "      <th>Ticket</th>\n",
              "      <th>Fare</th>\n",
              "      <th>Cabin</th>\n",
              "      <th>Embarked</th>\n",
              "      <th>Train</th>\n",
              "    </tr>\n",
              "  </thead>\n",
              "  <tbody>\n",
              "    <tr>\n",
              "      <th>258</th>\n",
              "      <td>259</td>\n",
              "      <td>1</td>\n",
              "      <td>1</td>\n",
              "      <td>Ward, Miss. Anna</td>\n",
              "      <td>female</td>\n",
              "      <td>35.0</td>\n",
              "      <td>0</td>\n",
              "      <td>0</td>\n",
              "      <td>PC 17755</td>\n",
              "      <td>512.3292</td>\n",
              "      <td>NaN</td>\n",
              "      <td>C</td>\n",
              "      <td>1</td>\n",
              "    </tr>\n",
              "    <tr>\n",
              "      <th>679</th>\n",
              "      <td>680</td>\n",
              "      <td>1</td>\n",
              "      <td>1</td>\n",
              "      <td>Cardeza, Mr. Thomas Drake Martinez</td>\n",
              "      <td>male</td>\n",
              "      <td>36.0</td>\n",
              "      <td>0</td>\n",
              "      <td>1</td>\n",
              "      <td>PC 17755</td>\n",
              "      <td>512.3292</td>\n",
              "      <td>B51 B53 B55</td>\n",
              "      <td>C</td>\n",
              "      <td>1</td>\n",
              "    </tr>\n",
              "    <tr>\n",
              "      <th>737</th>\n",
              "      <td>738</td>\n",
              "      <td>1</td>\n",
              "      <td>1</td>\n",
              "      <td>Lesurer, Mr. Gustave J</td>\n",
              "      <td>male</td>\n",
              "      <td>35.0</td>\n",
              "      <td>0</td>\n",
              "      <td>0</td>\n",
              "      <td>PC 17755</td>\n",
              "      <td>512.3292</td>\n",
              "      <td>B101</td>\n",
              "      <td>C</td>\n",
              "      <td>1</td>\n",
              "    </tr>\n",
              "    <tr>\n",
              "      <th>307</th>\n",
              "      <td>1235</td>\n",
              "      <td>1</td>\n",
              "      <td>1</td>\n",
              "      <td>Cardeza, Mrs. James Warburton Martinez (Charlo...</td>\n",
              "      <td>female</td>\n",
              "      <td>58.0</td>\n",
              "      <td>0</td>\n",
              "      <td>1</td>\n",
              "      <td>PC 17755</td>\n",
              "      <td>512.3292</td>\n",
              "      <td>B51 B53 B55</td>\n",
              "      <td>C</td>\n",
              "      <td>0</td>\n",
              "    </tr>\n",
              "  </tbody>\n",
              "</table>\n",
              "</div>"
            ],
            "text/plain": [
              "     PassengerId  Survived  Pclass  ...        Cabin Embarked  Train\n",
              "258          259         1       1  ...          NaN        C      1\n",
              "679          680         1       1  ...  B51 B53 B55        C      1\n",
              "737          738         1       1  ...         B101        C      1\n",
              "307         1235         1       1  ...  B51 B53 B55        C      0\n",
              "\n",
              "[4 rows x 13 columns]"
            ]
          },
          "metadata": {
            "tags": []
          },
          "execution_count": 19
        }
      ]
    },
    {
      "cell_type": "markdown",
      "metadata": {
        "id": "5-yLdmQ8TFbc"
      },
      "source": [
        "### Contrasting Travelling Parties\n",
        "Exploring further the nature of cabin sharing shows contrasting travel arrangements. The cabins shared by the most occupants are G6 and \"C23 C25 C27\", which each have five occupants. \n"
      ]
    },
    {
      "cell_type": "code",
      "metadata": {
        "colab": {
          "base_uri": "https://localhost:8080/"
        },
        "id": "uVFfFBMNQh_x",
        "outputId": "2d1d91fe-59ce-40c9-e1e2-2b5284cfee76"
      },
      "source": [
        "all_data_df.Cabin.value_counts()\n"
      ],
      "execution_count": null,
      "outputs": [
        {
          "output_type": "execute_result",
          "data": {
            "text/plain": [
              "C23 C25 C27    5\n",
              "G6             5\n",
              "B96 B98        4\n",
              "D              4\n",
              "C78            4\n",
              "              ..\n",
              "C130           1\n",
              "C7             1\n",
              "B11            1\n",
              "B79            1\n",
              "D50            1\n",
              "Name: Cabin, Length: 178, dtype: int64"
            ]
          },
          "metadata": {
            "tags": []
          },
          "execution_count": 20
        }
      ]
    },
    {
      "cell_type": "markdown",
      "metadata": {
        "id": "ozB6V88UkjO6"
      },
      "source": [
        "Cabin G6 was in third class. It accomodated two married women travellingn with their infant children: Mrs Elna Strom (29) with daughter Telma (2) and Mrs Agnes Sandstrom (24) with daughters Marguerite (4) and Beatrice (1). They paid £10 and £16 on different ticket numbers. They are each travelling with a sibling or spouce but their daughters are only travelling with one parent. Could Elna and Agnes be sisters or sister in law (their sirnames are similar)? \n",
        "\n",
        "Agnes and her daughters survived, but Elna and her daughter did not. \n",
        "\n",
        "Cabins C23 C25 C27 were adjecent cabins in first class. They accomodated Mr Mark Fortune (62) and his three adult daughters (28, 24 and 23) and adult son (19). They paid £263 for their cabins. The children are only travelling with one parent but Mark is travelling with either a spouce or sibling (although nobody else is sharing their suite or ticket number). \n",
        "\n",
        "The three women survived but Mark and his son did not. "
      ]
    },
    {
      "cell_type": "code",
      "metadata": {
        "colab": {
          "base_uri": "https://localhost:8080/",
          "height": 272
        },
        "id": "a8szZnh0Q8RM",
        "outputId": "fb90ed04-233a-4d63-af71-782548ec138d"
      },
      "source": [
        "# who was in cabin G6\n",
        "all_data_df[all_data_df[\"Cabin\"] == \"G6\"]\n"
      ],
      "execution_count": null,
      "outputs": [
        {
          "output_type": "execute_result",
          "data": {
            "text/html": [
              "<div>\n",
              "<style scoped>\n",
              "    .dataframe tbody tr th:only-of-type {\n",
              "        vertical-align: middle;\n",
              "    }\n",
              "\n",
              "    .dataframe tbody tr th {\n",
              "        vertical-align: top;\n",
              "    }\n",
              "\n",
              "    .dataframe thead th {\n",
              "        text-align: right;\n",
              "    }\n",
              "</style>\n",
              "<table border=\"1\" class=\"dataframe\">\n",
              "  <thead>\n",
              "    <tr style=\"text-align: right;\">\n",
              "      <th></th>\n",
              "      <th>PassengerId</th>\n",
              "      <th>Survived</th>\n",
              "      <th>Pclass</th>\n",
              "      <th>Name</th>\n",
              "      <th>Sex</th>\n",
              "      <th>Age</th>\n",
              "      <th>SibSp</th>\n",
              "      <th>Parch</th>\n",
              "      <th>Ticket</th>\n",
              "      <th>Fare</th>\n",
              "      <th>Cabin</th>\n",
              "      <th>Embarked</th>\n",
              "      <th>Train</th>\n",
              "    </tr>\n",
              "  </thead>\n",
              "  <tbody>\n",
              "    <tr>\n",
              "      <th>10</th>\n",
              "      <td>11</td>\n",
              "      <td>1</td>\n",
              "      <td>3</td>\n",
              "      <td>Sandstrom, Miss. Marguerite Rut</td>\n",
              "      <td>female</td>\n",
              "      <td>4.0</td>\n",
              "      <td>1</td>\n",
              "      <td>1</td>\n",
              "      <td>PP 9549</td>\n",
              "      <td>16.7000</td>\n",
              "      <td>G6</td>\n",
              "      <td>S</td>\n",
              "      <td>1</td>\n",
              "    </tr>\n",
              "    <tr>\n",
              "      <th>205</th>\n",
              "      <td>206</td>\n",
              "      <td>0</td>\n",
              "      <td>3</td>\n",
              "      <td>Strom, Miss. Telma Matilda</td>\n",
              "      <td>female</td>\n",
              "      <td>2.0</td>\n",
              "      <td>0</td>\n",
              "      <td>1</td>\n",
              "      <td>347054</td>\n",
              "      <td>10.4625</td>\n",
              "      <td>G6</td>\n",
              "      <td>S</td>\n",
              "      <td>1</td>\n",
              "    </tr>\n",
              "    <tr>\n",
              "      <th>251</th>\n",
              "      <td>252</td>\n",
              "      <td>0</td>\n",
              "      <td>3</td>\n",
              "      <td>Strom, Mrs. Wilhelm (Elna Matilda Persson)</td>\n",
              "      <td>female</td>\n",
              "      <td>29.0</td>\n",
              "      <td>1</td>\n",
              "      <td>1</td>\n",
              "      <td>347054</td>\n",
              "      <td>10.4625</td>\n",
              "      <td>G6</td>\n",
              "      <td>S</td>\n",
              "      <td>1</td>\n",
              "    </tr>\n",
              "    <tr>\n",
              "      <th>394</th>\n",
              "      <td>395</td>\n",
              "      <td>1</td>\n",
              "      <td>3</td>\n",
              "      <td>Sandstrom, Mrs. Hjalmar (Agnes Charlotta Bengt...</td>\n",
              "      <td>female</td>\n",
              "      <td>24.0</td>\n",
              "      <td>0</td>\n",
              "      <td>2</td>\n",
              "      <td>PP 9549</td>\n",
              "      <td>16.7000</td>\n",
              "      <td>G6</td>\n",
              "      <td>S</td>\n",
              "      <td>1</td>\n",
              "    </tr>\n",
              "    <tr>\n",
              "      <th>112</th>\n",
              "      <td>1009</td>\n",
              "      <td>1</td>\n",
              "      <td>3</td>\n",
              "      <td>Sandstrom, Miss. Beatrice Irene</td>\n",
              "      <td>female</td>\n",
              "      <td>1.0</td>\n",
              "      <td>1</td>\n",
              "      <td>1</td>\n",
              "      <td>PP 9549</td>\n",
              "      <td>16.7000</td>\n",
              "      <td>G6</td>\n",
              "      <td>S</td>\n",
              "      <td>0</td>\n",
              "    </tr>\n",
              "  </tbody>\n",
              "</table>\n",
              "</div>"
            ],
            "text/plain": [
              "     PassengerId  Survived  Pclass  ... Cabin Embarked  Train\n",
              "10            11         1       3  ...    G6        S      1\n",
              "205          206         0       3  ...    G6        S      1\n",
              "251          252         0       3  ...    G6        S      1\n",
              "394          395         1       3  ...    G6        S      1\n",
              "112         1009         1       3  ...    G6        S      0\n",
              "\n",
              "[5 rows x 13 columns]"
            ]
          },
          "metadata": {
            "tags": []
          },
          "execution_count": 21
        }
      ]
    },
    {
      "cell_type": "code",
      "metadata": {
        "colab": {
          "base_uri": "https://localhost:8080/",
          "height": 289
        },
        "id": "aQ6gZT7-TrQe",
        "outputId": "c1887c77-c457-44b1-b625-2bce8ce92f8b"
      },
      "source": [
        "# Who was in cabins C23, C25 and C27\n",
        "all_data_df[all_data_df[\"Cabin\"] == \"C23 C25 C27\"]"
      ],
      "execution_count": null,
      "outputs": [
        {
          "output_type": "execute_result",
          "data": {
            "text/html": [
              "<div>\n",
              "<style scoped>\n",
              "    .dataframe tbody tr th:only-of-type {\n",
              "        vertical-align: middle;\n",
              "    }\n",
              "\n",
              "    .dataframe tbody tr th {\n",
              "        vertical-align: top;\n",
              "    }\n",
              "\n",
              "    .dataframe thead th {\n",
              "        text-align: right;\n",
              "    }\n",
              "</style>\n",
              "<table border=\"1\" class=\"dataframe\">\n",
              "  <thead>\n",
              "    <tr style=\"text-align: right;\">\n",
              "      <th></th>\n",
              "      <th>PassengerId</th>\n",
              "      <th>Survived</th>\n",
              "      <th>Pclass</th>\n",
              "      <th>Name</th>\n",
              "      <th>Sex</th>\n",
              "      <th>Age</th>\n",
              "      <th>SibSp</th>\n",
              "      <th>Parch</th>\n",
              "      <th>Ticket</th>\n",
              "      <th>Fare</th>\n",
              "      <th>Cabin</th>\n",
              "      <th>Embarked</th>\n",
              "      <th>Train</th>\n",
              "    </tr>\n",
              "  </thead>\n",
              "  <tbody>\n",
              "    <tr>\n",
              "      <th>27</th>\n",
              "      <td>28</td>\n",
              "      <td>0</td>\n",
              "      <td>1</td>\n",
              "      <td>Fortune, Mr. Charles Alexander</td>\n",
              "      <td>male</td>\n",
              "      <td>19.0</td>\n",
              "      <td>3</td>\n",
              "      <td>2</td>\n",
              "      <td>19950</td>\n",
              "      <td>263.0</td>\n",
              "      <td>C23 C25 C27</td>\n",
              "      <td>S</td>\n",
              "      <td>1</td>\n",
              "    </tr>\n",
              "    <tr>\n",
              "      <th>88</th>\n",
              "      <td>89</td>\n",
              "      <td>1</td>\n",
              "      <td>1</td>\n",
              "      <td>Fortune, Miss. Mabel Helen</td>\n",
              "      <td>female</td>\n",
              "      <td>23.0</td>\n",
              "      <td>3</td>\n",
              "      <td>2</td>\n",
              "      <td>19950</td>\n",
              "      <td>263.0</td>\n",
              "      <td>C23 C25 C27</td>\n",
              "      <td>S</td>\n",
              "      <td>1</td>\n",
              "    </tr>\n",
              "    <tr>\n",
              "      <th>341</th>\n",
              "      <td>342</td>\n",
              "      <td>1</td>\n",
              "      <td>1</td>\n",
              "      <td>Fortune, Miss. Alice Elizabeth</td>\n",
              "      <td>female</td>\n",
              "      <td>24.0</td>\n",
              "      <td>3</td>\n",
              "      <td>2</td>\n",
              "      <td>19950</td>\n",
              "      <td>263.0</td>\n",
              "      <td>C23 C25 C27</td>\n",
              "      <td>S</td>\n",
              "      <td>1</td>\n",
              "    </tr>\n",
              "    <tr>\n",
              "      <th>438</th>\n",
              "      <td>439</td>\n",
              "      <td>0</td>\n",
              "      <td>1</td>\n",
              "      <td>Fortune, Mr. Mark</td>\n",
              "      <td>male</td>\n",
              "      <td>64.0</td>\n",
              "      <td>1</td>\n",
              "      <td>4</td>\n",
              "      <td>19950</td>\n",
              "      <td>263.0</td>\n",
              "      <td>C23 C25 C27</td>\n",
              "      <td>S</td>\n",
              "      <td>1</td>\n",
              "    </tr>\n",
              "    <tr>\n",
              "      <th>53</th>\n",
              "      <td>945</td>\n",
              "      <td>1</td>\n",
              "      <td>1</td>\n",
              "      <td>Fortune, Miss. Ethel Flora</td>\n",
              "      <td>female</td>\n",
              "      <td>28.0</td>\n",
              "      <td>3</td>\n",
              "      <td>2</td>\n",
              "      <td>19950</td>\n",
              "      <td>263.0</td>\n",
              "      <td>C23 C25 C27</td>\n",
              "      <td>S</td>\n",
              "      <td>0</td>\n",
              "    </tr>\n",
              "  </tbody>\n",
              "</table>\n",
              "</div>"
            ],
            "text/plain": [
              "     PassengerId  Survived  Pclass  ...        Cabin Embarked  Train\n",
              "27            28         0       1  ...  C23 C25 C27        S      1\n",
              "88            89         1       1  ...  C23 C25 C27        S      1\n",
              "341          342         1       1  ...  C23 C25 C27        S      1\n",
              "438          439         0       1  ...  C23 C25 C27        S      1\n",
              "53           945         1       1  ...  C23 C25 C27        S      0\n",
              "\n",
              "[5 rows x 13 columns]"
            ]
          },
          "metadata": {
            "tags": []
          },
          "execution_count": 22
        }
      ]
    },
    {
      "cell_type": "markdown",
      "metadata": {
        "id": "uuFpWGt5Wu8b"
      },
      "source": [
        "I have created a function to vizualize survivial by other features in the data.\n"
      ]
    },
    {
      "cell_type": "code",
      "metadata": {
        "id": "7fNjpxekXadh"
      },
      "source": [
        "# Function to vizualize survival related to other features\n",
        "def plot_deaths(df, cols, column_names, title):\n",
        "  pivot_df = pd.pivot_table(\n",
        "      df,\n",
        "      index = 'Survived',\n",
        "      columns = cols,\n",
        "      values = 'PassengerId',\n",
        "      aggfunc = 'count'\n",
        "  )\n",
        "  pivot_df.index = ['Died', 'Survived']\n",
        "  pivot_df.columns = column_names\n",
        "\n",
        "  fig = go.Figure()\n",
        "  for column in pivot_df.columns:\n",
        "    fig.add_trace(go.Bar(\n",
        "        x = pivot_df.index,\n",
        "        y = pivot_df[column],\n",
        "        name = column\n",
        "        ))\n",
        "  fig.update_layout(\n",
        "    barmode='relative',\n",
        "    title=title,\n",
        "    autosize=False,\n",
        "    width=500,\n",
        "    height=500,\n",
        "    legend=dict(\n",
        "      yanchor=\"bottom\",\n",
        "      y=0.8,\n",
        "      xanchor=\"right\",\n",
        "      x=0.98)\n",
        "    )\n",
        "  fig.show()\n",
        "\n",
        "  return pivot_df"
      ],
      "execution_count": null,
      "outputs": []
    },
    {
      "cell_type": "markdown",
      "metadata": {
        "id": "TJSZZBxjHNqJ"
      },
      "source": [
        "## Cabin Class\n",
        "Hypothesis: Passengers in first class were more likely to survive than passengers in third class. "
      ]
    },
    {
      "cell_type": "code",
      "metadata": {
        "colab": {
          "base_uri": "https://localhost:8080/",
          "height": 517
        },
        "id": "QPPn9NSccXOz",
        "outputId": "747a69b1-bce1-4dc6-9845-5096c233b7ee"
      },
      "source": [
        "# Plot deaths relative to cabin class\n",
        "df = plot_deaths(all_data_df, 'Pclass', ['First', 'Second', 'Third'], 'Deaths Relative to Cabin Class')"
      ],
      "execution_count": null,
      "outputs": [
        {
          "output_type": "display_data",
          "data": {
            "text/html": [
              "<html>\n",
              "<head><meta charset=\"utf-8\" /></head>\n",
              "<body>\n",
              "    <div>\n",
              "            <script src=\"https://cdnjs.cloudflare.com/ajax/libs/mathjax/2.7.5/MathJax.js?config=TeX-AMS-MML_SVG\"></script><script type=\"text/javascript\">if (window.MathJax) {MathJax.Hub.Config({SVG: {font: \"STIX-Web\"}});}</script>\n",
              "                <script type=\"text/javascript\">window.PlotlyConfig = {MathJaxConfig: 'local'};</script>\n",
              "        <script src=\"https://cdn.plot.ly/plotly-latest.min.js\"></script>    \n",
              "            <div id=\"f1f5f419-8035-46a3-bc6f-33366a97dfd9\" class=\"plotly-graph-div\" style=\"height:500px; width:500px;\"></div>\n",
              "            <script type=\"text/javascript\">\n",
              "                \n",
              "                    window.PLOTLYENV=window.PLOTLYENV || {};\n",
              "                    \n",
              "                if (document.getElementById(\"f1f5f419-8035-46a3-bc6f-33366a97dfd9\")) {\n",
              "                    Plotly.newPlot(\n",
              "                        'f1f5f419-8035-46a3-bc6f-33366a97dfd9',\n",
              "                        [{\"name\": \"First\", \"type\": \"bar\", \"x\": [\"Died\", \"Survived\"], \"y\": [120, 179]}, {\"name\": \"Second\", \"type\": \"bar\", \"x\": [\"Died\", \"Survived\"], \"y\": [151, 113]}, {\"name\": \"Third\", \"type\": \"bar\", \"x\": [\"Died\", \"Survived\"], \"y\": [516, 175]}],\n",
              "                        {\"autosize\": false, \"barmode\": \"relative\", \"height\": 500, \"legend\": {\"x\": 0.98, \"xanchor\": \"right\", \"y\": 0.8, \"yanchor\": \"bottom\"}, \"template\": {\"data\": {\"bar\": [{\"error_x\": {\"color\": \"#2a3f5f\"}, \"error_y\": {\"color\": \"#2a3f5f\"}, \"marker\": {\"line\": {\"color\": \"#E5ECF6\", \"width\": 0.5}}, \"type\": \"bar\"}], \"barpolar\": [{\"marker\": {\"line\": {\"color\": \"#E5ECF6\", \"width\": 0.5}}, \"type\": \"barpolar\"}], \"carpet\": [{\"aaxis\": {\"endlinecolor\": \"#2a3f5f\", \"gridcolor\": \"white\", \"linecolor\": \"white\", \"minorgridcolor\": \"white\", \"startlinecolor\": \"#2a3f5f\"}, \"baxis\": {\"endlinecolor\": \"#2a3f5f\", \"gridcolor\": \"white\", \"linecolor\": \"white\", \"minorgridcolor\": \"white\", \"startlinecolor\": \"#2a3f5f\"}, \"type\": \"carpet\"}], \"choropleth\": [{\"colorbar\": {\"outlinewidth\": 0, \"ticks\": \"\"}, \"type\": \"choropleth\"}], \"contour\": [{\"colorbar\": {\"outlinewidth\": 0, \"ticks\": \"\"}, \"colorscale\": [[0.0, \"#0d0887\"], [0.1111111111111111, \"#46039f\"], [0.2222222222222222, \"#7201a8\"], [0.3333333333333333, \"#9c179e\"], [0.4444444444444444, \"#bd3786\"], [0.5555555555555556, \"#d8576b\"], [0.6666666666666666, \"#ed7953\"], [0.7777777777777778, \"#fb9f3a\"], [0.8888888888888888, \"#fdca26\"], [1.0, \"#f0f921\"]], \"type\": \"contour\"}], \"contourcarpet\": [{\"colorbar\": {\"outlinewidth\": 0, \"ticks\": \"\"}, \"type\": \"contourcarpet\"}], \"heatmap\": [{\"colorbar\": {\"outlinewidth\": 0, \"ticks\": \"\"}, \"colorscale\": [[0.0, \"#0d0887\"], [0.1111111111111111, \"#46039f\"], [0.2222222222222222, \"#7201a8\"], [0.3333333333333333, \"#9c179e\"], [0.4444444444444444, \"#bd3786\"], [0.5555555555555556, \"#d8576b\"], [0.6666666666666666, \"#ed7953\"], [0.7777777777777778, \"#fb9f3a\"], [0.8888888888888888, \"#fdca26\"], [1.0, \"#f0f921\"]], \"type\": \"heatmap\"}], \"heatmapgl\": [{\"colorbar\": {\"outlinewidth\": 0, \"ticks\": \"\"}, \"colorscale\": [[0.0, \"#0d0887\"], [0.1111111111111111, \"#46039f\"], [0.2222222222222222, \"#7201a8\"], [0.3333333333333333, \"#9c179e\"], [0.4444444444444444, \"#bd3786\"], [0.5555555555555556, \"#d8576b\"], [0.6666666666666666, \"#ed7953\"], [0.7777777777777778, \"#fb9f3a\"], [0.8888888888888888, \"#fdca26\"], [1.0, \"#f0f921\"]], \"type\": \"heatmapgl\"}], \"histogram\": [{\"marker\": {\"colorbar\": {\"outlinewidth\": 0, \"ticks\": \"\"}}, \"type\": \"histogram\"}], \"histogram2d\": [{\"colorbar\": {\"outlinewidth\": 0, \"ticks\": \"\"}, \"colorscale\": [[0.0, \"#0d0887\"], [0.1111111111111111, \"#46039f\"], [0.2222222222222222, \"#7201a8\"], [0.3333333333333333, \"#9c179e\"], [0.4444444444444444, \"#bd3786\"], [0.5555555555555556, \"#d8576b\"], [0.6666666666666666, \"#ed7953\"], [0.7777777777777778, \"#fb9f3a\"], [0.8888888888888888, \"#fdca26\"], [1.0, \"#f0f921\"]], \"type\": \"histogram2d\"}], \"histogram2dcontour\": [{\"colorbar\": {\"outlinewidth\": 0, \"ticks\": \"\"}, \"colorscale\": [[0.0, \"#0d0887\"], [0.1111111111111111, \"#46039f\"], [0.2222222222222222, \"#7201a8\"], [0.3333333333333333, \"#9c179e\"], [0.4444444444444444, \"#bd3786\"], [0.5555555555555556, \"#d8576b\"], [0.6666666666666666, \"#ed7953\"], [0.7777777777777778, \"#fb9f3a\"], [0.8888888888888888, \"#fdca26\"], [1.0, \"#f0f921\"]], \"type\": \"histogram2dcontour\"}], \"mesh3d\": [{\"colorbar\": {\"outlinewidth\": 0, \"ticks\": \"\"}, \"type\": \"mesh3d\"}], \"parcoords\": [{\"line\": {\"colorbar\": {\"outlinewidth\": 0, \"ticks\": \"\"}}, \"type\": \"parcoords\"}], \"pie\": [{\"automargin\": true, \"type\": \"pie\"}], \"scatter\": [{\"marker\": {\"colorbar\": {\"outlinewidth\": 0, \"ticks\": \"\"}}, \"type\": \"scatter\"}], \"scatter3d\": [{\"line\": {\"colorbar\": {\"outlinewidth\": 0, \"ticks\": \"\"}}, \"marker\": {\"colorbar\": {\"outlinewidth\": 0, \"ticks\": \"\"}}, \"type\": \"scatter3d\"}], \"scattercarpet\": [{\"marker\": {\"colorbar\": {\"outlinewidth\": 0, \"ticks\": \"\"}}, \"type\": \"scattercarpet\"}], \"scattergeo\": [{\"marker\": {\"colorbar\": {\"outlinewidth\": 0, \"ticks\": \"\"}}, \"type\": \"scattergeo\"}], \"scattergl\": [{\"marker\": {\"colorbar\": {\"outlinewidth\": 0, \"ticks\": \"\"}}, \"type\": \"scattergl\"}], \"scattermapbox\": [{\"marker\": {\"colorbar\": {\"outlinewidth\": 0, \"ticks\": \"\"}}, \"type\": \"scattermapbox\"}], \"scatterpolar\": [{\"marker\": {\"colorbar\": {\"outlinewidth\": 0, \"ticks\": \"\"}}, \"type\": \"scatterpolar\"}], \"scatterpolargl\": [{\"marker\": {\"colorbar\": {\"outlinewidth\": 0, \"ticks\": \"\"}}, \"type\": \"scatterpolargl\"}], \"scatterternary\": [{\"marker\": {\"colorbar\": {\"outlinewidth\": 0, \"ticks\": \"\"}}, \"type\": \"scatterternary\"}], \"surface\": [{\"colorbar\": {\"outlinewidth\": 0, \"ticks\": \"\"}, \"colorscale\": [[0.0, \"#0d0887\"], [0.1111111111111111, \"#46039f\"], [0.2222222222222222, \"#7201a8\"], [0.3333333333333333, \"#9c179e\"], [0.4444444444444444, \"#bd3786\"], [0.5555555555555556, \"#d8576b\"], [0.6666666666666666, \"#ed7953\"], [0.7777777777777778, \"#fb9f3a\"], [0.8888888888888888, \"#fdca26\"], [1.0, \"#f0f921\"]], \"type\": \"surface\"}], \"table\": [{\"cells\": {\"fill\": {\"color\": \"#EBF0F8\"}, \"line\": {\"color\": \"white\"}}, \"header\": {\"fill\": {\"color\": \"#C8D4E3\"}, \"line\": {\"color\": \"white\"}}, \"type\": \"table\"}]}, \"layout\": {\"annotationdefaults\": {\"arrowcolor\": \"#2a3f5f\", \"arrowhead\": 0, \"arrowwidth\": 1}, \"coloraxis\": {\"colorbar\": {\"outlinewidth\": 0, \"ticks\": \"\"}}, \"colorscale\": {\"diverging\": [[0, \"#8e0152\"], [0.1, \"#c51b7d\"], [0.2, \"#de77ae\"], [0.3, \"#f1b6da\"], [0.4, \"#fde0ef\"], [0.5, \"#f7f7f7\"], [0.6, \"#e6f5d0\"], [0.7, \"#b8e186\"], [0.8, \"#7fbc41\"], [0.9, \"#4d9221\"], [1, \"#276419\"]], \"sequential\": [[0.0, \"#0d0887\"], [0.1111111111111111, \"#46039f\"], [0.2222222222222222, \"#7201a8\"], [0.3333333333333333, \"#9c179e\"], [0.4444444444444444, \"#bd3786\"], [0.5555555555555556, \"#d8576b\"], [0.6666666666666666, \"#ed7953\"], [0.7777777777777778, \"#fb9f3a\"], [0.8888888888888888, \"#fdca26\"], [1.0, \"#f0f921\"]], \"sequentialminus\": [[0.0, \"#0d0887\"], [0.1111111111111111, \"#46039f\"], [0.2222222222222222, \"#7201a8\"], [0.3333333333333333, \"#9c179e\"], [0.4444444444444444, \"#bd3786\"], [0.5555555555555556, \"#d8576b\"], [0.6666666666666666, \"#ed7953\"], [0.7777777777777778, \"#fb9f3a\"], [0.8888888888888888, \"#fdca26\"], [1.0, \"#f0f921\"]]}, \"colorway\": [\"#636efa\", \"#EF553B\", \"#00cc96\", \"#ab63fa\", \"#FFA15A\", \"#19d3f3\", \"#FF6692\", \"#B6E880\", \"#FF97FF\", \"#FECB52\"], \"font\": {\"color\": \"#2a3f5f\"}, \"geo\": {\"bgcolor\": \"white\", \"lakecolor\": \"white\", \"landcolor\": \"#E5ECF6\", \"showlakes\": true, \"showland\": true, \"subunitcolor\": \"white\"}, \"hoverlabel\": {\"align\": \"left\"}, \"hovermode\": \"closest\", \"mapbox\": {\"style\": \"light\"}, \"paper_bgcolor\": \"white\", \"plot_bgcolor\": \"#E5ECF6\", \"polar\": {\"angularaxis\": {\"gridcolor\": \"white\", \"linecolor\": \"white\", \"ticks\": \"\"}, \"bgcolor\": \"#E5ECF6\", \"radialaxis\": {\"gridcolor\": \"white\", \"linecolor\": \"white\", \"ticks\": \"\"}}, \"scene\": {\"xaxis\": {\"backgroundcolor\": \"#E5ECF6\", \"gridcolor\": \"white\", \"gridwidth\": 2, \"linecolor\": \"white\", \"showbackground\": true, \"ticks\": \"\", \"zerolinecolor\": \"white\"}, \"yaxis\": {\"backgroundcolor\": \"#E5ECF6\", \"gridcolor\": \"white\", \"gridwidth\": 2, \"linecolor\": \"white\", \"showbackground\": true, \"ticks\": \"\", \"zerolinecolor\": \"white\"}, \"zaxis\": {\"backgroundcolor\": \"#E5ECF6\", \"gridcolor\": \"white\", \"gridwidth\": 2, \"linecolor\": \"white\", \"showbackground\": true, \"ticks\": \"\", \"zerolinecolor\": \"white\"}}, \"shapedefaults\": {\"line\": {\"color\": \"#2a3f5f\"}}, \"ternary\": {\"aaxis\": {\"gridcolor\": \"white\", \"linecolor\": \"white\", \"ticks\": \"\"}, \"baxis\": {\"gridcolor\": \"white\", \"linecolor\": \"white\", \"ticks\": \"\"}, \"bgcolor\": \"#E5ECF6\", \"caxis\": {\"gridcolor\": \"white\", \"linecolor\": \"white\", \"ticks\": \"\"}}, \"title\": {\"x\": 0.05}, \"xaxis\": {\"automargin\": true, \"gridcolor\": \"white\", \"linecolor\": \"white\", \"ticks\": \"\", \"title\": {\"standoff\": 15}, \"zerolinecolor\": \"white\", \"zerolinewidth\": 2}, \"yaxis\": {\"automargin\": true, \"gridcolor\": \"white\", \"linecolor\": \"white\", \"ticks\": \"\", \"title\": {\"standoff\": 15}, \"zerolinecolor\": \"white\", \"zerolinewidth\": 2}}}, \"title\": {\"text\": \"Deaths Relative to Cabin Class\"}, \"width\": 500},\n",
              "                        {\"responsive\": true}\n",
              "                    ).then(function(){\n",
              "                            \n",
              "var gd = document.getElementById('f1f5f419-8035-46a3-bc6f-33366a97dfd9');\n",
              "var x = new MutationObserver(function (mutations, observer) {{\n",
              "        var display = window.getComputedStyle(gd).display;\n",
              "        if (!display || display === 'none') {{\n",
              "            console.log([gd, 'removed!']);\n",
              "            Plotly.purge(gd);\n",
              "            observer.disconnect();\n",
              "        }}\n",
              "}});\n",
              "\n",
              "// Listen for the removal of the full notebook cells\n",
              "var notebookContainer = gd.closest('#notebook-container');\n",
              "if (notebookContainer) {{\n",
              "    x.observe(notebookContainer, {childList: true});\n",
              "}}\n",
              "\n",
              "// Listen for the clearing of the current output cell\n",
              "var outputEl = gd.closest('.output');\n",
              "if (outputEl) {{\n",
              "    x.observe(outputEl, {childList: true});\n",
              "}}\n",
              "\n",
              "                        })\n",
              "                };\n",
              "                \n",
              "            </script>\n",
              "        </div>\n",
              "</body>\n",
              "</html>"
            ]
          },
          "metadata": {
            "tags": []
          }
        }
      ]
    },
    {
      "cell_type": "code",
      "metadata": {
        "colab": {
          "base_uri": "https://localhost:8080/",
          "height": 173
        },
        "id": "Wgi17hIaAimG",
        "outputId": "40377baa-695e-4747-95ac-ec0525f68f2a"
      },
      "source": [
        "# Pivot the data in Pclass \n",
        "pd.pivot_table(all_data_df, index='Pclass')"
      ],
      "execution_count": null,
      "outputs": [
        {
          "output_type": "execute_result",
          "data": {
            "text/html": [
              "<div>\n",
              "<style scoped>\n",
              "    .dataframe tbody tr th:only-of-type {\n",
              "        vertical-align: middle;\n",
              "    }\n",
              "\n",
              "    .dataframe tbody tr th {\n",
              "        vertical-align: top;\n",
              "    }\n",
              "\n",
              "    .dataframe thead th {\n",
              "        text-align: right;\n",
              "    }\n",
              "</style>\n",
              "<table border=\"1\" class=\"dataframe\">\n",
              "  <thead>\n",
              "    <tr style=\"text-align: right;\">\n",
              "      <th></th>\n",
              "      <th>Age</th>\n",
              "      <th>Fare</th>\n",
              "      <th>Parch</th>\n",
              "      <th>PassengerId</th>\n",
              "      <th>SibSp</th>\n",
              "      <th>Survived</th>\n",
              "      <th>Train</th>\n",
              "    </tr>\n",
              "    <tr>\n",
              "      <th>Pclass</th>\n",
              "      <th></th>\n",
              "      <th></th>\n",
              "      <th></th>\n",
              "      <th></th>\n",
              "      <th></th>\n",
              "      <th></th>\n",
              "      <th></th>\n",
              "    </tr>\n",
              "  </thead>\n",
              "  <tbody>\n",
              "    <tr>\n",
              "      <th>1</th>\n",
              "      <td>39.257385</td>\n",
              "      <td>81.953289</td>\n",
              "      <td>0.337793</td>\n",
              "      <td>635.247492</td>\n",
              "      <td>0.418060</td>\n",
              "      <td>0.598662</td>\n",
              "      <td>0.722408</td>\n",
              "    </tr>\n",
              "    <tr>\n",
              "      <th>2</th>\n",
              "      <td>29.339718</td>\n",
              "      <td>20.378361</td>\n",
              "      <td>0.344697</td>\n",
              "      <td>645.428030</td>\n",
              "      <td>0.382576</td>\n",
              "      <td>0.428030</td>\n",
              "      <td>0.696970</td>\n",
              "    </tr>\n",
              "    <tr>\n",
              "      <th>3</th>\n",
              "      <td>25.082986</td>\n",
              "      <td>12.887004</td>\n",
              "      <td>0.354559</td>\n",
              "      <td>626.396527</td>\n",
              "      <td>0.534009</td>\n",
              "      <td>0.253256</td>\n",
              "      <td>0.710564</td>\n",
              "    </tr>\n",
              "  </tbody>\n",
              "</table>\n",
              "</div>"
            ],
            "text/plain": [
              "              Age       Fare     Parch  ...     SibSp  Survived     Train\n",
              "Pclass                                  ...                              \n",
              "1       39.257385  81.953289  0.337793  ...  0.418060  0.598662  0.722408\n",
              "2       29.339718  20.378361  0.344697  ...  0.382576  0.428030  0.696970\n",
              "3       25.082986  12.887004  0.354559  ...  0.534009  0.253256  0.710564\n",
              "\n",
              "[3 rows x 7 columns]"
            ]
          },
          "metadata": {
            "tags": []
          },
          "execution_count": 25
        }
      ]
    },
    {
      "cell_type": "markdown",
      "metadata": {
        "id": "3Mpikkpb33Df"
      },
      "source": [
        "Cabin class was a factor in survival chances. The highest proportion of survivors was in first class (60%), then in second class (43%) and third class had the smallest proportion (25%)."
      ]
    },
    {
      "cell_type": "markdown",
      "metadata": {
        "id": "Ja5QlBhUBfR4"
      },
      "source": [
        "## Women and Children First!\n",
        "I am interested in how gender and age relate to survival chances\n",
        "\n",
        "### Gender\n",
        "**Hypothesis: Women were more likely to survive.**\n",
        "\n",
        "I want to evaluate whether females were more likely to survive than males. "
      ]
    },
    {
      "cell_type": "code",
      "metadata": {
        "colab": {
          "base_uri": "https://localhost:8080/",
          "height": 517
        },
        "id": "XuG0F24LkQp3",
        "outputId": "0ee6b3fc-4bdd-48df-8f80-670f884fd117"
      },
      "source": [
        "# Plot deaths relative to gender\n",
        "df = plot_deaths(all_data_df, 'Sex', ['Female', 'Male'], 'Deaths Relative to Gender')"
      ],
      "execution_count": null,
      "outputs": [
        {
          "output_type": "display_data",
          "data": {
            "text/html": [
              "<html>\n",
              "<head><meta charset=\"utf-8\" /></head>\n",
              "<body>\n",
              "    <div>\n",
              "            <script src=\"https://cdnjs.cloudflare.com/ajax/libs/mathjax/2.7.5/MathJax.js?config=TeX-AMS-MML_SVG\"></script><script type=\"text/javascript\">if (window.MathJax) {MathJax.Hub.Config({SVG: {font: \"STIX-Web\"}});}</script>\n",
              "                <script type=\"text/javascript\">window.PlotlyConfig = {MathJaxConfig: 'local'};</script>\n",
              "        <script src=\"https://cdn.plot.ly/plotly-latest.min.js\"></script>    \n",
              "            <div id=\"47ff9907-4cd3-4078-a5a2-d136c99ae774\" class=\"plotly-graph-div\" style=\"height:500px; width:500px;\"></div>\n",
              "            <script type=\"text/javascript\">\n",
              "                \n",
              "                    window.PLOTLYENV=window.PLOTLYENV || {};\n",
              "                    \n",
              "                if (document.getElementById(\"47ff9907-4cd3-4078-a5a2-d136c99ae774\")) {\n",
              "                    Plotly.newPlot(\n",
              "                        '47ff9907-4cd3-4078-a5a2-d136c99ae774',\n",
              "                        [{\"name\": \"Female\", \"type\": \"bar\", \"x\": [\"Died\", \"Survived\"], \"y\": [130, 309]}, {\"name\": \"Male\", \"type\": \"bar\", \"x\": [\"Died\", \"Survived\"], \"y\": [657, 158]}],\n",
              "                        {\"autosize\": false, \"barmode\": \"relative\", \"height\": 500, \"legend\": {\"x\": 0.98, \"xanchor\": \"right\", \"y\": 0.8, \"yanchor\": \"bottom\"}, \"template\": {\"data\": {\"bar\": [{\"error_x\": {\"color\": \"#2a3f5f\"}, \"error_y\": {\"color\": \"#2a3f5f\"}, \"marker\": {\"line\": {\"color\": \"#E5ECF6\", \"width\": 0.5}}, \"type\": \"bar\"}], \"barpolar\": [{\"marker\": {\"line\": {\"color\": \"#E5ECF6\", \"width\": 0.5}}, \"type\": \"barpolar\"}], \"carpet\": [{\"aaxis\": {\"endlinecolor\": \"#2a3f5f\", \"gridcolor\": \"white\", \"linecolor\": \"white\", \"minorgridcolor\": \"white\", \"startlinecolor\": \"#2a3f5f\"}, \"baxis\": {\"endlinecolor\": \"#2a3f5f\", \"gridcolor\": \"white\", \"linecolor\": \"white\", \"minorgridcolor\": \"white\", \"startlinecolor\": \"#2a3f5f\"}, \"type\": \"carpet\"}], \"choropleth\": [{\"colorbar\": {\"outlinewidth\": 0, \"ticks\": \"\"}, \"type\": \"choropleth\"}], \"contour\": [{\"colorbar\": {\"outlinewidth\": 0, \"ticks\": \"\"}, \"colorscale\": [[0.0, \"#0d0887\"], [0.1111111111111111, \"#46039f\"], [0.2222222222222222, \"#7201a8\"], [0.3333333333333333, \"#9c179e\"], [0.4444444444444444, \"#bd3786\"], [0.5555555555555556, \"#d8576b\"], [0.6666666666666666, \"#ed7953\"], [0.7777777777777778, \"#fb9f3a\"], [0.8888888888888888, \"#fdca26\"], [1.0, \"#f0f921\"]], \"type\": \"contour\"}], \"contourcarpet\": [{\"colorbar\": {\"outlinewidth\": 0, \"ticks\": \"\"}, \"type\": \"contourcarpet\"}], \"heatmap\": [{\"colorbar\": {\"outlinewidth\": 0, \"ticks\": \"\"}, \"colorscale\": [[0.0, \"#0d0887\"], [0.1111111111111111, \"#46039f\"], [0.2222222222222222, \"#7201a8\"], [0.3333333333333333, \"#9c179e\"], [0.4444444444444444, \"#bd3786\"], [0.5555555555555556, \"#d8576b\"], [0.6666666666666666, \"#ed7953\"], [0.7777777777777778, \"#fb9f3a\"], [0.8888888888888888, \"#fdca26\"], [1.0, \"#f0f921\"]], \"type\": \"heatmap\"}], \"heatmapgl\": [{\"colorbar\": {\"outlinewidth\": 0, \"ticks\": \"\"}, \"colorscale\": [[0.0, \"#0d0887\"], [0.1111111111111111, \"#46039f\"], [0.2222222222222222, \"#7201a8\"], [0.3333333333333333, \"#9c179e\"], [0.4444444444444444, \"#bd3786\"], [0.5555555555555556, \"#d8576b\"], [0.6666666666666666, \"#ed7953\"], [0.7777777777777778, \"#fb9f3a\"], [0.8888888888888888, \"#fdca26\"], [1.0, \"#f0f921\"]], \"type\": \"heatmapgl\"}], \"histogram\": [{\"marker\": {\"colorbar\": {\"outlinewidth\": 0, \"ticks\": \"\"}}, \"type\": \"histogram\"}], \"histogram2d\": [{\"colorbar\": {\"outlinewidth\": 0, \"ticks\": \"\"}, \"colorscale\": [[0.0, \"#0d0887\"], [0.1111111111111111, \"#46039f\"], [0.2222222222222222, \"#7201a8\"], [0.3333333333333333, \"#9c179e\"], [0.4444444444444444, \"#bd3786\"], [0.5555555555555556, \"#d8576b\"], [0.6666666666666666, \"#ed7953\"], [0.7777777777777778, \"#fb9f3a\"], [0.8888888888888888, \"#fdca26\"], [1.0, \"#f0f921\"]], \"type\": \"histogram2d\"}], \"histogram2dcontour\": [{\"colorbar\": {\"outlinewidth\": 0, \"ticks\": \"\"}, \"colorscale\": [[0.0, \"#0d0887\"], [0.1111111111111111, \"#46039f\"], [0.2222222222222222, \"#7201a8\"], [0.3333333333333333, \"#9c179e\"], [0.4444444444444444, \"#bd3786\"], [0.5555555555555556, \"#d8576b\"], [0.6666666666666666, \"#ed7953\"], [0.7777777777777778, \"#fb9f3a\"], [0.8888888888888888, \"#fdca26\"], [1.0, \"#f0f921\"]], \"type\": \"histogram2dcontour\"}], \"mesh3d\": [{\"colorbar\": {\"outlinewidth\": 0, \"ticks\": \"\"}, \"type\": \"mesh3d\"}], \"parcoords\": [{\"line\": {\"colorbar\": {\"outlinewidth\": 0, \"ticks\": \"\"}}, \"type\": \"parcoords\"}], \"pie\": [{\"automargin\": true, \"type\": \"pie\"}], \"scatter\": [{\"marker\": {\"colorbar\": {\"outlinewidth\": 0, \"ticks\": \"\"}}, \"type\": \"scatter\"}], \"scatter3d\": [{\"line\": {\"colorbar\": {\"outlinewidth\": 0, \"ticks\": \"\"}}, \"marker\": {\"colorbar\": {\"outlinewidth\": 0, \"ticks\": \"\"}}, \"type\": \"scatter3d\"}], \"scattercarpet\": [{\"marker\": {\"colorbar\": {\"outlinewidth\": 0, \"ticks\": \"\"}}, \"type\": \"scattercarpet\"}], \"scattergeo\": [{\"marker\": {\"colorbar\": {\"outlinewidth\": 0, \"ticks\": \"\"}}, \"type\": \"scattergeo\"}], \"scattergl\": [{\"marker\": {\"colorbar\": {\"outlinewidth\": 0, \"ticks\": \"\"}}, \"type\": \"scattergl\"}], \"scattermapbox\": [{\"marker\": {\"colorbar\": {\"outlinewidth\": 0, \"ticks\": \"\"}}, \"type\": \"scattermapbox\"}], \"scatterpolar\": [{\"marker\": {\"colorbar\": {\"outlinewidth\": 0, \"ticks\": \"\"}}, \"type\": \"scatterpolar\"}], \"scatterpolargl\": [{\"marker\": {\"colorbar\": {\"outlinewidth\": 0, \"ticks\": \"\"}}, \"type\": \"scatterpolargl\"}], \"scatterternary\": [{\"marker\": {\"colorbar\": {\"outlinewidth\": 0, \"ticks\": \"\"}}, \"type\": \"scatterternary\"}], \"surface\": [{\"colorbar\": {\"outlinewidth\": 0, \"ticks\": \"\"}, \"colorscale\": [[0.0, \"#0d0887\"], [0.1111111111111111, \"#46039f\"], [0.2222222222222222, \"#7201a8\"], [0.3333333333333333, \"#9c179e\"], [0.4444444444444444, \"#bd3786\"], [0.5555555555555556, \"#d8576b\"], [0.6666666666666666, \"#ed7953\"], [0.7777777777777778, \"#fb9f3a\"], [0.8888888888888888, \"#fdca26\"], [1.0, \"#f0f921\"]], \"type\": \"surface\"}], \"table\": [{\"cells\": {\"fill\": {\"color\": \"#EBF0F8\"}, \"line\": {\"color\": \"white\"}}, \"header\": {\"fill\": {\"color\": \"#C8D4E3\"}, \"line\": {\"color\": \"white\"}}, \"type\": \"table\"}]}, \"layout\": {\"annotationdefaults\": {\"arrowcolor\": \"#2a3f5f\", \"arrowhead\": 0, \"arrowwidth\": 1}, \"coloraxis\": {\"colorbar\": {\"outlinewidth\": 0, \"ticks\": \"\"}}, \"colorscale\": {\"diverging\": [[0, \"#8e0152\"], [0.1, \"#c51b7d\"], [0.2, \"#de77ae\"], [0.3, \"#f1b6da\"], [0.4, \"#fde0ef\"], [0.5, \"#f7f7f7\"], [0.6, \"#e6f5d0\"], [0.7, \"#b8e186\"], [0.8, \"#7fbc41\"], [0.9, \"#4d9221\"], [1, \"#276419\"]], \"sequential\": [[0.0, \"#0d0887\"], [0.1111111111111111, \"#46039f\"], [0.2222222222222222, \"#7201a8\"], [0.3333333333333333, \"#9c179e\"], [0.4444444444444444, \"#bd3786\"], [0.5555555555555556, \"#d8576b\"], [0.6666666666666666, \"#ed7953\"], [0.7777777777777778, \"#fb9f3a\"], [0.8888888888888888, \"#fdca26\"], [1.0, \"#f0f921\"]], \"sequentialminus\": [[0.0, \"#0d0887\"], [0.1111111111111111, \"#46039f\"], [0.2222222222222222, \"#7201a8\"], [0.3333333333333333, \"#9c179e\"], [0.4444444444444444, \"#bd3786\"], [0.5555555555555556, \"#d8576b\"], [0.6666666666666666, \"#ed7953\"], [0.7777777777777778, \"#fb9f3a\"], [0.8888888888888888, \"#fdca26\"], [1.0, \"#f0f921\"]]}, \"colorway\": [\"#636efa\", \"#EF553B\", \"#00cc96\", \"#ab63fa\", \"#FFA15A\", \"#19d3f3\", \"#FF6692\", \"#B6E880\", \"#FF97FF\", \"#FECB52\"], \"font\": {\"color\": \"#2a3f5f\"}, \"geo\": {\"bgcolor\": \"white\", \"lakecolor\": \"white\", \"landcolor\": \"#E5ECF6\", \"showlakes\": true, \"showland\": true, \"subunitcolor\": \"white\"}, \"hoverlabel\": {\"align\": \"left\"}, \"hovermode\": \"closest\", \"mapbox\": {\"style\": \"light\"}, \"paper_bgcolor\": \"white\", \"plot_bgcolor\": \"#E5ECF6\", \"polar\": {\"angularaxis\": {\"gridcolor\": \"white\", \"linecolor\": \"white\", \"ticks\": \"\"}, \"bgcolor\": \"#E5ECF6\", \"radialaxis\": {\"gridcolor\": \"white\", \"linecolor\": \"white\", \"ticks\": \"\"}}, \"scene\": {\"xaxis\": {\"backgroundcolor\": \"#E5ECF6\", \"gridcolor\": \"white\", \"gridwidth\": 2, \"linecolor\": \"white\", \"showbackground\": true, \"ticks\": \"\", \"zerolinecolor\": \"white\"}, \"yaxis\": {\"backgroundcolor\": \"#E5ECF6\", \"gridcolor\": \"white\", \"gridwidth\": 2, \"linecolor\": \"white\", \"showbackground\": true, \"ticks\": \"\", \"zerolinecolor\": \"white\"}, \"zaxis\": {\"backgroundcolor\": \"#E5ECF6\", \"gridcolor\": \"white\", \"gridwidth\": 2, \"linecolor\": \"white\", \"showbackground\": true, \"ticks\": \"\", \"zerolinecolor\": \"white\"}}, \"shapedefaults\": {\"line\": {\"color\": \"#2a3f5f\"}}, \"ternary\": {\"aaxis\": {\"gridcolor\": \"white\", \"linecolor\": \"white\", \"ticks\": \"\"}, \"baxis\": {\"gridcolor\": \"white\", \"linecolor\": \"white\", \"ticks\": \"\"}, \"bgcolor\": \"#E5ECF6\", \"caxis\": {\"gridcolor\": \"white\", \"linecolor\": \"white\", \"ticks\": \"\"}}, \"title\": {\"x\": 0.05}, \"xaxis\": {\"automargin\": true, \"gridcolor\": \"white\", \"linecolor\": \"white\", \"ticks\": \"\", \"title\": {\"standoff\": 15}, \"zerolinecolor\": \"white\", \"zerolinewidth\": 2}, \"yaxis\": {\"automargin\": true, \"gridcolor\": \"white\", \"linecolor\": \"white\", \"ticks\": \"\", \"title\": {\"standoff\": 15}, \"zerolinecolor\": \"white\", \"zerolinewidth\": 2}}}, \"title\": {\"text\": \"Deaths Relative to Gender\"}, \"width\": 500},\n",
              "                        {\"responsive\": true}\n",
              "                    ).then(function(){\n",
              "                            \n",
              "var gd = document.getElementById('47ff9907-4cd3-4078-a5a2-d136c99ae774');\n",
              "var x = new MutationObserver(function (mutations, observer) {{\n",
              "        var display = window.getComputedStyle(gd).display;\n",
              "        if (!display || display === 'none') {{\n",
              "            console.log([gd, 'removed!']);\n",
              "            Plotly.purge(gd);\n",
              "            observer.disconnect();\n",
              "        }}\n",
              "}});\n",
              "\n",
              "// Listen for the removal of the full notebook cells\n",
              "var notebookContainer = gd.closest('#notebook-container');\n",
              "if (notebookContainer) {{\n",
              "    x.observe(notebookContainer, {childList: true});\n",
              "}}\n",
              "\n",
              "// Listen for the clearing of the current output cell\n",
              "var outputEl = gd.closest('.output');\n",
              "if (outputEl) {{\n",
              "    x.observe(outputEl, {childList: true});\n",
              "}}\n",
              "\n",
              "                        })\n",
              "                };\n",
              "                \n",
              "            </script>\n",
              "        </div>\n",
              "</body>\n",
              "</html>"
            ]
          },
          "metadata": {
            "tags": []
          }
        }
      ]
    },
    {
      "cell_type": "code",
      "metadata": {
        "colab": {
          "base_uri": "https://localhost:8080/",
          "height": 142
        },
        "id": "xnXvuukeBHwl",
        "outputId": "c365eef9-2f82-4484-983c-d754b37f8486"
      },
      "source": [
        "# Pivot the data on gender\n",
        "pd.pivot_table(all_data_df, index='Sex')"
      ],
      "execution_count": null,
      "outputs": [
        {
          "output_type": "execute_result",
          "data": {
            "text/html": [
              "<div>\n",
              "<style scoped>\n",
              "    .dataframe tbody tr th:only-of-type {\n",
              "        vertical-align: middle;\n",
              "    }\n",
              "\n",
              "    .dataframe tbody tr th {\n",
              "        vertical-align: top;\n",
              "    }\n",
              "\n",
              "    .dataframe thead th {\n",
              "        text-align: right;\n",
              "    }\n",
              "</style>\n",
              "<table border=\"1\" class=\"dataframe\">\n",
              "  <thead>\n",
              "    <tr style=\"text-align: right;\">\n",
              "      <th></th>\n",
              "      <th>Age</th>\n",
              "      <th>Fare</th>\n",
              "      <th>Parch</th>\n",
              "      <th>PassengerId</th>\n",
              "      <th>Pclass</th>\n",
              "      <th>SibSp</th>\n",
              "      <th>Survived</th>\n",
              "      <th>Train</th>\n",
              "    </tr>\n",
              "    <tr>\n",
              "      <th>Sex</th>\n",
              "      <th></th>\n",
              "      <th></th>\n",
              "      <th></th>\n",
              "      <th></th>\n",
              "      <th></th>\n",
              "      <th></th>\n",
              "      <th></th>\n",
              "      <th></th>\n",
              "    </tr>\n",
              "  </thead>\n",
              "  <tbody>\n",
              "    <tr>\n",
              "      <th>female</th>\n",
              "      <td>28.601708</td>\n",
              "      <td>43.202545</td>\n",
              "      <td>0.603645</td>\n",
              "      <td>616.075171</td>\n",
              "      <td>2.177677</td>\n",
              "      <td>0.642369</td>\n",
              "      <td>0.703872</td>\n",
              "      <td>0.715262</td>\n",
              "    </tr>\n",
              "    <tr>\n",
              "      <th>male</th>\n",
              "      <td>30.546262</td>\n",
              "      <td>24.336654</td>\n",
              "      <td>0.211043</td>\n",
              "      <td>641.368098</td>\n",
              "      <td>2.385276</td>\n",
              "      <td>0.384049</td>\n",
              "      <td>0.193865</td>\n",
              "      <td>0.707975</td>\n",
              "    </tr>\n",
              "  </tbody>\n",
              "</table>\n",
              "</div>"
            ],
            "text/plain": [
              "              Age       Fare     Parch  ...     SibSp  Survived     Train\n",
              "Sex                                     ...                              \n",
              "female  28.601708  43.202545  0.603645  ...  0.642369  0.703872  0.715262\n",
              "male    30.546262  24.336654  0.211043  ...  0.384049  0.193865  0.707975\n",
              "\n",
              "[2 rows x 8 columns]"
            ]
          },
          "metadata": {
            "tags": []
          },
          "execution_count": 27
        }
      ]
    },
    {
      "cell_type": "markdown",
      "metadata": {
        "id": "ITHE0w1tn4MB"
      },
      "source": [
        "Females were much more likely to survive (70%) than males (19%). \n",
        "\n",
        "Other interesting observations for Female passengers include:\n",
        "*   A much higher average Fare (£43 compared to £24)\n",
        "*   More likely to be in higher class cabins\n",
        "*   Travelled with more parents or children\n",
        "*   Travelled with more siblings or spouce\n",
        "*   About 2 years younger than Males, on average"
      ]
    },
    {
      "cell_type": "markdown",
      "metadata": {
        "id": "Pm7uQItU71jb"
      },
      "source": [
        "### Combining Gender and Cabin Class\n",
        "There seems to be clear correlations between both gender and cabin class and the chance of survival. "
      ]
    },
    {
      "cell_type": "code",
      "metadata": {
        "colab": {
          "base_uri": "https://localhost:8080/",
          "height": 266
        },
        "id": "ykk6FXs687_E",
        "outputId": "6aebe42c-fedb-4881-d316-335f90d56c8d"
      },
      "source": [
        "# Pivot the data on both gender and cabin class\n",
        "pd.pivot_table(all_data_df,index=['Sex','Pclass'])"
      ],
      "execution_count": null,
      "outputs": [
        {
          "output_type": "execute_result",
          "data": {
            "text/html": [
              "<div>\n",
              "<style scoped>\n",
              "    .dataframe tbody tr th:only-of-type {\n",
              "        vertical-align: middle;\n",
              "    }\n",
              "\n",
              "    .dataframe tbody tr th {\n",
              "        vertical-align: top;\n",
              "    }\n",
              "\n",
              "    .dataframe thead th {\n",
              "        text-align: right;\n",
              "    }\n",
              "</style>\n",
              "<table border=\"1\" class=\"dataframe\">\n",
              "  <thead>\n",
              "    <tr style=\"text-align: right;\">\n",
              "      <th></th>\n",
              "      <th></th>\n",
              "      <th>Age</th>\n",
              "      <th>Fare</th>\n",
              "      <th>Parch</th>\n",
              "      <th>PassengerId</th>\n",
              "      <th>SibSp</th>\n",
              "      <th>Survived</th>\n",
              "      <th>Train</th>\n",
              "    </tr>\n",
              "    <tr>\n",
              "      <th>Sex</th>\n",
              "      <th>Pclass</th>\n",
              "      <th></th>\n",
              "      <th></th>\n",
              "      <th></th>\n",
              "      <th></th>\n",
              "      <th></th>\n",
              "      <th></th>\n",
              "      <th></th>\n",
              "    </tr>\n",
              "  </thead>\n",
              "  <tbody>\n",
              "    <tr>\n",
              "      <th rowspan=\"3\" valign=\"top\">female</th>\n",
              "      <th>1</th>\n",
              "      <td>36.891667</td>\n",
              "      <td>103.949777</td>\n",
              "      <td>0.465649</td>\n",
              "      <td>644.175573</td>\n",
              "      <td>0.557252</td>\n",
              "      <td>0.923664</td>\n",
              "      <td>0.717557</td>\n",
              "    </tr>\n",
              "    <tr>\n",
              "      <th>2</th>\n",
              "      <td>27.150208</td>\n",
              "      <td>22.536785</td>\n",
              "      <td>0.626263</td>\n",
              "      <td>592.363636</td>\n",
              "      <td>0.494949</td>\n",
              "      <td>0.878788</td>\n",
              "      <td>0.767677</td>\n",
              "    </tr>\n",
              "    <tr>\n",
              "      <th>3</th>\n",
              "      <td>22.782313</td>\n",
              "      <td>14.915572</td>\n",
              "      <td>0.679426</td>\n",
              "      <td>609.693780</td>\n",
              "      <td>0.765550</td>\n",
              "      <td>0.483254</td>\n",
              "      <td>0.688995</td>\n",
              "    </tr>\n",
              "    <tr>\n",
              "      <th rowspan=\"3\" valign=\"top\">male</th>\n",
              "      <th>1</th>\n",
              "      <td>41.285143</td>\n",
              "      <td>64.801265</td>\n",
              "      <td>0.238095</td>\n",
              "      <td>628.285714</td>\n",
              "      <td>0.309524</td>\n",
              "      <td>0.345238</td>\n",
              "      <td>0.726190</td>\n",
              "    </tr>\n",
              "    <tr>\n",
              "      <th>2</th>\n",
              "      <td>30.722566</td>\n",
              "      <td>19.083307</td>\n",
              "      <td>0.175758</td>\n",
              "      <td>677.266667</td>\n",
              "      <td>0.315152</td>\n",
              "      <td>0.157576</td>\n",
              "      <td>0.654545</td>\n",
              "    </tr>\n",
              "    <tr>\n",
              "      <th>3</th>\n",
              "      <td>26.071871</td>\n",
              "      <td>12.005568</td>\n",
              "      <td>0.213693</td>\n",
              "      <td>633.639004</td>\n",
              "      <td>0.433610</td>\n",
              "      <td>0.153527</td>\n",
              "      <td>0.719917</td>\n",
              "    </tr>\n",
              "  </tbody>\n",
              "</table>\n",
              "</div>"
            ],
            "text/plain": [
              "                     Age        Fare     Parch  ...     SibSp  Survived     Train\n",
              "Sex    Pclass                                   ...                              \n",
              "female 1       36.891667  103.949777  0.465649  ...  0.557252  0.923664  0.717557\n",
              "       2       27.150208   22.536785  0.626263  ...  0.494949  0.878788  0.767677\n",
              "       3       22.782313   14.915572  0.679426  ...  0.765550  0.483254  0.688995\n",
              "male   1       41.285143   64.801265  0.238095  ...  0.309524  0.345238  0.726190\n",
              "       2       30.722566   19.083307  0.175758  ...  0.315152  0.157576  0.654545\n",
              "       3       26.071871   12.005568  0.213693  ...  0.433610  0.153527  0.719917\n",
              "\n",
              "[6 rows x 7 columns]"
            ]
          },
          "metadata": {
            "tags": []
          },
          "execution_count": 28
        }
      ]
    },
    {
      "cell_type": "code",
      "metadata": {
        "colab": {
          "base_uri": "https://localhost:8080/",
          "height": 321
        },
        "id": "T3AFqxVeOHXh",
        "outputId": "03ce2ac1-d63c-415b-ab59-53f12f392a3b"
      },
      "source": [
        "sex_class_df = pd.pivot_table(all_data_df,index='Sex', columns='Pclass', values='Survived')\n",
        "sex_class_df.plot(kind='bar', ylabel='Percent Survived')"
      ],
      "execution_count": null,
      "outputs": [
        {
          "output_type": "execute_result",
          "data": {
            "text/plain": [
              "<matplotlib.axes._subplots.AxesSubplot at 0x7f5be6dbbeb8>"
            ]
          },
          "metadata": {
            "tags": []
          },
          "execution_count": 29
        },
        {
          "output_type": "display_data",
          "data": {
            "image/png": "[encoded data removed]",
            "text/plain": [
              "<Figure size 432x288 with 1 Axes>"
            ]
          },
          "metadata": {
            "tags": [],
            "needs_background": "light"
          }
        }
      ]
    },
    {
      "cell_type": "markdown",
      "metadata": {
        "id": "Ep0BrFMCJCCd"
      },
      "source": [
        "This visualizations suggests that gender was more relevant than cabin class in determining survival chances. \n",
        "\n",
        "Most women in first (92%) and second (88%) class survived along with almost half (48%) of the women in third class. \n",
        "\n",
        "Few men survived. There was little difference between second class (15.8%) and third class (15.4%) survival for men. Even in first class, just over one third (35%) of men survived, a significantly lower proportion than of women in third class. \n",
        "\n",
        "It would seem that women were prioritized in the evacuation. "
      ]
    },
    {
      "cell_type": "markdown",
      "metadata": {
        "id": "DpTBwWNZRc8W"
      },
      "source": [
        "### Age\n",
        "**Hypothesis: Infants also prioritized during the evacuation.**\n",
        "\n",
        "The plot below shows that age distribution of passengers. Most passenger ages fall into a skewed Gaussian. However there is a second peak for infants aged zero to four."
      ]
    },
    {
      "cell_type": "code",
      "metadata": {
        "colab": {
          "base_uri": "https://localhost:8080/",
          "height": 268
        },
        "id": "UeP3VpesjkKm",
        "outputId": "90467ab9-5095-435d-e5b3-965bf23015fb"
      },
      "source": [
        "# Show age distribution for all passengers\n",
        "plt.hist(all_data_df['Age'], bins =20)\n",
        "plt.show()"
      ],
      "execution_count": null,
      "outputs": [
        {
          "output_type": "display_data",
          "data": {
            "image/png": "[encoded data removed]",
            "text/plain": [
              "<Figure size 432x288 with 1 Axes>"
            ]
          },
          "metadata": {
            "tags": [],
            "needs_background": "light"
          }
        }
      ]
    },
    {
      "cell_type": "markdown",
      "metadata": {
        "id": "fiNmBtzzlk3F"
      },
      "source": [
        "Were infants under the age of 10 more or less likely to survive than adults?\n",
        "\n",
        "The plot below shows that a disproportionate number of infants under the age of 10 survived, which is countered by a disproportionate number of adults in the age range 18 to 40 who did not survive. \n",
        "\n",
        "It would seem like women and children were prioritized in the evacuation."
      ]
    },
    {
      "cell_type": "code",
      "metadata": {
        "colab": {
          "base_uri": "https://localhost:8080/",
          "height": 518
        },
        "id": "WZjZc7-wkr0O",
        "outputId": "994a3cf5-5a4b-48e9-c521-8603859fc956"
      },
      "source": [
        "# Plot survival against age\n",
        "fig,axs=plt.subplots(figsize=(10,8))\n",
        "sns.set_style(style='whitegrid')\n",
        "sns.kdeplot(all_data_df.loc[(all_data_df['Survived']==0), 'Age'], color='r', shade=True, label='Died')\n",
        "sns.kdeplot(all_data_df.loc[(all_data_df['Survived']==1), 'Age'], color='b', shade=True, label='Survived')\n",
        "plt.title('Survival Based on Age', color = 'black', fontsize = 20);"
      ],
      "execution_count": null,
      "outputs": [
        {
          "output_type": "display_data",
          "data": {
            "image/png": "[encoded data removed]",
            "text/plain": [
              "<Figure size 720x576 with 1 Axes>"
            ]
          },
          "metadata": {
            "tags": [],
            "needs_background": "light"
          }
        }
      ]
    },
    {
      "cell_type": "markdown",
      "metadata": {
        "id": "rt5UUseFq-Uv"
      },
      "source": [
        "The plot below shows age-related survival in each cabin class. The average age of passengers in first class is greater and there are few children. Almost all of the infants in second class, and the majority in third class, survived. \n",
        "\n"
      ]
    },
    {
      "cell_type": "code",
      "metadata": {
        "colab": {
          "base_uri": "https://localhost:8080/",
          "height": 296
        },
        "id": "lCszryJxrJP9",
        "outputId": "37bfc92d-d717-4af9-c7c9-3fd27a7ad711"
      },
      "source": [
        "sns.violinplot(x=\"Pclass\", y=\"Age\", hue=\"Survived\", data=all_data_df, split=True)\n"
      ],
      "execution_count": null,
      "outputs": [
        {
          "output_type": "execute_result",
          "data": {
            "text/plain": [
              "<matplotlib.axes._subplots.AxesSubplot at 0x7f5be685f1d0>"
            ]
          },
          "metadata": {
            "tags": []
          },
          "execution_count": 32
        },
        {
          "output_type": "display_data",
          "data": {
            "image/png": "[encoded data removed]",
            "text/plain": [
              "<Figure size 432x288 with 1 Axes>"
            ]
          },
          "metadata": {
            "tags": []
          }
        }
      ]
    },
    {
      "cell_type": "markdown",
      "metadata": {
        "id": "dwfmYNHmmbY1"
      },
      "source": [
        "## Vizualizing Features\n",
        "\n",
        "Here are some fast visualizations of features using Seabourne."
      ]
    },
    {
      "cell_type": "code",
      "metadata": {
        "colab": {
          "base_uri": "https://localhost:8080/",
          "height": 400
        },
        "id": "fwgmVApVUn1V",
        "outputId": "bb11cc68-fa0f-4af5-ad18-5774d22fe519"
      },
      "source": [
        "# Factorplot is much faster at creating the survival based on Pclass and Sex \n",
        "# features than the pivot table method I used above.\n",
        "sns.factorplot(x='Sex', y='Survived', hue='Pclass', data=all_data_df, kind='bar')"
      ],
      "execution_count": null,
      "outputs": [
        {
          "output_type": "execute_result",
          "data": {
            "text/plain": [
              "<seaborn.axisgrid.FacetGrid at 0x7f5be66e6f60>"
            ]
          },
          "metadata": {
            "tags": []
          },
          "execution_count": 33
        },
        {
          "output_type": "display_data",
          "data": {
            "image/png": "[encoded data removed]",
            "text/plain": [
              "<Figure size 402.375x360 with 1 Axes>"
            ]
          },
          "metadata": {
            "tags": []
          }
        }
      ]
    },
    {
      "cell_type": "markdown",
      "metadata": {
        "id": "vhj11caWoMYJ"
      },
      "source": [
        "The plot below shows that men had a greater chance of survival when travelling with a sibling or spouce. Perhaps this is related to travelling with a family and therefore benefitting from \"women and children first\".\n",
        "\n",
        "The chance of survival plummited if travelling with fout or more siblings. "
      ]
    },
    {
      "cell_type": "code",
      "metadata": {
        "colab": {
          "base_uri": "https://localhost:8080/",
          "height": 400
        },
        "id": "_SvmgDT2nyVp",
        "outputId": "3593788b-d84a-4082-fe2c-ceff0e871894"
      },
      "source": [
        "# Plot Survival against SibSp \n",
        "sns.factorplot(x='SibSp', y='Survived', hue = 'Sex', data = all_data_df)"
      ],
      "execution_count": null,
      "outputs": [
        {
          "output_type": "execute_result",
          "data": {
            "text/plain": [
              "<seaborn.axisgrid.FacetGrid at 0x7f5be685fe80>"
            ]
          },
          "metadata": {
            "tags": []
          },
          "execution_count": 34
        },
        {
          "output_type": "display_data",
          "data": {
            "image/png": "[encoded data removed]",
            "text/plain": [
              "<Figure size 430.5x360 with 1 Axes>"
            ]
          },
          "metadata": {
            "tags": []
          }
        }
      ]
    },
    {
      "cell_type": "markdown",
      "metadata": {
        "id": "-DiT472QphGi"
      },
      "source": [
        "The heatmap below suggests that Fare (and inversly cabin class) were most strongly correled with survival (note that gender is not ploted). "
      ]
    },
    {
      "cell_type": "code",
      "metadata": {
        "colab": {
          "base_uri": "https://localhost:8080/",
          "height": 429
        },
        "id": "cSIMkyw7z_sq",
        "outputId": "95247275-61b6-4a71-f2ee-947bc7ed97f9"
      },
      "source": [
        "plt.figure(figsize=(10,6))\n",
        "sns.heatmap(all_data_df.corr(), vmax=0.8, linewidths=0.5, fmt='.2f', square=True, annot=True, cmap='YlGnBu',linecolor=\"white\");"
      ],
      "execution_count": null,
      "outputs": [
        {
          "output_type": "display_data",
          "data": {
            "image/png": "[encoded data removed]",
            "text/plain": [
              "<Figure size 720x432 with 2 Axes>"
            ]
          },
          "metadata": {
            "tags": []
          }
        }
      ]
    },
    {
      "cell_type": "markdown",
      "metadata": {
        "id": "L2h4DKY5ukB3"
      },
      "source": [
        "# 4. Feature Engineering and Data Cleaning"
      ]
    },
    {
      "cell_type": "markdown",
      "metadata": {
        "id": "ie8taLMs3OWC"
      },
      "source": [
        "## Extracting Titles from Name\n",
        "The Name feature typically contains a title (Mr, Mrs, Miss, etc). I will extract the title from the Name column and create a new feature called Title. The title can be classified and then evaluated by a model in ways the name itself cannot."
      ]
    },
    {
      "cell_type": "code",
      "metadata": {
        "colab": {
          "base_uri": "https://localhost:8080/",
          "height": 266
        },
        "id": "kYBAEudX369R",
        "outputId": "02b11802-1230-41f5-a925-343bf772c5b3"
      },
      "source": [
        "# Use pattern match to find title in the Name column\n",
        "all_data_df['Title'] = all_data_df.Name.str.extract(' ([A-Za-z]+)\\.', expand=False)\n",
        "\n",
        "# There are 18 different titles\n",
        "df = pd.pivot_table(all_data_df, index='Title', aggfunc={'PassengerId': 'count'})\n",
        "\n",
        "# Group the titles\n",
        "all_data_df[\"Title\"] = all_data_df[\"Title\"].replace('Mlle', 'Miss')\n",
        "all_data_df[\"Title\"] = all_data_df[\"Title\"].replace(['Mme', 'Dona', 'Ms'], 'Mrs')\n",
        "all_data_df[\"Title\"] = all_data_df[\"Title\"].replace('Don','Mr')\n",
        "all_data_df[\"Title\"] = all_data_df[\"Title\"].replace(['Capt','Rev','Major', 'Col','Dr'], 'Professional')\n",
        "all_data_df[\"Title\"] = all_data_df[\"Title\"].replace(['Lady', 'Countess','Sir','Jonkheer'], 'Honour')\n",
        "\n",
        "# There are now 6 different Titles\n",
        "pd.pivot_table(all_data_df, index='Title', aggfunc={'PassengerId': 'count'})"
      ],
      "execution_count": null,
      "outputs": [
        {
          "output_type": "execute_result",
          "data": {
            "text/html": [
              "<div>\n",
              "<style scoped>\n",
              "    .dataframe tbody tr th:only-of-type {\n",
              "        vertical-align: middle;\n",
              "    }\n",
              "\n",
              "    .dataframe tbody tr th {\n",
              "        vertical-align: top;\n",
              "    }\n",
              "\n",
              "    .dataframe thead th {\n",
              "        text-align: right;\n",
              "    }\n",
              "</style>\n",
              "<table border=\"1\" class=\"dataframe\">\n",
              "  <thead>\n",
              "    <tr style=\"text-align: right;\">\n",
              "      <th></th>\n",
              "      <th>PassengerId</th>\n",
              "    </tr>\n",
              "    <tr>\n",
              "      <th>Title</th>\n",
              "      <th></th>\n",
              "    </tr>\n",
              "  </thead>\n",
              "  <tbody>\n",
              "    <tr>\n",
              "      <th>Honour</th>\n",
              "      <td>4</td>\n",
              "    </tr>\n",
              "    <tr>\n",
              "      <th>Master</th>\n",
              "      <td>55</td>\n",
              "    </tr>\n",
              "    <tr>\n",
              "      <th>Miss</th>\n",
              "      <td>249</td>\n",
              "    </tr>\n",
              "    <tr>\n",
              "      <th>Mr</th>\n",
              "      <td>736</td>\n",
              "    </tr>\n",
              "    <tr>\n",
              "      <th>Mrs</th>\n",
              "      <td>187</td>\n",
              "    </tr>\n",
              "    <tr>\n",
              "      <th>Professional</th>\n",
              "      <td>23</td>\n",
              "    </tr>\n",
              "  </tbody>\n",
              "</table>\n",
              "</div>"
            ],
            "text/plain": [
              "              PassengerId\n",
              "Title                    \n",
              "Honour                  4\n",
              "Master                 55\n",
              "Miss                  249\n",
              "Mr                    736\n",
              "Mrs                   187\n",
              "Professional           23"
            ]
          },
          "metadata": {
            "tags": []
          },
          "execution_count": 36
        }
      ]
    },
    {
      "cell_type": "markdown",
      "metadata": {
        "id": "h1qmXDtIsvt8"
      },
      "source": [
        "## Missing Data \n",
        "In this section I will deal with missing data in the features:\n",
        "*   Age\n",
        "*   Cabin\n",
        "*   Fare\n",
        "*   Embarked\n",
        "\n",
        "**Embarked**\n",
        "\n",
        "There are two NaNs in the Embarked column. These are for two women travelling on the same ticket and sharing cabin B28 in first class. Their names do not sound obviously French or Irish so, given that the majority of passengers embarked at Southhampton (70%) I will assign Southampton (S) as their port of embarkation.\n"
      ]
    },
    {
      "cell_type": "code",
      "metadata": {
        "colab": {
          "base_uri": "https://localhost:8080/",
          "height": 145
        },
        "id": "sNtNzvxuoScu",
        "outputId": "fbb6b0c9-ecd8-4230-e7be-9fbff6aa2812"
      },
      "source": [
        "all_data_df[all_data_df['Embarked'].isnull()]"
      ],
      "execution_count": null,
      "outputs": [
        {
          "output_type": "execute_result",
          "data": {
            "text/html": [
              "<div>\n",
              "<style scoped>\n",
              "    .dataframe tbody tr th:only-of-type {\n",
              "        vertical-align: middle;\n",
              "    }\n",
              "\n",
              "    .dataframe tbody tr th {\n",
              "        vertical-align: top;\n",
              "    }\n",
              "\n",
              "    .dataframe thead th {\n",
              "        text-align: right;\n",
              "    }\n",
              "</style>\n",
              "<table border=\"1\" class=\"dataframe\">\n",
              "  <thead>\n",
              "    <tr style=\"text-align: right;\">\n",
              "      <th></th>\n",
              "      <th>PassengerId</th>\n",
              "      <th>Survived</th>\n",
              "      <th>Pclass</th>\n",
              "      <th>Name</th>\n",
              "      <th>Sex</th>\n",
              "      <th>Age</th>\n",
              "      <th>SibSp</th>\n",
              "      <th>Parch</th>\n",
              "      <th>Ticket</th>\n",
              "      <th>Fare</th>\n",
              "      <th>Cabin</th>\n",
              "      <th>Embarked</th>\n",
              "      <th>Train</th>\n",
              "      <th>Title</th>\n",
              "    </tr>\n",
              "  </thead>\n",
              "  <tbody>\n",
              "    <tr>\n",
              "      <th>61</th>\n",
              "      <td>62</td>\n",
              "      <td>1</td>\n",
              "      <td>1</td>\n",
              "      <td>Icard, Miss. Amelie</td>\n",
              "      <td>female</td>\n",
              "      <td>38.0</td>\n",
              "      <td>0</td>\n",
              "      <td>0</td>\n",
              "      <td>113572</td>\n",
              "      <td>80.0</td>\n",
              "      <td>B28</td>\n",
              "      <td>NaN</td>\n",
              "      <td>1</td>\n",
              "      <td>Miss</td>\n",
              "    </tr>\n",
              "    <tr>\n",
              "      <th>829</th>\n",
              "      <td>830</td>\n",
              "      <td>1</td>\n",
              "      <td>1</td>\n",
              "      <td>Stone, Mrs. George Nelson (Martha Evelyn)</td>\n",
              "      <td>female</td>\n",
              "      <td>62.0</td>\n",
              "      <td>0</td>\n",
              "      <td>0</td>\n",
              "      <td>113572</td>\n",
              "      <td>80.0</td>\n",
              "      <td>B28</td>\n",
              "      <td>NaN</td>\n",
              "      <td>1</td>\n",
              "      <td>Mrs</td>\n",
              "    </tr>\n",
              "  </tbody>\n",
              "</table>\n",
              "</div>"
            ],
            "text/plain": [
              "     PassengerId  Survived  Pclass  ... Embarked Train  Title\n",
              "61            62         1       1  ...      NaN     1   Miss\n",
              "829          830         1       1  ...      NaN     1    Mrs\n",
              "\n",
              "[2 rows x 14 columns]"
            ]
          },
          "metadata": {
            "tags": []
          },
          "execution_count": 37
        }
      ]
    },
    {
      "cell_type": "code",
      "metadata": {
        "colab": {
          "base_uri": "https://localhost:8080/",
          "height": 173
        },
        "id": "Dt9CBrOyvhiw",
        "outputId": "031654a0-1e97-4ff4-a774-c8e5b863b3a9"
      },
      "source": [
        "df = pd.pivot_table(all_data_df, index='Embarked', aggfunc={'PassengerId': 'count'})\n",
        "df['Percent'] = df['PassengerId'] / df['PassengerId'].sum() * 100\n",
        "df"
      ],
      "execution_count": null,
      "outputs": [
        {
          "output_type": "execute_result",
          "data": {
            "text/html": [
              "<div>\n",
              "<style scoped>\n",
              "    .dataframe tbody tr th:only-of-type {\n",
              "        vertical-align: middle;\n",
              "    }\n",
              "\n",
              "    .dataframe tbody tr th {\n",
              "        vertical-align: top;\n",
              "    }\n",
              "\n",
              "    .dataframe thead th {\n",
              "        text-align: right;\n",
              "    }\n",
              "</style>\n",
              "<table border=\"1\" class=\"dataframe\">\n",
              "  <thead>\n",
              "    <tr style=\"text-align: right;\">\n",
              "      <th></th>\n",
              "      <th>PassengerId</th>\n",
              "      <th>Percent</th>\n",
              "    </tr>\n",
              "    <tr>\n",
              "      <th>Embarked</th>\n",
              "      <th></th>\n",
              "      <th></th>\n",
              "    </tr>\n",
              "  </thead>\n",
              "  <tbody>\n",
              "    <tr>\n",
              "      <th>C</th>\n",
              "      <td>252</td>\n",
              "      <td>20.127796</td>\n",
              "    </tr>\n",
              "    <tr>\n",
              "      <th>Q</th>\n",
              "      <td>123</td>\n",
              "      <td>9.824281</td>\n",
              "    </tr>\n",
              "    <tr>\n",
              "      <th>S</th>\n",
              "      <td>877</td>\n",
              "      <td>70.047923</td>\n",
              "    </tr>\n",
              "  </tbody>\n",
              "</table>\n",
              "</div>"
            ],
            "text/plain": [
              "          PassengerId    Percent\n",
              "Embarked                        \n",
              "C                 252  20.127796\n",
              "Q                 123   9.824281\n",
              "S                 877  70.047923"
            ]
          },
          "metadata": {
            "tags": []
          },
          "execution_count": 38
        }
      ]
    },
    {
      "cell_type": "code",
      "metadata": {
        "colab": {
          "base_uri": "https://localhost:8080/"
        },
        "id": "kI6iVqfXyY88",
        "outputId": "8ac01695-627b-4328-c282-a879782f2901"
      },
      "source": [
        "all_data_df['Embarked'] = all_data_df['Embarked'].fillna('S')\n",
        "print(\"NaNs in Embarked column replaced with S (for Southampton)\")"
      ],
      "execution_count": null,
      "outputs": [
        {
          "output_type": "stream",
          "text": [
            "NaNs in Embarked column replaced with S (for Southampton)\n"
          ],
          "name": "stdout"
        }
      ]
    },
    {
      "cell_type": "markdown",
      "metadata": {
        "id": "Gr0N__Ur0ZRd"
      },
      "source": [
        "**Cabin**\n",
        "\n",
        "There are 982 missing values for Cabin (78% of rows). Potentially Cabin could be informative, since this would indicate the deck (higher decks were closer to lifeboats). However there is no obvious way to infer the cabin from other data, so I will drop the column when I drop the columns of least value. "
      ]
    },
    {
      "cell_type": "markdown",
      "metadata": {
        "id": "7GKaFreS13hY"
      },
      "source": [
        "**Fare**\n",
        "\n",
        "The only passenger where we do not know the fare paid is Mr Thomas Storey, a 60 year old man, travelling in third class. I will replace the null value with the average fare for passengers in third class with the title \"Mr\" (£7.90)."
      ]
    },
    {
      "cell_type": "code",
      "metadata": {
        "colab": {
          "base_uri": "https://localhost:8080/",
          "height": 80
        },
        "id": "IpDfvyyTvTwq",
        "outputId": "caf0e4da-b4e2-49fc-98c4-7dae5fa612bf"
      },
      "source": [
        "all_data_df.loc[all_data_df['Fare'].isnull()]"
      ],
      "execution_count": null,
      "outputs": [
        {
          "output_type": "execute_result",
          "data": {
            "text/html": [
              "<div>\n",
              "<style scoped>\n",
              "    .dataframe tbody tr th:only-of-type {\n",
              "        vertical-align: middle;\n",
              "    }\n",
              "\n",
              "    .dataframe tbody tr th {\n",
              "        vertical-align: top;\n",
              "    }\n",
              "\n",
              "    .dataframe thead th {\n",
              "        text-align: right;\n",
              "    }\n",
              "</style>\n",
              "<table border=\"1\" class=\"dataframe\">\n",
              "  <thead>\n",
              "    <tr style=\"text-align: right;\">\n",
              "      <th></th>\n",
              "      <th>PassengerId</th>\n",
              "      <th>Survived</th>\n",
              "      <th>Pclass</th>\n",
              "      <th>Name</th>\n",
              "      <th>Sex</th>\n",
              "      <th>Age</th>\n",
              "      <th>SibSp</th>\n",
              "      <th>Parch</th>\n",
              "      <th>Ticket</th>\n",
              "      <th>Fare</th>\n",
              "      <th>Cabin</th>\n",
              "      <th>Embarked</th>\n",
              "      <th>Train</th>\n",
              "      <th>Title</th>\n",
              "    </tr>\n",
              "  </thead>\n",
              "  <tbody>\n",
              "    <tr>\n",
              "      <th>144</th>\n",
              "      <td>1044</td>\n",
              "      <td>0</td>\n",
              "      <td>3</td>\n",
              "      <td>Storey, Mr. Thomas</td>\n",
              "      <td>male</td>\n",
              "      <td>60.5</td>\n",
              "      <td>0</td>\n",
              "      <td>0</td>\n",
              "      <td>3701</td>\n",
              "      <td>NaN</td>\n",
              "      <td>NaN</td>\n",
              "      <td>S</td>\n",
              "      <td>0</td>\n",
              "      <td>Mr</td>\n",
              "    </tr>\n",
              "  </tbody>\n",
              "</table>\n",
              "</div>"
            ],
            "text/plain": [
              "     PassengerId  Survived  Pclass  ... Embarked Train  Title\n",
              "144         1044         0       3  ...        S     0     Mr\n",
              "\n",
              "[1 rows x 14 columns]"
            ]
          },
          "metadata": {
            "tags": []
          },
          "execution_count": 40
        }
      ]
    },
    {
      "cell_type": "code",
      "metadata": {
        "colab": {
          "base_uri": "https://localhost:8080/"
        },
        "id": "gChrl3F8vn1K",
        "outputId": "cf79e2a3-547c-4eb4-c3ac-cdd8bd9399ee"
      },
      "source": [
        "med_ave_fare = all_data_df[(all_data_df['Pclass']==3) & (all_data_df['Title'] == 'Mr')]['Fare'].median()\n",
        "all_data_df.loc[(all_data_df['Fare'].isnull()) & (all_data_df['Title'] == 'Mr') & (all_data_df['Pclass'] == 3), 'Fare'] = med_ave_fare\n",
        "print(\"NaN values replace in Fare column\")"
      ],
      "execution_count": null,
      "outputs": [
        {
          "output_type": "stream",
          "text": [
            "NaN values replace in Fare column\n"
          ],
          "name": "stdout"
        }
      ]
    },
    {
      "cell_type": "markdown",
      "metadata": {
        "id": "763SBE6WNFSI"
      },
      "source": [
        "**Age** \n",
        "\n",
        "I know that Age was an important factor in survival (most infants survived). There are 257 rows (20%) with missing values of Age. I suspect that age varies across cabin class and with title. "
      ]
    },
    {
      "cell_type": "code",
      "metadata": {
        "colab": {
          "base_uri": "https://localhost:8080/"
        },
        "id": "8o4d82Dehnw9",
        "outputId": "0ab2de58-fab1-48a8-896d-0d96b89338cb"
      },
      "source": [
        "# Show median Age for passengers based on Title and Cabin Class\n",
        "classes = [1,2,3]\n",
        "titles = ['Mr', 'Mrs', 'Master', 'Miss']\n",
        "for title in titles: \n",
        "  for class_number in classes: \n",
        "    age_to_impute = all_data_df[all_data_df['Pclass']==class_number].groupby('Title')['Age'].median()[title]\n",
        "    print(f\"Title: {title}\\tCabin Class: {class_number}\\tMedian Age: {age_to_impute}\")"
      ],
      "execution_count": null,
      "outputs": [
        {
          "output_type": "stream",
          "text": [
            "Title: Mr\tCabin Class: 1\tMedian Age: 41.0\n",
            "Title: Mr\tCabin Class: 2\tMedian Age: 30.0\n",
            "Title: Mr\tCabin Class: 3\tMedian Age: 26.0\n",
            "Title: Mrs\tCabin Class: 1\tMedian Age: 45.0\n",
            "Title: Mrs\tCabin Class: 2\tMedian Age: 30.0\n",
            "Title: Mrs\tCabin Class: 3\tMedian Age: 31.0\n",
            "Title: Master\tCabin Class: 1\tMedian Age: 5.0\n",
            "Title: Master\tCabin Class: 2\tMedian Age: 2.0\n",
            "Title: Master\tCabin Class: 3\tMedian Age: 6.0\n",
            "Title: Miss\tCabin Class: 1\tMedian Age: 30.0\n",
            "Title: Miss\tCabin Class: 2\tMedian Age: 20.0\n",
            "Title: Miss\tCabin Class: 3\tMedian Age: 18.75\n"
          ],
          "name": "stdout"
        }
      ]
    },
    {
      "cell_type": "markdown",
      "metadata": {
        "id": "EZ1u2H8qsBlF"
      },
      "source": [
        "Indeed age did vary between cabin class and with title. I will replace missing values with the median age for the title and cabin class"
      ]
    },
    {
      "cell_type": "code",
      "metadata": {
        "colab": {
          "base_uri": "https://localhost:8080/"
        },
        "id": "r7Ykq0-DiS4V",
        "outputId": "39b9e3e1-2256-427a-9136-f0faa0daa979"
      },
      "source": [
        "# Set median Age for passengers based on Title and Cabin Class\n",
        "# Apply for Mr, Mrs, Master and Miss\n",
        "classes = [1,2,3]\n",
        "titles = ['Mr', 'Mrs', 'Master', 'Miss']\n",
        "for title in titles: \n",
        "  for cabin_class in classes: \n",
        "    age_to_impute = all_data_df[all_data_df['Pclass']==cabin_class].groupby('Title')['Age'].median()[title]\n",
        "    all_data_df.loc[(all_data_df['Age'].isnull()) & (all_data_df['Title'] == title) & (all_data_df['Pclass'] == cabin_class), 'Age'] = age_to_impute\n",
        "print(\"Age set for passengers with title Mr, Mrs, Master and Miss in all cabin classes\")"
      ],
      "execution_count": null,
      "outputs": [
        {
          "output_type": "stream",
          "text": [
            "Age set for passengers with title Mr, Mrs, Master and Miss in all cabin classes\n"
          ],
          "name": "stdout"
        }
      ]
    },
    {
      "cell_type": "code",
      "metadata": {
        "colab": {
          "base_uri": "https://localhost:8080/",
          "height": 97
        },
        "id": "FI9NV2GQls4k",
        "outputId": "008cd7bf-396d-4913-ef5d-7f3592ca059e"
      },
      "source": [
        "# Check for remaining Age is NaN\n",
        "all_data_df.loc[all_data_df['Age'].isnull()]"
      ],
      "execution_count": null,
      "outputs": [
        {
          "output_type": "execute_result",
          "data": {
            "text/html": [
              "<div>\n",
              "<style scoped>\n",
              "    .dataframe tbody tr th:only-of-type {\n",
              "        vertical-align: middle;\n",
              "    }\n",
              "\n",
              "    .dataframe tbody tr th {\n",
              "        vertical-align: top;\n",
              "    }\n",
              "\n",
              "    .dataframe thead th {\n",
              "        text-align: right;\n",
              "    }\n",
              "</style>\n",
              "<table border=\"1\" class=\"dataframe\">\n",
              "  <thead>\n",
              "    <tr style=\"text-align: right;\">\n",
              "      <th></th>\n",
              "      <th>PassengerId</th>\n",
              "      <th>Survived</th>\n",
              "      <th>Pclass</th>\n",
              "      <th>Name</th>\n",
              "      <th>Sex</th>\n",
              "      <th>Age</th>\n",
              "      <th>SibSp</th>\n",
              "      <th>Parch</th>\n",
              "      <th>Ticket</th>\n",
              "      <th>Fare</th>\n",
              "      <th>Cabin</th>\n",
              "      <th>Embarked</th>\n",
              "      <th>Train</th>\n",
              "      <th>Title</th>\n",
              "    </tr>\n",
              "  </thead>\n",
              "  <tbody>\n",
              "    <tr>\n",
              "      <th>766</th>\n",
              "      <td>767</td>\n",
              "      <td>0</td>\n",
              "      <td>1</td>\n",
              "      <td>Brewe, Dr. Arthur Jackson</td>\n",
              "      <td>male</td>\n",
              "      <td>NaN</td>\n",
              "      <td>0</td>\n",
              "      <td>0</td>\n",
              "      <td>112379</td>\n",
              "      <td>39.6</td>\n",
              "      <td>NaN</td>\n",
              "      <td>C</td>\n",
              "      <td>1</td>\n",
              "      <td>Professional</td>\n",
              "    </tr>\n",
              "  </tbody>\n",
              "</table>\n",
              "</div>"
            ],
            "text/plain": [
              "     PassengerId  Survived  Pclass  ... Embarked Train         Title\n",
              "766          767         0       1  ...        C     1  Professional\n",
              "\n",
              "[1 rows x 14 columns]"
            ]
          },
          "metadata": {
            "tags": []
          },
          "execution_count": 44
        }
      ]
    },
    {
      "cell_type": "code",
      "metadata": {
        "colab": {
          "base_uri": "https://localhost:8080/"
        },
        "id": "a24t4dk4ngSQ",
        "outputId": "b075a3e3-3c24-4e44-df49-4a445fcbe886"
      },
      "source": [
        "# Set for Professionals in Frist Class\n",
        "age_to_impute = all_data_df[all_data_df['Pclass']==1].groupby('Title')['Age'].median()['Professional']\n",
        "all_data_df.loc[(all_data_df['Age'].isnull()) & (all_data_df['Title'] == \"Professional\") & all_data_df['Pclass'] == 1, 'Age'] = age_to_impute\n",
        "print(\"Age set for Professionals in First Class\")"
      ],
      "execution_count": null,
      "outputs": [
        {
          "output_type": "stream",
          "text": [
            "Age set for Professionals in First Class\n"
          ],
          "name": "stdout"
        }
      ]
    },
    {
      "cell_type": "markdown",
      "metadata": {
        "id": "c0BCirS-sYOE"
      },
      "source": [
        "**Age for passengers with the title *Miss*** \n",
        "\n",
        "There is a challenge in using the average age for passengers with the title \"Miss\". I can be certain that males with the title \"Master\" are infants -- they have an average age of four. Females with the title \"Miss\" could be either infants or unmarried adults. The median age for Miss in first class is 30. \n",
        "\n",
        "There were 50 passengers with the title \"Miss\" of which 47 were in thrid class. The median age for \"Miss\" in third class was 18.75. I will use that value given I have no better value and do not want to delete 50 rows of data."
      ]
    },
    {
      "cell_type": "code",
      "metadata": {
        "colab": {
          "base_uri": "https://localhost:8080/"
        },
        "id": "9w3wLlF1rMYs",
        "outputId": "9909fe6d-8224-43c0-d356-9226aa4c6f6b"
      },
      "source": [
        "# Check there are no more NaNs in the data\n",
        "all_data_df.isnull().sum()"
      ],
      "execution_count": null,
      "outputs": [
        {
          "output_type": "execute_result",
          "data": {
            "text/plain": [
              "PassengerId      0\n",
              "Survived         0\n",
              "Pclass           0\n",
              "Name             0\n",
              "Sex              0\n",
              "Age              0\n",
              "SibSp            0\n",
              "Parch            0\n",
              "Ticket           0\n",
              "Fare             0\n",
              "Cabin          982\n",
              "Embarked         0\n",
              "Train            0\n",
              "Title            0\n",
              "dtype: int64"
            ]
          },
          "metadata": {
            "tags": []
          },
          "execution_count": 46
        }
      ]
    },
    {
      "cell_type": "markdown",
      "metadata": {
        "id": "QH4-h3bB_nwD"
      },
      "source": [
        "## Encoding\n",
        "\n",
        "I need to encode the data so that Machine Learning models can understand it. First I will eliminate any colums that will not be useful. \n",
        "\n",
        "I will drop the collowing columns:\n",
        "*   Ticket -- could perhaps have used this to group parties that did not share a familiy name\n",
        "*   Cabin -- could perhaps have used this to determine proximity to life boats, however there are much missing data\n",
        "*   Name\n",
        "*   PassengerId\n",
        "\n",
        "I will then one-hot encode:\n",
        "*   Sex\n",
        "*   Embarked\n",
        "*   Title"
      ]
    },
    {
      "cell_type": "code",
      "metadata": {
        "colab": {
          "base_uri": "https://localhost:8080/"
        },
        "id": "l7d6AwRlb1II",
        "outputId": "a2ded258-92d7-42ae-94f7-d249973dee26"
      },
      "source": [
        "# Drop columns that are not required\n",
        "all_data_df = tja.drop_columns(all_data_df, ['Cabin', 'Ticket', 'Name', 'PassengerId'])"
      ],
      "execution_count": null,
      "outputs": [
        {
          "output_type": "stream",
          "text": [
            "Dropped column: Cabin\n",
            "Dropped column: Ticket\n",
            "Dropped column: Name\n",
            "Dropped column: PassengerId\n"
          ],
          "name": "stdout"
        }
      ]
    },
    {
      "cell_type": "code",
      "metadata": {
        "colab": {
          "base_uri": "https://localhost:8080/"
        },
        "id": "L1_4ROTJSNJw",
        "outputId": "5d0310a9-8a06-4dbf-deb7-36a22046e216"
      },
      "source": [
        "# Encode columns of categorical data\n",
        "all_data_df = tja.one_hot_encode(all_data_df, ['Sex', 'Embarked', 'Title'])"
      ],
      "execution_count": null,
      "outputs": [
        {
          "output_type": "stream",
          "text": [
            "One-hot encoded: Sex\n",
            "One-hot encoded: Embarked\n",
            "One-hot encoded: Title\n"
          ],
          "name": "stdout"
        }
      ]
    },
    {
      "cell_type": "code",
      "metadata": {
        "colab": {
          "base_uri": "https://localhost:8080/"
        },
        "id": "QGBU2--5rIno",
        "outputId": "2799e089-75f8-4a69-ce62-cfd825c1dcfa"
      },
      "source": [
        "# Scale columns between 0 and 1\n",
        "all_data_df = tja.scale_data(all_data_df, ['Pclass', 'Age', 'SibSp', 'Parch', 'Fare'])"
      ],
      "execution_count": null,
      "outputs": [
        {
          "output_type": "stream",
          "text": [
            "Scaled: Pclass\n",
            "Scaled: Age\n",
            "Scaled: SibSp\n",
            "Scaled: Parch\n",
            "Scaled: Fare\n"
          ],
          "name": "stdout"
        }
      ]
    },
    {
      "cell_type": "markdown",
      "metadata": {
        "id": "a3ZWuGUj6IS7"
      },
      "source": [
        "After encoding the data Seabourne Heatmap suggests strong correlations between survival chances and both cabin class and gender "
      ]
    },
    {
      "cell_type": "code",
      "metadata": {
        "colab": {
          "base_uri": "https://localhost:8080/",
          "height": 723
        },
        "id": "D3BN94ep5e2U",
        "outputId": "e540b868-f91c-4607-b984-36c87253acb6"
      },
      "source": [
        "plt.figure(figsize=(12,12))\n",
        "sns.heatmap(all_data_df.corr(), vmax=0.8, linewidths=0.5, fmt='.2f', square=True, annot=True, cmap='YlGnBu',linecolor=\"white\");"
      ],
      "execution_count": null,
      "outputs": [
        {
          "output_type": "display_data",
          "data": {
            "image/png": "[encoded data removed]",
            "text/plain": [
              "<Figure size 864x864 with 2 Axes>"
            ]
          },
          "metadata": {
            "tags": []
          }
        }
      ]
    },
    {
      "cell_type": "markdown",
      "metadata": {
        "id": "s4cS9_IPeFi-"
      },
      "source": [
        "## Split Train and Test Data\n",
        "\n",
        "I need to divide the data  into train and test data based on the original splits, then seperate the features and the labels."
      ]
    },
    {
      "cell_type": "code",
      "metadata": {
        "id": "Uh2baGzhJmxz"
      },
      "source": [
        "# Split data into train and test and separate labels from features\n",
        "x_train, y_train, x_test, y_test = tja.split_data(all_data_df, 'Survived', 'Train')"
      ],
      "execution_count": null,
      "outputs": []
    },
    {
      "cell_type": "markdown",
      "metadata": {
        "id": "6l4y-tRnubrJ"
      },
      "source": [
        "# 5. Machine Learning"
      ]
    },
    {
      "cell_type": "markdown",
      "metadata": {
        "id": "W65LP9LThrQq"
      },
      "source": [
        "## Neural Net Model\n",
        "I will use keras to build a neural net. "
      ]
    },
    {
      "cell_type": "code",
      "metadata": {
        "id": "0lqhYybUhp1D"
      },
      "source": [
        "import keras\n",
        "from keras.models import Sequential\n",
        "from keras.layers import Dense"
      ],
      "execution_count": null,
      "outputs": []
    },
    {
      "cell_type": "code",
      "metadata": {
        "colab": {
          "base_uri": "https://localhost:8080/"
        },
        "id": "JivnLFlyhMI0",
        "outputId": "524a0baf-92e5-435e-91ef-0b5889592fb8"
      },
      "source": [
        "# Create a Neural Net model\n",
        "model = Sequential()\n",
        "\n",
        "# Add layers\n",
        "model.add(Dense(5, input_dim = 13, activation=\"relu\"))\n",
        "model.add(Dense(9, activation=\"relu\"))\n",
        "model.add(Dense(9, activation=\"relu\"))\n",
        "model.add(Dense(1, activation=\"sigmoid\"))\n",
        "\n",
        "# Compile the Neural Net\n",
        "model.compile(loss=\"binary_crossentropy\", optimizer=\"adam\", metrics=[\"accuracy\"])\n",
        "\n",
        "# Train the model\n",
        "model.fit(x_train, y_train, epochs=30, batch_size=16)"
      ],
      "execution_count": null,
      "outputs": [
        {
          "output_type": "stream",
          "text": [
            "Epoch 1/30\n",
            "56/56 [==============================] - 1s 1ms/step - loss: 0.6452 - accuracy: 0.6074\n",
            "Epoch 2/30\n",
            "56/56 [==============================] - 0s 1ms/step - loss: 0.5909 - accuracy: 0.6147\n",
            "Epoch 3/30\n",
            "56/56 [==============================] - 0s 1ms/step - loss: 0.5714 - accuracy: 0.6200\n",
            "Epoch 4/30\n",
            "56/56 [==============================] - 0s 1ms/step - loss: 0.5120 - accuracy: 0.7183\n",
            "Epoch 5/30\n",
            "56/56 [==============================] - 0s 1ms/step - loss: 0.4916 - accuracy: 0.8160\n",
            "Epoch 6/30\n",
            "56/56 [==============================] - 0s 2ms/step - loss: 0.4602 - accuracy: 0.8209\n",
            "Epoch 7/30\n",
            "56/56 [==============================] - 0s 1ms/step - loss: 0.4584 - accuracy: 0.8216\n",
            "Epoch 8/30\n",
            "56/56 [==============================] - 0s 2ms/step - loss: 0.4763 - accuracy: 0.8145\n",
            "Epoch 9/30\n",
            "56/56 [==============================] - 0s 1ms/step - loss: 0.4356 - accuracy: 0.8492\n",
            "Epoch 10/30\n",
            "56/56 [==============================] - 0s 1ms/step - loss: 0.4129 - accuracy: 0.8542\n",
            "Epoch 11/30\n",
            "56/56 [==============================] - 0s 1ms/step - loss: 0.4006 - accuracy: 0.8467\n",
            "Epoch 12/30\n",
            "56/56 [==============================] - 0s 1ms/step - loss: 0.3998 - accuracy: 0.8488\n",
            "Epoch 13/30\n",
            "56/56 [==============================] - 0s 2ms/step - loss: 0.4082 - accuracy: 0.8494\n",
            "Epoch 14/30\n",
            "56/56 [==============================] - 0s 1ms/step - loss: 0.3885 - accuracy: 0.8569\n",
            "Epoch 15/30\n",
            "56/56 [==============================] - 0s 1ms/step - loss: 0.4147 - accuracy: 0.8392\n",
            "Epoch 16/30\n",
            "56/56 [==============================] - 0s 1ms/step - loss: 0.3804 - accuracy: 0.8583\n",
            "Epoch 17/30\n",
            "56/56 [==============================] - 0s 1ms/step - loss: 0.3953 - accuracy: 0.8433\n",
            "Epoch 18/30\n",
            "56/56 [==============================] - 0s 1ms/step - loss: 0.3654 - accuracy: 0.8582\n",
            "Epoch 19/30\n",
            "56/56 [==============================] - 0s 1ms/step - loss: 0.4042 - accuracy: 0.8302\n",
            "Epoch 20/30\n",
            "56/56 [==============================] - 0s 1ms/step - loss: 0.3538 - accuracy: 0.8657\n",
            "Epoch 21/30\n",
            "56/56 [==============================] - 0s 1ms/step - loss: 0.4166 - accuracy: 0.8244\n",
            "Epoch 22/30\n",
            "56/56 [==============================] - 0s 1ms/step - loss: 0.3637 - accuracy: 0.8624\n",
            "Epoch 23/30\n",
            "56/56 [==============================] - 0s 1ms/step - loss: 0.3988 - accuracy: 0.8281\n",
            "Epoch 24/30\n",
            "56/56 [==============================] - 0s 1ms/step - loss: 0.4134 - accuracy: 0.8285\n",
            "Epoch 25/30\n",
            "56/56 [==============================] - 0s 1ms/step - loss: 0.3772 - accuracy: 0.8480\n",
            "Epoch 26/30\n",
            "56/56 [==============================] - 0s 2ms/step - loss: 0.3918 - accuracy: 0.8327\n",
            "Epoch 27/30\n",
            "56/56 [==============================] - 0s 1ms/step - loss: 0.3985 - accuracy: 0.8252\n",
            "Epoch 28/30\n",
            "56/56 [==============================] - 0s 1ms/step - loss: 0.4032 - accuracy: 0.8448\n",
            "Epoch 29/30\n",
            "56/56 [==============================] - 0s 1ms/step - loss: 0.3815 - accuracy: 0.8334\n",
            "Epoch 30/30\n",
            "56/56 [==============================] - 0s 1ms/step - loss: 0.3971 - accuracy: 0.8545\n"
          ],
          "name": "stdout"
        },
        {
          "output_type": "execute_result",
          "data": {
            "text/plain": [
              "<tensorflow.python.keras.callbacks.History at 0x7f5ba31954e0>"
            ]
          },
          "metadata": {
            "tags": []
          },
          "execution_count": 58
        }
      ]
    },
    {
      "cell_type": "code",
      "metadata": {
        "colab": {
          "base_uri": "https://localhost:8080/"
        },
        "id": "rj5GpKDZnPng",
        "outputId": "cd38ac85-0cd9-46fb-a012-a1e867fac4f6"
      },
      "source": [
        "# Evaluate the model on the test data\n",
        "print(f\"Accuracy: {model.evaluate(x_test, y_test)[1]*100}\")"
      ],
      "execution_count": null,
      "outputs": [
        {
          "output_type": "stream",
          "text": [
            "12/12 [==============================] - 0s 1ms/step - loss: 0.5921 - accuracy: 0.7493\n",
            "Accuracy: 74.93112683296204\n"
          ],
          "name": "stdout"
        }
      ]
    }
  ]
}